{
 "cells": [
  {
   "cell_type": "markdown",
   "metadata": {},
   "source": [
    "## Set Up Environment"
   ]
  },
  {
   "cell_type": "code",
   "execution_count": null,
   "metadata": {},
   "outputs": [],
   "source": [
    "# Cell 0\n",
    "# If at all possible please test locally or on the private tbears server. The Testnet\n",
    "# is becoming cluttered with many deployments of Balanced contracts.\n",
    "# Note that running on the private tbears server will require the number of top P-Reps \n",
    "# be set to 4 in the staking contract or it will fail to deploy.\n",
    "\n",
    "network = \"custom\"  # set this to one of mainnet, yeouido, euljiro, pagoda, or custom\n",
    "\n",
    "connections = {\n",
    "\"mainnet\": {\"iconservice\": \"https://ctz.solidwallet.io\",       \"nid\": 1},\n",
    "\"yeouido\": {\"iconservice\": \"https://bicon.net.solidwallet.io\", \"nid\": 3},\n",
    "\"gangnam\": {\"iconservice\": \"https://gicon.net.solidwallet.io\", \"nid\": 3},\n",
    "\"hannam\": {\"iconservice\": \"https://hannam.net.solidwallet.io\", \"nid\": 3},\n",
    "\"euljiro\": {\"iconservice\": \"https://test-ctz.solidwallet.io\",  \"nid\": 2},\n",
    "\"pagoda\":  {\"iconservice\": \"https://zicon.net.solidwallet.io\", \"nid\":80},\n",
    "\"custom\":  {\"iconservice\": \"http://18.144.108.38:9000\",        \"nid\": 3}}\n",
    "\n",
    "env = connections[network]"
   ]
  },
  {
   "cell_type": "code",
   "execution_count": null,
   "metadata": {},
   "outputs": [],
   "source": [
    "# Cell 1\n",
    "\n",
    "from iconsdk.exception import JSONRPCException\n",
    "from iconsdk.libs.in_memory_zip import gen_deploy_data_content\n",
    "from iconsdk.icon_service import IconService\n",
    "from iconsdk.providers.http_provider import HTTPProvider\n",
    "from iconsdk.builder.transaction_builder import CallTransactionBuilder, TransactionBuilder, DeployTransactionBuilder\n",
    "from iconsdk.builder.call_builder import CallBuilder\n",
    "from iconsdk.signed_transaction import SignedTransaction\n",
    "from iconsdk.wallet.wallet import KeyWallet\n",
    "from iconsdk.utils.convert_type import convert_hex_str_to_int\n",
    "from repeater import retry\n",
    "from shutil import make_archive\n",
    "import pickle as pkl\n",
    "from datetime import datetime\n",
    "from time import sleep\n",
    "import json\n",
    "import os\n",
    "\n",
    "ICX = 1000000000000000000 # 10**18\n",
    "GOVERNANCE_ADDRESS = \"cx0000000000000000000000000000000000000000\"\n",
    "TEST_ORACLE = \"cx61a36e5d10412e03c907a507d1e8c6c3856d9964\"\n",
    "MAIN_ORACLE = \"cxe647e0af68a4661566f5e9861ad4ac854de808a2\"\n",
    "BALANCED_TEST = \"hx3f01840a599da07b0f620eeae7aa9c574169a4be\"\n",
    "\n",
    "@retry(JSONRPCException, tries=10, delay=1, back_off=2)\n",
    "def get_tx_result(_tx_hash):\n",
    "    tx_result = icon_service.get_transaction_result(_tx_hash)\n",
    "    return tx_result"
   ]
  },
  {
   "cell_type": "code",
   "execution_count": null,
   "metadata": {},
   "outputs": [],
   "source": [
    "# Cell 2\n",
    "\n",
    "icon_service = IconService(HTTPProvider(env[\"iconservice\"], 3))\n",
    "NID = env[\"nid\"]"
   ]
  },
  {
   "cell_type": "code",
   "execution_count": null,
   "metadata": {},
   "outputs": [],
   "source": [
    "# Cell 3\n",
    "\n",
    "wallet = KeyWallet.load(\"keystores/keystore_test1.json\", \"test1_Account\")\n",
    "# Balanced test wallet\n",
    "with open(\"keystores/balanced_test.pwd\", \"r\") as f:\n",
    "    key_data = f.read()\n",
    "btest_wallet = KeyWallet.load(\"keystores/balanced_test.json\", key_data)\n",
    "with open(\"keystores/staking_test.pwd\", \"r\") as f:\n",
    "    key_data = f.read()\n",
    "staking_wallet = KeyWallet.load(\"keystores/staking_test.json\", key_data)"
   ]
  },
  {
   "cell_type": "code",
   "execution_count": null,
   "metadata": {},
   "outputs": [],
   "source": [
    "print(wallet.get_address())\n",
    "print(icon_service.get_balance(wallet.get_address()) / 10**18)"
   ]
  },
  {
   "cell_type": "code",
   "execution_count": null,
   "metadata": {},
   "outputs": [],
   "source": [
    "print(btest_wallet.get_address())\n",
    "print(icon_service.get_balance(btest_wallet.get_address()) / 10**18)"
   ]
  },
  {
   "cell_type": "markdown",
   "metadata": {},
   "source": [
    "### Send ICX to Balanced test wallet"
   ]
  },
  {
   "cell_type": "code",
   "execution_count": null,
   "metadata": {},
   "outputs": [],
   "source": [
    "# Cell 4\n",
    "# Only necessary if running locally or on the private tbears server\n",
    "# for the first time since reinitializing.\n",
    "\n",
    "# send_icx(wallets[20].get_address(), 2000 * ICX, btest_wallet)\n",
    "\n",
    "# transaction = TransactionBuilder()\\\n",
    "#     .from_(wallet.get_address())\\\n",
    "#     .to(btest_wallet.get_address())\\\n",
    "#     .value(1000000 * ICX)\\\n",
    "#     .step_limit(1000000) \\\n",
    "#     .nid(NID) \\\n",
    "#     .nonce(2) \\\n",
    "#     .version(3) \\\n",
    "#     .build()\n",
    "# signed_transaction = SignedTransaction(transaction, wallet)\n",
    "# tx_hash = icon_service.send_transaction(signed_transaction)\n",
    "# tx_hash"
   ]
  },
  {
   "cell_type": "markdown",
   "metadata": {},
   "source": [
    "### Deployment"
   ]
  },
  {
   "cell_type": "code",
   "execution_count": null,
   "metadata": {},
   "outputs": [],
   "source": [
    "# Cell 5\n",
    "# The following addresses are those deployed to the mainnet.\n",
    "\n",
    "contracts = {'loans': {'zip': 'core_contracts/loans.zip',\n",
    "  'SCORE': 'cxdecbaa604d3233ab072ba3598c9c81e5265d5b57'},\n",
    " 'staking': {'zip': 'core_contracts/staking.zip',\n",
    "  'SCORE': 'cx4fe6725e55c5ca7fa6ac1292e4f6aef7e711ef93'},\n",
    " 'dividends': {'zip': 'core_contracts/dividends.zip',\n",
    "  'SCORE': 'cx04089f11f23a744c36bd7ecb64a7c2a34b18338c'},\n",
    " 'reserve': {'zip': 'core_contracts/reserve.zip',\n",
    "  'SCORE': 'cxf08feef38a95d7acae4df4f52edf346b08b18263'},\n",
    " 'daofund': {'zip': 'core_contracts/daofund.zip',\n",
    "  'SCORE': 'cx54ce6deefda2f3399d11c7d3c49fcf226a636639'},\n",
    " 'rewards': {'zip': 'core_contracts/rewards.zip',\n",
    "  'SCORE': 'cx9b3ed258d3e5c04aa27aa8f067ed094fe8a86ab8'},\n",
    " 'dex': {'zip': 'core_contracts/dex.zip',\n",
    "  'SCORE': 'cx83335ea1d8cf8bf58a6ffac88bf2d22b93a1ca39'},\n",
    " 'governance': {'zip': 'core_contracts/governance.zip',\n",
    "  'SCORE': 'cx21fca56706c614894a36721a69a73b2034f4ad43'},\n",
    " 'oracle': {'zip': 'core_contracts/oracle.zip',\n",
    "  'SCORE': 'cxe647e0af68a4661566f5e9861ad4ac854de808a2'},\n",
    " 'sicx': {'zip': 'token_contracts/sicx.zip',\n",
    "  'SCORE': 'cx8ad02ea2cf937743d8ea51d211ccfdbe8cd177fd'},\n",
    " 'bnUSD': {'zip': 'token_contracts/bnUSD.zip',\n",
    "  'SCORE': 'cx8c93d1f62dea3bbbaa5efc72611b9cf778882cd6'},\n",
    " 'baln': {'zip': 'token_contracts/baln.zip',\n",
    "  'SCORE': 'cxb444ad6f5c866c4a30eb13a85067ad07cd31de62'},\n",
    " 'bwt': {'zip': 'token_contracts/bwt.zip',\n",
    "  'SCORE': 'cxc8c81227ca4b1f6792c4e173620e4000ed8d326e'}}"
   ]
  },
  {
   "cell_type": "code",
   "execution_count": null,
   "metadata": {},
   "outputs": [],
   "source": [
    "# Cell 5\n",
    "# The following addresses are those deployed to the testnet.\n",
    "\n",
    "contracts = {'loans': {'zip': 'core_contracts/loans.zip',\n",
    "  'SCORE': 'cx1c4051c72647b8da32f128d2034e10c36a746519'},\n",
    " 'staking': {'zip': 'core_contracts/staking.zip',\n",
    "  'SCORE': 'cxa9f43524798efbdab0533d8bbbd6ccc68b879b59'},\n",
    " 'dividends': {'zip': 'core_contracts/dividends.zip',\n",
    "  'SCORE': 'cx7cd77844be7e1a5daf387524956acb80c9dc4ec3'},\n",
    " 'reserve': {'zip': 'core_contracts/reserve.zip',\n",
    "  'SCORE': 'cx25e6ad96e337d35687ab5c607db06c7e4a88cb6a'},\n",
    " 'daofund': {'zip': 'core_contracts/daofund.zip',\n",
    "  'SCORE': 'cx71fe767de1463679e2c8c5d4c48511fec43b8f31'},\n",
    " 'rewards': {'zip': 'core_contracts/rewards.zip',\n",
    "  'SCORE': 'cx281480a9e2af76f2f2601db0a76b7639d1f837a5'},\n",
    " 'dex': {'zip': 'core_contracts/dex.zip',\n",
    "  'SCORE': 'cxf81975ac3018efcd1fe37582651c488f0ed3aa3c'},\n",
    " 'governance': {'zip': 'core_contracts/governance.zip',\n",
    "  'SCORE': 'cxc3b5b44416dbca743ebc03aad96e92682ac5d22a'},\n",
    " 'oracle': {'zip': 'core_contracts/oracle.zip',\n",
    "  'SCORE': 'cx61a36e5d10412e03c907a507d1e8c6c3856d9964'},\n",
    " 'sicx': {'zip': 'token_contracts/sicx.zip',\n",
    "  'SCORE': 'cxdf78ef450c2c66ae1378544934bfc71b7fdc68a7'},\n",
    " 'bnUSD': {'zip': 'token_contracts/bnUSD.zip',\n",
    "  'SCORE': 'cx2b8e6ce62ebd9acab61c67d4d3f1c9106f4f55c8'},\n",
    " 'bnXLM': {'zip': 'token_contracts/bnXLM.zip',\n",
    "  'SCORE': 'cx9d4b76f6d4c779421d7d9dde0f634d67c46562ab'},\n",
    " 'bnDOGE': {'zip': 'token_contracts/bnDOGE.zip',\n",
    "  'SCORE': 'cxcaeed075ba3b0d9080129d838b6bfdb6fb23ec92'},\n",
    " 'baln': {'zip': 'token_contracts/baln.zip',\n",
    "  'SCORE': 'cxd2b3caab41b64991ba736b557ecffa775726dc28'},\n",
    " 'bwt': {'zip': 'token_contracts/bwt.zip',\n",
    "  'SCORE': 'cxeb1879e7fbeba5c845b629eb15e81edafc4223d1'}}"
   ]
  },
  {
   "cell_type": "code",
   "execution_count": null,
   "metadata": {},
   "outputs": [],
   "source": [
    "# Cell 5a\n",
    "# The following addresses are those deployed to the private tbears server.\n",
    "\n",
    "contracts = {'loans': {'zip': 'core_contracts/loans.zip',\n",
    "  'SCORE': 'cxa0f715fb2c4bc8f4c6399c2cc26167a27be0aa61'},\n",
    " 'staking': {'zip': 'core_contracts/staking.zip',\n",
    "  'SCORE': 'cxbabed822d59b605dbeb6322735c529b292baac3b'},\n",
    " 'dividends': {'zip': 'core_contracts/dividends.zip',\n",
    "  'SCORE': 'cx1379084f45776301abda3849c6e374f460ee0155'},\n",
    " 'reserve': {'zip': 'core_contracts/reserve.zip',\n",
    "  'SCORE': 'cx71dda2221bf88faddc8f84b72ffd6db296e5609e'},\n",
    " 'daofund': {'zip': 'core_contracts/daofund.zip',\n",
    "  'SCORE': 'cxfd09787f23d23b945fa0c7eb55b5aa69425da1c8'},\n",
    " 'rewards': {'zip': 'core_contracts/rewards.zip',\n",
    "  'SCORE': 'cx27aa3bf62145822e60d85fa5d18dabdcff5b9ada'},\n",
    " 'dex': {'zip': 'core_contracts/dex.zip',\n",
    "  'SCORE': 'cx01eee12b6614e5328e0a84261652cb7f055e0176'},\n",
    " 'governance': {'zip': 'core_contracts/governance.zip',\n",
    "  'SCORE': 'cxd7b3e71dcff3d75392216e208f28ef68e8a54ec0'},\n",
    " 'oracle': {'zip': 'core_contracts/oracle.zip',\n",
    "  'SCORE': 'cxed97bdb35a7ca1b3993e400e4dba9e11610338f7'},\n",
    " 'sicx': {'zip': 'token_contracts/sicx.zip',\n",
    "  'SCORE': 'cx799f724e02560a762b5f2bd3b6d2d8d59d7aecc1'},\n",
    " 'bnUSD': {'zip': 'token_contracts/bnUSD.zip',\n",
    "  'SCORE': 'cx266bdc0c35828c8130cdf1cbaa3ad109f7694722'},\n",
    " 'bnXLM': {'zip': 'token_contracts/bnXLM.zip',\n",
    "  'SCORE': 'cx266bdc0c35828c8130cdf1cbaa3ad109f7694722'},\n",
    " 'bnDOGE': {'zip': 'token_contracts/bnDOGE.zip',\n",
    "  'SCORE': 'cx266bdc0c35828c8130cdf1cbaa3ad109f7694722'},\n",
    " 'baln': {'zip': 'token_contracts/baln.zip',\n",
    "  'SCORE': 'cx4d0768508a7ff550de4405f27aebfb8831565c19'},\n",
    " 'bwt': {'zip': 'token_contracts/bwt.zip',\n",
    "  'SCORE': 'cx663f9d59163846d9f6c6f7b586858c59aa8878a9'}}"
   ]
  },
  {
   "cell_type": "code",
   "execution_count": null,
   "metadata": {},
   "outputs": [],
   "source": [
    "print(json.dumps({contract: contracts[contract]['SCORE'] for contract in contracts}))"
   ]
  },
  {
   "cell_type": "code",
   "execution_count": null,
   "metadata": {},
   "outputs": [],
   "source": [
    "for score in contracts:\n",
    "    contracts[score]['SCORE'] = {\"loans\": \"cx1c4051c72647b8da32f128d2034e10c36a746519\", \"staking\": \"cxa9f43524798efbdab0533d8bbbd6ccc68b879b59\", \"dividends\": \"cx7cd77844be7e1a5daf387524956acb80c9dc4ec3\", \"reserve\": \"cx25e6ad96e337d35687ab5c607db06c7e4a88cb6a\", \"daofund\": \"cx71fe767de1463679e2c8c5d4c48511fec43b8f31\", \"rewards\": \"cx281480a9e2af76f2f2601db0a76b7639d1f837a5\", \"dex\": \"cxf81975ac3018efcd1fe37582651c488f0ed3aa3c\", \"governance\": \"cxc3b5b44416dbca743ebc03aad96e92682ac5d22a\", \"oracle\": \"cx61a36e5d10412e03c907a507d1e8c6c3856d9964\", \"sicx\": \"cxdf78ef450c2c66ae1378544934bfc71b7fdc68a7\", \"bnUSD\": \"cx2b8e6ce62ebd9acab61c67d4d3f1c9106f4f55c8\", \"bnXLM\": \"cx9d4b76f6d4c779421d7d9dde0f634d67c46562ab\", \"bnDOGE\": \"cxcaeed075ba3b0d9080129d838b6bfdb6fb23ec92\", \"baln\": \"cxd2b3caab41b64991ba736b557ecffa775726dc28\", \"bwt\": \"cxeb1879e7fbeba5c845b629eb15e81edafc4223d1\"}[score]\n",
    "    contracts"
   ]
  },
  {
   "cell_type": "markdown",
   "metadata": {},
   "source": [
    "## Deploy All SCOREs"
   ]
  },
  {
   "cell_type": "code",
   "execution_count": null,
   "metadata": {},
   "outputs": [],
   "source": [
    "# Cell 6\n",
    "# Define deploy and send_tx functions\n",
    "\n",
    "def send_icx(to, amount, wallet):\n",
    "    transaction = TransactionBuilder()\\\n",
    "        .from_(wallet.get_address())\\\n",
    "        .to(to)\\\n",
    "        .value(amount)\\\n",
    "        .step_limit(1000000) \\\n",
    "        .nid(NID) \\\n",
    "        .nonce(2) \\\n",
    "        .version(3) \\\n",
    "        .build()\n",
    "    signed_transaction = SignedTransaction(transaction, wallet)\n",
    "    return icon_service.send_transaction(signed_transaction)\n",
    "\n",
    "\n",
    "def compress():\n",
    "    \"\"\"\n",
    "    Compress all SCORE folders in the core_contracts and token_contracts folders.\n",
    "    Make sure the oracle address is correct.\n",
    "    \"\"\"\n",
    "    deploy = list(contracts.keys())[:]\n",
    "    for directory in {\"core_contracts\", \"token_contracts\"}:\n",
    "        with os.scandir(directory) as it:\n",
    "            for file in it:\n",
    "                archive_name = directory + \"/\" + file.name\n",
    "                if file.is_dir() and file.name in deploy:\n",
    "                    make_archive(archive_name, \"zip\", directory, file.name)\n",
    "                    contracts[file.name]['zip'] = archive_name + '.zip'\n",
    "    if network == \"yeouido\":\n",
    "        contracts['oracle']['SCORE'] = TEST_ORACLE\n",
    "    elif network == \"mainnet\":\n",
    "        contracts['oracle']['SCORE'] = MAIN_ORACLE\n",
    "                    \n",
    "\n",
    "def deploy_SCORE(contract, params, wallet, update) -> str:\n",
    "    \"\"\"\n",
    "    contract is of form {'zip': 'core_contracts/governance.zip', 'SCORE': 'cx1d81f93b3b8d8d2a6455681c46128868782ddd09'}\n",
    "    params is a dicts\n",
    "    wallet is a wallet file\n",
    "    update is boolian\n",
    "    \"\"\"\n",
    "    print(f'{contract[\"zip\"]}')\n",
    "    if update:\n",
    "        dest = contract['SCORE']\n",
    "    else:\n",
    "        dest = GOVERNANCE_ADDRESS\n",
    "    zip_file = contract['zip']\n",
    "    step_limit = 3000000000\n",
    "    deploy_transaction = DeployTransactionBuilder()\\\n",
    "        .from_(wallet.get_address())\\\n",
    "        .to(dest)\\\n",
    "        .nid(NID)\\\n",
    "        .nonce(100)\\\n",
    "        .content_type(\"application/zip\")\\\n",
    "        .content(gen_deploy_data_content(zip_file))\\\n",
    "        .params(params)\\\n",
    "        .build()\n",
    "\n",
    "    signed_transaction = SignedTransaction(deploy_transaction, wallet, step_limit)\n",
    "    tx_hash = icon_service.send_transaction(signed_transaction)\n",
    "\n",
    "    res = get_tx_result(tx_hash)\n",
    "    print(f'Status: {res[\"status\"]}')\n",
    "    if len(res[\"eventLogs\"]) > 0:\n",
    "        for item in res[\"eventLogs\"]:\n",
    "            print(f'{item} \\n')\n",
    "    if res['status'] == 0:\n",
    "        print(f'Failure: {res[\"failure\"]}')\n",
    "    print('')\n",
    "    return res\n",
    "\n",
    "def send_tx(dest, value, method, params, wallet, _print = True):\n",
    "    \"\"\"\n",
    "    dest is the name of the destination contract.\n",
    "    \"\"\"\n",
    "    if _print:\n",
    "        print('------------------------------------------------------------------------------------------------------------------')\n",
    "        print(f'Calling {method}, with parameters {params} on the {dest} contract.')\n",
    "        print('------------------------------------------------------------------------------------------------------------------')\n",
    "    transaction = CallTransactionBuilder()\\\n",
    "        .from_(wallet.get_address())\\\n",
    "        .to(contracts[dest]['SCORE'])\\\n",
    "        .value(value)\\\n",
    "        .step_limit(10000000)\\\n",
    "        .nid(NID)\\\n",
    "        .nonce(100)\\\n",
    "        .method(method)\\\n",
    "        .params(params)\\\n",
    "        .build()\n",
    "    signed_transaction = SignedTransaction(transaction, wallet)\n",
    "    tx_hash = icon_service.send_transaction(signed_transaction)\n",
    "\n",
    "    res = get_tx_result(tx_hash)\n",
    "    if _print:\n",
    "        print(f'************************************************** Status: {res[\"status\"]} **************************************************')\n",
    "    if len(res[\"eventLogs\"]) > 0:\n",
    "        for item in res[\"eventLogs\"]:\n",
    "            print(f'{item} \\n')\n",
    "    if res['status'] == 0:\n",
    "        if _print:\n",
    "            print(f'Failure: {res[\"failure\"]}')\n",
    "    return res\n",
    "\n",
    "def deploy_all(wallet, staking_wallet):\n",
    "    \"\"\"\n",
    "    Compress and Deploy all SCOREs.\n",
    "    \"\"\"\n",
    "    compress()\n",
    "\n",
    "    deploy = list(contracts.keys())[:]\n",
    "    deploy.remove('oracle')\n",
    "    deploy.remove('staking')\n",
    "    deploy.remove('sicx')\n",
    "    deploy.remove('governance')\n",
    "    if network == \"mainnet\":\n",
    "        deploy.remove('bnXLM')\n",
    "        deploy.remove('bnDOGE')\n",
    "\n",
    "    results = {}\n",
    "    res = deploy_SCORE(contracts['governance'], {}, wallet, 0)\n",
    "    results[f'{contracts[\"governance\"]}|deploy|{{}}'] = res\n",
    "    governance = res.get('scoreAddress', '')\n",
    "    contracts['governance']['SCORE'] = governance\n",
    "    params = {'_governance': governance}\n",
    "    for score in deploy:\n",
    "        res = deploy_SCORE(contracts[score], params, wallet, 0)\n",
    "        results[f'{contracts[score]}|deploy|{params}'] = res\n",
    "        contracts[score]['SCORE'] = res.get('scoreAddress', '')\n",
    "\n",
    "    res = deploy_SCORE(contracts['staking'], {}, staking_wallet, 0)\n",
    "    results[f'{contracts[\"staking\"]}|deploy|{{}}'] = res\n",
    "    contracts['staking']['SCORE'] = res.get('scoreAddress', '')\n",
    "\n",
    "    params = {'_admin': contracts['staking']['SCORE']}\n",
    "    res = deploy_SCORE(contracts['sicx'], params, staking_wallet, 0)\n",
    "    results[f'{contracts[\"sicx\"]}|deploy|{params}'] = res\n",
    "    contracts['sicx']['SCORE'] = res.get('scoreAddress', '')\n",
    "    \n",
    "    return results\n",
    "\n",
    "    \n",
    "def config_balanced(wallet, staking_wallet):\n",
    "    \"\"\"\n",
    "    Configure all SCOREs before launch.\n",
    "    \"\"\"\n",
    "    config = list(contracts.keys())[:]\n",
    "    config.remove('governance')\n",
    "    config.remove('bnDOGE')\n",
    "    config.remove('bnXLM')\n",
    "    addresses = {contract: contracts[contract]['SCORE'] for contract in config}\n",
    "    txns = [{'contract': 'governance', 'value': 0, 'method': 'setAddresses', 'params': {'_addresses': addresses}, 'wallet': wallet},\n",
    "            {'contract': 'staking', 'value': 0, 'method': 'setSicxAddress', 'params': {'_address': contracts['sicx']['SCORE']}, 'wallet': staking_wallet},\n",
    "            {'contract': 'governance', 'value': 0, 'method': 'configureBalanced', 'params': {}, 'wallet': wallet}]\n",
    "\n",
    "    results = {}\n",
    "    for tx in txns:\n",
    "        res = send_tx(tx[\"contract\"], tx[\"value\"], tx[\"method\"], tx[\"params\"], tx[\"wallet\"])\n",
    "        results[f'{tx[\"contract\"]}|{tx[\"method\"]}|{tx[\"params\"]}'] = res\n",
    "\n",
    "    return results\n",
    "\n",
    "def launch_balanced(wallet, staking_wallet):\n",
    "    \"\"\"\n",
    "    Launch Balanced, turn on staking management, and set delegation for sICX on the Loans contract.\n",
    "    \"\"\"\n",
    "    if network == \"custom\":\n",
    "        preps = {\n",
    "            \"hx9eec61296a7010c867ce24c20e69588e2832bc52\",  # ICX Station\n",
    "            \"hx000e0415037ae871184b2c7154e5924ef2bc075e\"}  # iBriz-ICONOsphere\n",
    "    elif network == \"yeouido\":\n",
    "        preps = {\n",
    "            \"hx23823847f593ecb65c9e1ea81a789b02766280e8\",  # ICX Station\n",
    "            \"hxe0cde6567eb6529fe31b0dc2f2697af84847f321\",  # iBriz-ICONOsphere\n",
    "            \"hx83c0fc2bcac7ecb3928539e0256e29fc371b5078\",  # Mousebelt\n",
    "            \"hx48b4636e84d8c491c88c18b65dceb7598c4600cc\",  # Parrot 9\n",
    "            \"hxb4e90a285a79687ec148c29faabe6f71afa8a066\"}  # ICONDAO\n",
    "    elif network == \"mainnet\":\n",
    "        preps = {\n",
    "            \"\",  # ICX Station\n",
    "            \"\",  # iBriz-ICONOsphere\n",
    "            \"\",  # Mousebelt\n",
    "            \"\",  # Parrot 9\n",
    "            \"\"}  # ICONDAO\n",
    "    else:\n",
    "        return\n",
    "\n",
    "    txns = [{'contract': 'governance', 'value': 0, 'method': 'launchBalanced', 'params': {}, 'wallet': wallet},\n",
    "            {'contract': 'staking', 'value': 0, 'method': 'toggleStakingOn', 'params': {}, 'wallet': staking_wallet},\n",
    "            {'contract': 'governance', 'value': 0, 'method': 'delegate', 'params': {'_delegations': [{'_address': prep, '_votes_in_per': 100 * ICX // len(preps)} for prep in preps]}, 'wallet': wallet}]\n",
    "\n",
    "    results = {}\n",
    "    for tx in txns:\n",
    "        res = send_tx(tx[\"contract\"], tx[\"value\"], tx[\"method\"], tx[\"params\"], tx[\"wallet\"])\n",
    "        results[f'{tx[\"contract\"]}|{tx[\"method\"]}|{tx[\"params\"]}'] = res\n",
    "\n",
    "    return results\n",
    "   \n",
    "\n",
    "def get_scores_json(contracts):\n",
    "    \"\"\"\n",
    "    Prints out dictionary of SCORE addresses for use in testing UI.\n",
    "    \"\"\"\n",
    "    scores = {}\n",
    "    for score in contracts:\n",
    "        scores[score] = contracts[score]['SCORE']\n",
    "    return json.dumps(scores)\n",
    "\n",
    "def call_tx(dest: str, method: str, params: dict = {}, _print = True):\n",
    "    \"\"\"\n",
    "    dest is the name of the destination contract.\n",
    "    \"\"\"\n",
    "    if _print:\n",
    "        print('------------------------------------------------------------------------------------------------------------------')\n",
    "        print(f'Reading {method}, with parameters {params} on the {dest} contract.')\n",
    "        print('------------------------------------------------------------------------------------------------------------------')\n",
    "    call = CallBuilder()\\\n",
    "        .from_(wallet.get_address())\\\n",
    "        .to(contracts[dest]['SCORE'])\\\n",
    "        .method(method)\\\n",
    "        .params(params)\\\n",
    "        .build()\n",
    "    result = icon_service.call(call)\n",
    "    if _print:\n",
    "        print(result)\n",
    "    return result\n"
   ]
  },
  {
   "cell_type": "code",
   "execution_count": null,
   "metadata": {},
   "outputs": [],
   "source": [
    "# Cell 7\n",
    "# Deploy and configure Balanced. Print results if anything goes wrong.\n",
    "\n",
    "if network == 'custom':\n",
    "    confirm = 'Yes'\n",
    "else:\n",
    "    confirm = input(f'Deploying Balanced to {network}. Proceed (Yes/No)? ')\n",
    "if confirm == 'Yes':\n",
    "    results = {}\n",
    "    deploy_all(btest_wallet, staking_wallet)\n",
    "    print('------------------------------------------------------------------------------------------------------------------')\n",
    "    print(contracts)\n",
    "    print('----------Contracts for Testing UI--------------------------------------------------------------------------------')\n",
    "    print(get_scores_json(contracts))"
   ]
  },
  {
   "cell_type": "code",
   "execution_count": null,
   "metadata": {},
   "outputs": [],
   "source": [
    "contracts = {'loans': {'zip': 'core_contracts/loans.zip',\n",
    "  'SCORE': 'cxdecbaa604d3233ab072ba3598c9c81e5265d5b57'},\n",
    " 'staking': {'zip': 'core_contracts/staking.zip',\n",
    "  'SCORE': 'cx4fe6725e55c5ca7fa6ac1292e4f6aef7e711ef93'},\n",
    " 'dividends': {'zip': 'core_contracts/dividends.zip',\n",
    "  'SCORE': 'cx04089f11f23a744c36bd7ecb64a7c2a34b18338c'},\n",
    " 'reserve': {'zip': 'core_contracts/reserve.zip',\n",
    "  'SCORE': 'cxf08feef38a95d7acae4df4f52edf346b08b18263'},\n",
    " 'daofund': {'zip': 'core_contracts/daofund.zip',\n",
    "  'SCORE': 'cx54ce6deefda2f3399d11c7d3c49fcf226a636639'},\n",
    " 'rewards': {'zip': 'core_contracts/rewards.zip',\n",
    "  'SCORE': 'cx9b3ed258d3e5c04aa27aa8f067ed094fe8a86ab8'},\n",
    " 'dex': {'zip': 'core_contracts/dex.zip',\n",
    "  'SCORE': 'cx83335ea1d8cf8bf58a6ffac88bf2d22b93a1ca39'},\n",
    " 'governance': {'zip': 'core_contracts/governance.zip',\n",
    "  'SCORE': 'cx21fca56706c614894a36721a69a73b2034f4ad43'},\n",
    " 'oracle': {'zip': 'core_contracts/oracle.zip',\n",
    "  'SCORE': 'cxe647e0af68a4661566f5e9861ad4ac854de808a2'},\n",
    " 'sicx': {'zip': 'token_contracts/sicx.zip',\n",
    "  'SCORE': 'cx8ad02ea2cf937743d8ea51d211ccfdbe8cd177fd'},\n",
    " 'bnUSD': {'zip': 'token_contracts/bnUSD.zip',\n",
    "  'SCORE': 'cx8c93d1f62dea3bbbaa5efc72611b9cf778882cd6'},\n",
    " 'baln': {'zip': 'token_contracts/baln.zip',\n",
    "  'SCORE': 'cxb444ad6f5c866c4a30eb13a85067ad07cd31de62'},\n",
    " 'bwt': {'zip': 'token_contracts/bwt.zip',\n",
    "  'SCORE': 'cxc8c81227ca4b1f6792c4e173620e4000ed8d326e'}}"
   ]
  },
  {
   "cell_type": "code",
   "execution_count": null,
   "metadata": {},
   "outputs": [],
   "source": [
    "# Cell 7a\n",
    "# Configure Balanced\n",
    "\n",
    "config_results = config_balanced(btest_wallet, staking_wallet)\n",
    "print(config_results)"
   ]
  },
  {
   "cell_type": "code",
   "execution_count": null,
   "metadata": {},
   "outputs": [],
   "source": [
    "# Cell 7b\n",
    "# Launch Balanced\n",
    "# We may want to make this a payable method and have the governance SCORE borrow bnUSD,\n",
    "# start and name the sICXbnUSD market, and add it as a rewards DataSource.\n",
    "\n",
    "launch_results = launch_balanced(btest_wallet, staking_wallet)\n",
    "print(launch_results)"
   ]
  },
  {
   "cell_type": "code",
   "execution_count": null,
   "metadata": {},
   "outputs": [],
   "source": [
    "# Cell 7c\n",
    "# Set up and fund sICX/bnUSD market\n",
    "\n",
    "send_tx('governance', 210 * ICX, 'createBnusdMarket', {}, btest_wallet)"
   ]
  },
  {
   "cell_type": "markdown",
   "metadata": {},
   "source": [
    "### Set up BALN/bnUSD Market\n",
    "Be sure to drive transactions to update to the next day before calling this."
   ]
  },
  {
   "cell_type": "code",
   "execution_count": null,
   "metadata": {},
   "outputs": [],
   "source": [
    "# Cell 7d\n",
    "# Set up and fund BALN/bnUSD market\n",
    "\n",
    "send_tx('governance', 0, 'createBalnMarket', {'_baln_price': 1}, btest_wallet)"
   ]
  },
  {
   "cell_type": "code",
   "execution_count": null,
   "metadata": {},
   "outputs": [],
   "source": [
    "# Cell 7d\n",
    "# Reset all addresses through governance.\n",
    "\n",
    "# addresses = {\n",
    "#     \"loans\": \"cx18bca2ee6b532af10f4c1effd9a8a0913eadb0f9\",\n",
    "#     \"staking\": \"cxe0fd24b4b01fdddc90036bffed6fc2205073b54e\",\n",
    "#     \"dividends\": \"cx95fa04a733f7592006aeb9e2f75f7c4357a2cb29\",\n",
    "#     \"reserve\": \"cxca92f493e7be93b4b3e6af01b93785f9cdeb7e51\",\n",
    "#     \"daofund\": \"cx50df32f524ab0e147e4741023454c1c20db41b41\",\n",
    "#     \"rewards\": \"cxf86c15aed06b6179fce797d253b0614cff812fb1\",\n",
    "#     \"dex\": \"cx43e5041f9fb553185c4c242a08af85c7bc68a377\",\n",
    "#     \"oracle\": \"cxed97bdb35a7ca1b3993e400e4dba9e11610338f7\",\n",
    "#     \"sicx\": \"cx0a068fab9d2d847d7f86af2d98b6d21ac4fcb40d\",\n",
    "#     \"bnUSD\": \"cxc7506c160573df5e6245e275bb18515db28098bf\",\n",
    "#     \"baln\": \"cx862f2bee29653d1f637b62e189eacf3331cbfc52\",\n",
    "#     \"bwt\": \"cxd5ea1fed7bd170bcec9ac50fba50d5b4f51590a0\"}\n",
    "\n",
    "# send_tx('governance', 0, 'setAddresses', {'_addresses': addresses}, btest_wallet)\n",
    "# send_tx('governance', 0, 'setAdmins', {}, btest_wallet)\n",
    "# send_tx('governance', 0, 'setContractAddresses', {}, btest_wallet)\n"
   ]
  },
  {
   "cell_type": "markdown",
   "metadata": {},
   "source": [
    "## Deploy or Update a single SCORE"
   ]
  },
  {
   "cell_type": "code",
   "execution_count": null,
   "metadata": {
    "scrolled": false
   },
   "outputs": [],
   "source": [
    "# Cell 8\n",
    "# Deploy or Update a single SCORE\n",
    "\n",
    "contract_name = 'governance'\n",
    "update = 1\n",
    "params = {}\n",
    "if update == 0:\n",
    "    params = {'_governance': contracts['governance']['SCORE']}\n",
    "\n",
    "compress()\n",
    "contract = contracts[contract_name]\n",
    "if network == 'custom':\n",
    "    confirm = 'Yes'\n",
    "else:\n",
    "    confirm = input(f'{\"Updating\" if update else \"Deploying\"} {contract_name} with params: {params} to {network}. Proceed (Yes/No)? ')\n",
    "if confirm == 'Yes':\n",
    "    res = deploy_SCORE(contract, params, btest_wallet, update)\n"
   ]
  },
  {
   "cell_type": "code",
   "execution_count": null,
   "metadata": {},
   "outputs": [],
   "source": [
    "# Update all\n",
    "\n",
    "compress()\n",
    "for contract in contracts:\n",
    "    deploy_SCORE(contract, {}, btest_wallet, 1)"
   ]
  },
  {
   "cell_type": "markdown",
   "metadata": {},
   "source": [
    "## Test of Typical Flow"
   ]
  },
  {
   "cell_type": "code",
   "execution_count": null,
   "metadata": {},
   "outputs": [],
   "source": [
    "# Cell 9\n",
    "# 1. staking.stakeICX() - Get 800 ICX worth of sICX from Staking\n",
    "# 2. loans.depositAndBorrow() - Deposit 800 ICX and Mint 50 bnUSD Loan\n",
    "# 3. loans.depositAndBorrow() - Just deposit 30 ICX collateral\n",
    "# 4. loans.depositAndBorrow() - Originate Loan of 10 bnUSD\n",
    "# 5. loans.returnAsset() - Repay 5 bnUSD\n",
    "# 6. loans.withdrawCollateral() - Withdraw 25 sICX Collateral\n",
    "# 7. depositAndBorrow() via sICX.transfer() - Add 200 sICX collateral directly\n",
    "# Print results1 if there are any failures.\n",
    "\n",
    "txns = [{'contract': 'staking', 'value': 800*ICX, 'method': 'stakeICX', 'params': {}},\n",
    "        {'contract': 'loans', 'value': 800*ICX, 'method': 'depositAndBorrow', 'params': {'_asset': 'bnUSD', '_amount': 50 * ICX}},\n",
    "        {'contract': 'loans', 'value': 30*ICX, 'method': 'depositAndBorrow', 'params': {'_asset': '', '_amount': 0}},\n",
    "        {'contract': 'loans', 'value': 0, 'method': 'depositAndBorrow', 'params': {'_asset': 'bnUSD', '_amount': 10 * ICX}},\n",
    "        {'contract': 'loans', 'value': 0, 'method': 'returnAsset', 'params': {'_symbol': 'bnUSD', '_value': 5 * ICX}},\n",
    "        {'contract': 'loans', 'value': 0, 'method': 'withdrawCollateral', 'params': {'_value': 25 * ICX}},\n",
    "        {'contract': 'sicx', 'value': 0, 'method': 'transfer', 'params': {'_to': contracts['loans']['SCORE'], '_value': 200 * ICX, '_data': json.dumps({\"_asset\": \"\", \"_amount\": 0}).encode()}}]\n",
    "\n",
    "results1 = {}\n",
    "for tx in txns:\n",
    "    res = send_tx(tx[\"contract\"], tx[\"value\"], tx[\"method\"], tx[\"params\"], wallet)\n",
    "    results1[f'{tx[\"contract\"]}|{tx[\"method\"]}|{tx[\"params\"]}'] = res"
   ]
  },
  {
   "cell_type": "markdown",
   "metadata": {},
   "source": [
    "### Add new assets"
   ]
  },
  {
   "cell_type": "code",
   "execution_count": null,
   "metadata": {},
   "outputs": [],
   "source": [
    "# Not totally working yet since the Oracle needs to be set through the governance SCORE.\n",
    "# send_tx('governance', 0, 'addAsset', {'_token_address': contracts['bnDOGE']['SCORE'], '_active': True, '_collateral': False}, btest_wallet)\n",
    "# send_tx('governance', 0, 'addAsset', {'_token_address': contracts['bnXLM']['SCORE'], '_active': True, '_collateral': False}, btest_wallet)\n",
    "# send_tx('bnDOGE', 0, 'setOracle', {'_address': contracts['oracle']['SCORE']}, btest_wallet)\n",
    "# send_tx('bnXLM', 0, 'setOracle', {'_address': contracts['oracle']['SCORE']}, btest_wallet)\n"
   ]
  },
  {
   "cell_type": "code",
   "execution_count": null,
   "metadata": {},
   "outputs": [],
   "source": [
    "call_tx('loans', 'getDebts', {'_address_list': [btest_wallet.get_address(), wallet.get_address()], '_day': 1})"
   ]
  },
  {
   "cell_type": "markdown",
   "metadata": {},
   "source": [
    "### Test Liquidation"
   ]
  },
  {
   "cell_type": "code",
   "execution_count": null,
   "metadata": {
    "scrolled": false
   },
   "outputs": [],
   "source": [
    "# Cell 10\n",
    "# 1. Deposit collateral to fresh wallet\n",
    "# 2. Check the account standing after depositing collateral - Should be 'No Debt', and\n",
    "#    holding '0x2a6f1a22364bbe8000' worth of sICX.\n",
    "# 3a. Mints 200 bnUSD to the test address without checking collateralization ratio\n",
    "#     With the above collateral deposit it will put the position in a standing of Liquidation.\n",
    "# 4. Check the new standing of the account. Should have added '0xad78ebc5ac6200000' bnUSD and have standing of 'Liquidate'.\n",
    "# Test methods have been removed.\n",
    "\n",
    "# send_tx('loans', 0, 'toggleTestMode', {}, btest_wallet)\n",
    "# send_tx('loans', 170 * ICX, 'depositAndBorrow', {'_asset': '', '_amount': 0}, btest_wallet)\n",
    "# call_tx('loans', 'getAccountPositions', {'_owner': btest_wallet.get_address()})\n",
    "# send_tx('loans', 0, 'create_test_position', {'_address': btest_wallet.get_address(), '_asset': 'bnUSD', '_amount': 200 * ICX}, btest_wallet)\n",
    "# call_tx('loans', 'getAccountPositions', {'_owner': btest_wallet.get_address()})\n",
    "# send_tx('loans', 0, 'toggleTestMode', {}, btest_wallet)\n"
   ]
  },
  {
   "cell_type": "code",
   "execution_count": null,
   "metadata": {},
   "outputs": [],
   "source": [
    "# Cell 11\n",
    "# 4a. If the account does not yet have a standing of 'Liquidate' add another loan of '0xad78ebc5ac6200000'.\n",
    "# Test methods have been removed.\n",
    "\n",
    "# send_tx('loans', 0, 'toggleTestMode', {}, btest_wallet)\n",
    "# send_tx('loans', 1, 'create_test_position', {'_address': btest_wallet.get_address(), '_asset': 'bnUSD', '_amount': 200 * ICX}, btest_wallet)\n",
    "# send_tx('loans', 0, 'toggleTestMode', {}, btest_wallet)\n",
    "# call_tx('loans', 'checkDeadMarkets', {})\n",
    "# print(call_tx('loans', 'getAccountPositions', {'_owner': btest_wallet.get_address()}))\n"
   ]
  },
  {
   "cell_type": "code",
   "execution_count": null,
   "metadata": {},
   "outputs": [],
   "source": [
    "# Cell 12\n",
    "# 5. Check the account standing after depositing collateral - Should be 'No Debt'.\n",
    "# 6. Liquidate the account position.\n",
    "# 7. Check the standing of the account after liquidation. Should now have zero balance for sICX and bnUSD.\n",
    "# 8. Checking the debts should show the sum of the borrower debt and the bad debt equals the total supply.\n",
    "\n",
    "call_tx('loans', 'getAccountPositions', {'_owner': btest_wallet.get_address()})\n",
    "send_tx('loans', 0, 'liquidate', {'_owner': btest_wallet.get_address()}, btest_wallet)\n",
    "call_tx('loans', 'getAccountPositions', {'_owner': btest_wallet.get_address()})\n"
   ]
  },
  {
   "cell_type": "markdown",
   "metadata": {},
   "source": [
    "## Retire some debt to get bnUSD out of Dead Market state"
   ]
  },
  {
   "cell_type": "code",
   "execution_count": null,
   "metadata": {},
   "outputs": [],
   "source": [
    "# Cell 13\n",
    "# 1. Check that there is a Dead Market\n",
    "# 2. Check the bad debt, liquidation pool and dead_market state of the asset.\n",
    "# 3. Retire enough of the bad debt to get the asset out of the dead_market state.\n",
    "# 4. Again, check the bad debt, liquidation pool and dead_market state of the asset.\n",
    "\n",
    "call_tx('loans', 'checkDeadMarkets', {})\n",
    "call_tx('loans', 'getAvailableAssets', {})\n",
    "send_tx('loans', 0, 'returnAsset', {'_symbol': 'bnUSD', '_value': 200 * ICX}, btest_wallet)\n",
    "call_tx('loans', 'getAvailableAssets', {})\n"
   ]
  },
  {
   "cell_type": "markdown",
   "metadata": {},
   "source": [
    "### Unstake some sICX"
   ]
  },
  {
   "cell_type": "code",
   "execution_count": null,
   "metadata": {},
   "outputs": [],
   "source": [
    "send_tx('sicx', 0, 'transfer', {'_to': contracts['staking']['SCORE'], '_value': 50 * ICX, '_data': json.dumps({\"method\": \"unstake\", \"params\": {}}).encode()}, btest_wallet)"
   ]
  },
  {
   "cell_type": "markdown",
   "metadata": {},
   "source": [
    "### Testing BALW distributions and Transfers"
   ]
  },
  {
   "cell_type": "code",
   "execution_count": null,
   "metadata": {},
   "outputs": [],
   "source": [
    "for i in range(5):\n",
    "    print(wallets[i].get_address())"
   ]
  },
  {
   "cell_type": "code",
   "execution_count": null,
   "metadata": {},
   "outputs": [],
   "source": [
    "for i in range(5):\n",
    "    send_tx('bwt', 0, 'transfer', {'_to': wallets[i].get_address(), '_value': 20000000}, btest_wallet)"
   ]
  },
  {
   "cell_type": "code",
   "execution_count": null,
   "metadata": {},
   "outputs": [],
   "source": [
    "send_tx('bwt', 0, 'distribute', {}, btest_wallet)"
   ]
  },
  {
   "cell_type": "code",
   "execution_count": null,
   "metadata": {},
   "outputs": [],
   "source": [
    "btest_wallet.get_address()"
   ]
  },
  {
   "cell_type": "markdown",
   "metadata": {},
   "source": [
    "## Tests with multiple wallets and redemptions"
   ]
  },
  {
   "cell_type": "code",
   "execution_count": null,
   "metadata": {},
   "outputs": [],
   "source": [
    "# Create a set of wallets\n",
    "\n",
    "# wallets = []\n",
    "# for i in range(200):\n",
    "#     wallets.append(KeyWallet.create())\n",
    "# with open(\"../wallets.pkl\", 'wb') as f:\n",
    "#     pkl.dump(wallets, f)"
   ]
  },
  {
   "cell_type": "code",
   "execution_count": null,
   "metadata": {},
   "outputs": [],
   "source": [
    "with open(\"../wallets.pkl\", 'rb') as f:\n",
    "    wallets = pkl.load(f)"
   ]
  },
  {
   "cell_type": "code",
   "execution_count": null,
   "metadata": {},
   "outputs": [],
   "source": [
    "for i in range(20):\n",
    "    print(f'{wallets[i].get_address()}')"
   ]
  },
  {
   "cell_type": "code",
   "execution_count": null,
   "metadata": {},
   "outputs": [],
   "source": [
    "for i in range(120, 200):\n",
    "    send_icx(wallets[i].get_address(), 2000 * ICX, btest_wallet)"
   ]
  },
  {
   "cell_type": "code",
   "execution_count": null,
   "metadata": {},
   "outputs": [],
   "source": [
    "for i in range(200):\n",
    "    print(f'{i:3d}: {wallets[i].get_address()}: {icon_service.get_balance(wallets[i].get_address()) / 10**18: 9.3f}')"
   ]
  },
  {
   "cell_type": "code",
   "execution_count": null,
   "metadata": {},
   "outputs": [],
   "source": [
    "for i in range(20):\n",
    "    print(int(call_tx(\"bnUSD\", \"balanceOf\", {\"_owner\": wallets[i].get_address()}), 0) / 10**18)"
   ]
  },
  {
   "cell_type": "code",
   "execution_count": null,
   "metadata": {},
   "outputs": [],
   "source": [
    "# 10000 ICX into each wallet. Uncomment if needed. These wallets are already more than well stocked enough on the tbears server.\n",
    "\n",
    "# for i in range(20):\n",
    "#     transaction = TransactionBuilder()\\\n",
    "#         .from_(wallet.get_address())\\\n",
    "#         .to(wallets[i].get_address())\\\n",
    "#         .value(10 * ICX)\\\n",
    "#         .step_limit(1000000) \\\n",
    "#         .nid(NID) \\\n",
    "#         .nonce(2) \\\n",
    "#         .version(3) \\\n",
    "#         .build()\n",
    "#     signed_transaction = SignedTransaction(transaction, wallet)\n",
    "#     tx_hash = icon_service.send_transaction(signed_transaction)\n",
    "# tx_hash"
   ]
  },
  {
   "cell_type": "code",
   "execution_count": null,
   "metadata": {},
   "outputs": [],
   "source": [
    "# Mint some bnUSD to first 70 wallets.\n",
    "\n",
    "for i in range(80, 100):\n",
    "    res = send_tx('loans', 500 * ICX, 'depositAndBorrow', {'_asset': 'bnUSD', '_amount': 100 * ICX}, wallets[i])"
   ]
  },
  {
   "cell_type": "code",
   "execution_count": null,
   "metadata": {},
   "outputs": [],
   "source": [
    "send_tx('bnUSD', 0, 'transfer', {'_to': wallet.get_address(), '_value': 50 * ICX}, wallets[19])\n",
    "send_tx('loans', 0, 'returnAsset', {'_symbol': 'bnUSD', '_value': 65 * ICX}, wallet)"
   ]
  },
  {
   "cell_type": "code",
   "execution_count": null,
   "metadata": {},
   "outputs": [],
   "source": [
    "send_tx('loans', 0, 'returnAsset', {'_symbol': 'bnUSD', '_value': 50 * ICX}, wallet)"
   ]
  },
  {
   "cell_type": "code",
   "execution_count": null,
   "metadata": {},
   "outputs": [],
   "source": [
    "# Pay off debt in full.\n",
    "\n",
    "for i in range(5, 10):\n",
    "    params = {'_to': wallets[i+10].get_address(), '_value': 50 * ICX}\n",
    "    res = send_tx('bnUSD', 0, 'transfer', params, wallets[i])\n",
    "    sleep(2)\n",
    "    res = send_tx('loans', 0, 'returnAsset', {'_symbol': 'bnUSD', '_value': 110 * ICX}, wallets[i+10])\n",
    "    sleep(1)"
   ]
  },
  {
   "cell_type": "code",
   "execution_count": null,
   "metadata": {},
   "outputs": [],
   "source": [
    "# Drive rewards distributions\n",
    "\n",
    "for i in range(10):\n",
    "    res = send_tx('loans', 0, 'depositAndBorrow', {'_asset': '', '_amount': 0}, wallets[i])\n"
   ]
  },
  {
   "cell_type": "code",
   "execution_count": null,
   "metadata": {},
   "outputs": [],
   "source": [
    "res = send_tx('loans', 500 * ICX, 'depositAndBorrow', {'_asset': 'bnUSD', '_amount': 100 * ICX}, wallets[90])"
   ]
  },
  {
   "cell_type": "code",
   "execution_count": null,
   "metadata": {},
   "outputs": [],
   "source": [
    "for i in range(15, 20):\n",
    "    res = send_tx('loans', 0, 'returnAsset', {'_symbol': 'bnUSD', '_value': 15 * ICX}, wallets[i+100])\n",
    "    sleep(1)"
   ]
  },
  {
   "cell_type": "code",
   "execution_count": null,
   "metadata": {
    "scrolled": false
   },
   "outputs": [],
   "source": [
    "# redeem 10 bnUSD from each of 20 wallets that do not have positions on Balanced. This will use up all\n",
    "# of the liquidation pool and require some replay events to be recorded.\n",
    "\n",
    "for i in range(60, 80):\n",
    "    params = {'_to': wallets[i+100].get_address(), '_value': 20 * ICX}\n",
    "    res = send_tx('bnUSD', 0, 'transfer', params, wallets[i])\n",
    "    sleep(2)\n",
    "    res = send_tx('loans', 0, 'returnAsset', {'_symbol': 'bnUSD', '_value': 15 * ICX}, wallets[i+100])\n",
    "    sleep(1)"
   ]
  },
  {
   "cell_type": "code",
   "execution_count": null,
   "metadata": {},
   "outputs": [],
   "source": [
    "for _ in range(10):\n",
    "    send_tx('loans', 0, 'depositAndBorrow', {'_asset': '', '_amount': 0}, btest_wallet)\n",
    "    sleep(1)"
   ]
  },
  {
   "cell_type": "markdown",
   "metadata": {},
   "source": [
    "### Add a new asset"
   ]
  },
  {
   "cell_type": "code",
   "execution_count": null,
   "metadata": {},
   "outputs": [],
   "source": [
    "send_tx('governance', 0, 'addAsset', {'_token_address': contracts['bnXLM']['SCORE'], '_active': True, '_collateral': False}, btest_wallet)"
   ]
  },
  {
   "cell_type": "code",
   "execution_count": null,
   "metadata": {},
   "outputs": [],
   "source": [
    "send_tx('governance', 0, 'setAssetOracle', {'_symbol': 'bnXLM', '_address': contracts['oracle']['SCORE']}, btest_wallet)"
   ]
  },
  {
   "cell_type": "code",
   "execution_count": null,
   "metadata": {},
   "outputs": [],
   "source": [
    "# Mint some bnXLM to some wallets.\n",
    "\n",
    "for i in range(10, 30):\n",
    "    res = send_tx('loans', 500 * ICX, 'depositAndBorrow', {'_asset': 'bnXLM', '_amount': 300 * ICX}, wallets[i])\n"
   ]
  },
  {
   "cell_type": "code",
   "execution_count": null,
   "metadata": {},
   "outputs": [],
   "source": [
    "params = {'_holders': [wallet.get_address(), btest_wallet.get_address()]}\n",
    "call = CallBuilder().from_(wallet.get_address())\\\n",
    "                    .to(contracts['rewards']['SCORE'])\\\n",
    "                    .method(\"getBalnHoldings\")\\\n",
    "                    .params(params)\\\n",
    "                    .build()\n",
    "result = icon_service.call(call)\n",
    "i = 0\n",
    "{i: [key, result[key]] for i, key in enumerate(result.keys())}"
   ]
  },
  {
   "cell_type": "code",
   "execution_count": null,
   "metadata": {},
   "outputs": [],
   "source": [
    "# Check BALN that has been distributed on the rewards SCORE, and to platform contract addresses.\n",
    "\n",
    "borrowerCount = int(call_tx('loans', 'borrowerCount', {}, False), 0)\n",
    "\n",
    "addresses = []\n",
    "for i in range(1, borrowerCount + 1):\n",
    "    position = call_tx('loans', 'getPositionByIndex', {'_index': i, '_day': -1}, False)\n",
    "    addresses.append(position['address'])\n",
    "\n",
    "holders = call_tx('rewards', 'getBalnHoldings', {'_holders': addresses}, False)\n",
    "\n",
    "total_balances = 0\n",
    "baln_balances = {}\n",
    "for contract in ['rewards', 'reserve', 'bwt', 'dex', 'daofund']:\n",
    "    result = int(call_tx('baln', 'balanceOf', {'_owner': contracts[contract]['SCORE']}, False), 0)\n",
    "    baln_balances[contract] = result / 10**18\n",
    "    total_balances += result\n",
    "\n",
    "i = 0\n",
    "holdings = {i: [key, int(holders[key], 0), int(holders[key], 0) / 10**18] for i, key in enumerate(holders.keys())}\n",
    "total = 0\n",
    "for key in holdings:\n",
    "    total += holdings[key][1]\n",
    "    print(f'{holdings[key]}')\n",
    "\n",
    "print(f'Total unclaimed: {total / 10**18}')\n",
    "print(baln_balances)\n",
    "print(f'Total BALN: {total_balances / 10**18}')"
   ]
  },
  {
   "cell_type": "code",
   "execution_count": null,
   "metadata": {},
   "outputs": [],
   "source": [
    "params = {}\n",
    "transaction = CallTransactionBuilder()\\\n",
    "    .from_(btest_wallet.get_address())\\\n",
    "    .to(contracts['rewards']['SCORE'])\\\n",
    "    .value(0)\\\n",
    "    .step_limit(10000000)\\\n",
    "    .nid(NID)\\\n",
    "    .nonce(100)\\\n",
    "    .method(\"claimRewards\")\\\n",
    "    .params(params)\\\n",
    "    .build()\n",
    "signed_transaction = SignedTransaction(transaction, btest_wallet)\n",
    "tx_hash = icon_service.send_transaction(signed_transaction)\n",
    "sleep(2)\n",
    "\n",
    "print(i)\n",
    "res = get_tx_result(tx_hash)\n",
    "print(f'Status: {res[\"status\"]}')\n",
    "if len(res[\"eventLogs\"]) > 0:\n",
    "    for item in res[\"eventLogs\"]:\n",
    "        print(f'{item} \\n')\n",
    "if res['status'] == 0:\n",
    "    print(f'Failure: {res[\"failure\"]}')"
   ]
  },
  {
   "cell_type": "code",
   "execution_count": null,
   "metadata": {},
   "outputs": [],
   "source": [
    "for i in range(0, 70):\n",
    "    params = {}\n",
    "    transaction = CallTransactionBuilder()\\\n",
    "        .from_(wallets[i].get_address())\\\n",
    "        .to(contracts['rewards']['SCORE'])\\\n",
    "        .value(0)\\\n",
    "        .step_limit(10000000)\\\n",
    "        .nid(NID)\\\n",
    "        .nonce(100)\\\n",
    "        .method(\"claimRewards\")\\\n",
    "        .params(params)\\\n",
    "        .build()\n",
    "    signed_transaction = SignedTransaction(transaction, wallets[i])\n",
    "    tx_hash = icon_service.send_transaction(signed_transaction)\n",
    "    sleep(2)\n",
    "\n",
    "    print(i)\n",
    "    res = get_tx_result(tx_hash)\n",
    "    print(f'Status: {res[\"status\"]}')\n",
    "    if len(res[\"eventLogs\"]) > 0:\n",
    "        for item in res[\"eventLogs\"]:\n",
    "            print(f'{item} \\n')\n",
    "    if res['status'] == 0:\n",
    "        print(f'Failure: {res[\"failure\"]}')"
   ]
  },
  {
   "cell_type": "code",
   "execution_count": null,
   "metadata": {},
   "outputs": [],
   "source": [
    "params = {'_name': 'BALN/bnUSD', '_snapshot_id': 1, '_limit': 10, '_offset': 0}\n",
    "call = CallBuilder().from_(wallet.get_address())\\\n",
    "                    .to(contracts['loans']['SCORE'])\\\n",
    "                    .method(\"getDataBatch\")\\\n",
    "                    .params(params)\\\n",
    "                    .build()\n",
    "result = icon_service.call(call)\n",
    "result"
   ]
  },
  {
   "cell_type": "code",
   "execution_count": null,
   "metadata": {},
   "outputs": [],
   "source": [
    "params = {'_owner': wallet.get_address()}\n",
    "transaction = CallTransactionBuilder()\\\n",
    "    .from_(wallet.get_address())\\\n",
    "    .to(contracts['loans']['SCORE'])\\\n",
    "    .value(0)\\\n",
    "    .step_limit(10000000)\\\n",
    "    .nid(NID)\\\n",
    "    .nonce(100)\\\n",
    "    .method(\"updateStanding\")\\\n",
    "    .params(params)\\\n",
    "    .build()\n",
    "signed_transaction = SignedTransaction(transaction, wallet)\n",
    "tx_hash = icon_service.send_transaction(signed_transaction)\n",
    "\n",
    "res = get_tx_result(tx_hash)\n",
    "print(f'Status: {res[\"status\"]}')\n",
    "if len(res[\"eventLogs\"]) > 0:\n",
    "    for item in res[\"eventLogs\"]:\n",
    "        print(f'{item} \\n')\n",
    "if res['status'] == 0:\n",
    "    print(f'Failure: {res[\"failure\"]}')"
   ]
  },
  {
   "cell_type": "code",
   "execution_count": null,
   "metadata": {},
   "outputs": [],
   "source": [
    "icon_service.get_balance(wallet.get_address()) / 10**18"
   ]
  },
  {
   "cell_type": "code",
   "execution_count": null,
   "metadata": {},
   "outputs": [],
   "source": [
    "balances = {}\n",
    "for wallet in wallets[:20]:\n",
    "    address = wallet.get_address()\n",
    "    params = {'_owner': address}\n",
    "    call = CallBuilder().from_(address)\\\n",
    "                        .to(contracts['baln']['SCORE'])\\\n",
    "                        .method('availableBalanceOf')\\\n",
    "                        .params(params)\\\n",
    "                        .build()\n",
    "    result = icon_service.call(call)\n",
    "    balances[address] = result"
   ]
  },
  {
   "cell_type": "code",
   "execution_count": null,
   "metadata": {},
   "outputs": [],
   "source": [
    "balances = {}\n",
    "for wallet in wallets[:20]:\n",
    "    address = wallet.get_address()\n",
    "    params = {'_owner': address}\n",
    "    call = CallBuilder().from_(address)\\\n",
    "                        .to(contracts['sicx']['SCORE'])\\\n",
    "                        .method('balanceOf')\\\n",
    "                        .params(params)\\\n",
    "                        .build()\n",
    "    result = icon_service.call(call)\n",
    "    balances[address] = result"
   ]
  },
  {
   "cell_type": "code",
   "execution_count": null,
   "metadata": {},
   "outputs": [],
   "source": [
    "balances = {}\n",
    "for wall in [wallet, btest_wallet]:\n",
    "    address = wall.get_address()\n",
    "    params = {'_owner': address}\n",
    "    call = CallBuilder().from_(address)\\\n",
    "                        .to(contracts['baln']['SCORE'])\\\n",
    "                        .method('balanceOf')\\\n",
    "                        .params(params)\\\n",
    "                        .build()\n",
    "    result = icon_service.call(call)\n",
    "    balances[address] = int(result, 0) // 10**18\n",
    "print(balances)"
   ]
  },
  {
   "cell_type": "code",
   "execution_count": null,
   "metadata": {},
   "outputs": [],
   "source": [
    "send_tx('baln', 0, 'transfer', {'_to': 'hx7e02f538732a93893cb225de3e1147a1611ef0ea', '_value': 10**23}, btest_wallet)"
   ]
  },
  {
   "cell_type": "markdown",
   "metadata": {},
   "source": [
    "### DEX SICX Test\n",
    "\n",
    "Does the following:\n",
    "\n",
    "1. Sends ICX to the DEX\n",
    "2. Checks overall ICX balance\n",
    "3. Checks withdrawal lock\n",
    "4. Mints some SICX\n",
    "5. Trades SICX against ICX"
   ]
  },
  {
   "cell_type": "code",
   "execution_count": null,
   "metadata": {},
   "outputs": [],
   "source": [
    "contracts['dex']['SCORE']"
   ]
  },
  {
   "cell_type": "code",
   "execution_count": null,
   "metadata": {},
   "outputs": [],
   "source": [
    "# Cell 26\n",
    "\n",
    "transaction = TransactionBuilder()\\\n",
    "    .from_(wallets[99].get_address())\\\n",
    "    .to(contracts['dex']['SCORE'])\\\n",
    "    .value(1000 * ICX)\\\n",
    "    .step_limit(10000000)\\\n",
    "    .nid(NID)\\\n",
    "    .nonce(101)\\\n",
    "    .build()\n",
    "signed_transaction = SignedTransaction(transaction, wallets[99])\n",
    "tx_hash = icon_service.send_transaction(signed_transaction)\n",
    "tx_hash\n",
    "\n",
    "res = get_tx_result(tx_hash)\n",
    "print(f'Status: {res[\"status\"]}')\n",
    "if len(res[\"eventLogs\"]) > 0:\n",
    "    for item in res[\"eventLogs\"]:\n",
    "        print(f'{item} \\n')\n",
    "if res['status'] == 0:\n",
    "    print(f'Failure: {res[\"failure\"]}')"
   ]
  },
  {
   "cell_type": "code",
   "execution_count": null,
   "metadata": {
    "scrolled": true
   },
   "outputs": [],
   "source": [
    "# Cell 27\n",
    "\n",
    "call = CallBuilder().from_(wallet.get_address())\\\n",
    "                    .to(contracts['dex']['SCORE'])\\\n",
    "                    .method('getICXBalance')\\\n",
    "                    .params({'_address': wallet.get_address()}) \\\n",
    "                    .build()\n",
    "result = icon_service.call(call)\n",
    "int(result, 0) / 10**18"
   ]
  },
  {
   "cell_type": "code",
   "execution_count": null,
   "metadata": {
    "scrolled": false
   },
   "outputs": [],
   "source": [
    "# Cell 28\n",
    "\n",
    "call = CallBuilder().from_(wallet.get_address())\\\n",
    "                    .to(contracts['dex']['SCORE'])\\\n",
    "                    .method('getPoolStats')\\\n",
    "                    .params({'_id': 1}) \\\n",
    "                    .build()\n",
    "result = icon_service.call(call)\n",
    "print(result)"
   ]
  },
  {
   "cell_type": "code",
   "execution_count": null,
   "metadata": {
    "scrolled": false
   },
   "outputs": [],
   "source": [
    "# Cell 29\n",
    "\n",
    "params = {'_to': wallet.get_address()}\n",
    "transaction = CallTransactionBuilder()\\\n",
    "    .from_(wallet.get_address())\\\n",
    "    .to(contracts['staking']['SCORE'])\\\n",
    "    .value(10 * ICX)\\\n",
    "    .step_limit(10000000)\\\n",
    "    .nid(NID)\\\n",
    "    .nonce(100)\\\n",
    "    .method(\"stakeICX\")\\\n",
    "    .params(params)\\\n",
    "    .build()\n",
    "signed_transaction = SignedTransaction(transaction, wallet)\n",
    "tx_hash = icon_service.send_transaction(signed_transaction)\n",
    "tx_hash\n",
    "\n",
    "res = get_tx_result(tx_hash)\n",
    "print(f'Status: {res[\"status\"]}')\n",
    "if len(res[\"eventLogs\"]) > 0:\n",
    "    for item in res[\"eventLogs\"]:\n",
    "        print(f'{item} \\n')\n",
    "if res['status'] == 0:\n",
    "    print(f'Failure: {res[\"failure\"]}')"
   ]
  },
  {
   "cell_type": "code",
   "execution_count": null,
   "metadata": {
    "scrolled": false
   },
   "outputs": [],
   "source": [
    "# Cell 30\n",
    "\n",
    "data = \"{\\\"method\\\": \\\"_swap_icx\\\"}\".encode(\"utf-8\")\n",
    "params = {'_to': contracts['dex']['SCORE'], '_value': 10 * ICX, '_data': data}\n",
    "transaction = CallTransactionBuilder()\\\n",
    "    .from_(wallet.get_address())\\\n",
    "    .to(contracts['sicx']['SCORE'])\\\n",
    "    .value(0)\\\n",
    "    .step_limit(30000000)\\\n",
    "    .nid(NID)\\\n",
    "    .nonce(100)\\\n",
    "    .method(\"transfer\")\\\n",
    "    .params(params)\\\n",
    "    .build()\n",
    "signed_transaction = SignedTransaction(transaction, wallet)\n",
    "tx_hash = icon_service.send_transaction(signed_transaction)\n",
    "tx_hash\n",
    "\n",
    "res = get_tx_result(tx_hash)\n",
    "print(f'Status: {res[\"status\"]}')\n",
    "if len(res[\"eventLogs\"]) > 0:\n",
    "    for item in res[\"eventLogs\"]:\n",
    "        print(f'{item} \\n')\n",
    "if res['status'] == 0:\n",
    "    print(f'Failure: {res[\"failure\"]}')"
   ]
  },
  {
   "cell_type": "code",
   "execution_count": null,
   "metadata": {},
   "outputs": [],
   "source": [
    "# Cell 31\n",
    "\n",
    "call = CallBuilder().from_(wallet.get_address())\\\n",
    "                    .to(contracts['dex']['SCORE'])\\\n",
    "                    .method('getICXBalance')\\\n",
    "                    .params({'_address': wallet.get_address()}) \\\n",
    "                    .build()\n",
    "result = icon_service.call(call)\n",
    "int(result, 0) / 10**18"
   ]
  },
  {
   "cell_type": "code",
   "execution_count": null,
   "metadata": {},
   "outputs": [],
   "source": [
    "# Cell 32\n",
    "\n",
    "call = CallBuilder().from_(wallet.get_address())\\\n",
    "                    .to(contracts['dex']['SCORE'])\\\n",
    "                    .method('getNamedPools')\\\n",
    "                    .build()\n",
    "result = icon_service.call(call)\n",
    "print(result)"
   ]
  },
  {
   "cell_type": "code",
   "execution_count": null,
   "metadata": {},
   "outputs": [],
   "source": [
    "# Cell 33\n",
    "\n",
    "call = CallBuilder().from_(wallet.get_address())\\\n",
    "                    .to(contracts['dex']['SCORE'])\\\n",
    "                    .method('getDataBatch')\\\n",
    "                    .params({'_name': 'sICX/ICX', '_limit': 10, '_snapshot_id': 1}) \\\n",
    "                    .build()\n",
    "result = icon_service.call(call)\n",
    "print(result)"
   ]
  },
  {
   "cell_type": "markdown",
   "metadata": {},
   "source": [
    "### sICX / bnUSD Pool"
   ]
  },
  {
   "cell_type": "code",
   "execution_count": null,
   "metadata": {},
   "outputs": [],
   "source": [
    "# Create a new pool and generate assets for it\n",
    "\n",
    "sICX_amount = 16 * ICX\n",
    "bnUSD_amount = 50 * ICX\n",
    "icx_price = 2\n",
    "sICX_contribute_amount = int(10 * ICX)\n",
    "bnUSD_contribute_amount = int(25 * ICX)\n",
    "\n",
    "txns = [{'contract': 'staking', 'value': sICX_amount, 'method': 'stakeICX', 'params': {}},\n",
    "        {'contract': 'loans', 'value': int(icx_price * 6 * bnUSD_amount), 'method': 'depositAndBorrow', 'params': {'_asset': 'bnUSD', '_amount': bnUSD_amount}},\n",
    "        {'contract': 'sicx', 'value': 0, 'method': 'transfer', 'params': {'_to': contracts['dex']['SCORE'], '_value': sICX_amount, '_data': json.dumps({\"method\": \"_deposit\"}).encode()}},\n",
    "        {'contract': 'bnUSD', 'value': 0, 'method': 'transfer', 'params': {'_to': contracts['dex']['SCORE'], '_value': bnUSD_amount, '_data': json.dumps({\"method\": \"_deposit\"}).encode()}},\n",
    "        {'contract': 'dex', 'value': 0, 'method': 'add', 'params': {'_baseToken': contracts['sicx']['SCORE'], '_quoteToken': contracts['bnUSD']['SCORE'], '_baseValue': sICX_contribute_amount, '_quoteValue': bnUSD_contribute_amount}}]\n",
    "\n",
    "supply_liquidity_results = {}\n",
    "for tx in txns:\n",
    "    res = send_tx(tx[\"contract\"], tx[\"value\"], tx[\"method\"], tx[\"params\"], wallet)\n",
    "    supply_liquidity_results[f'{tx[\"contract\"]}|{tx[\"method\"]}|{tx[\"params\"]}'] = res"
   ]
  },
  {
   "cell_type": "code",
   "execution_count": null,
   "metadata": {
    "scrolled": true
   },
   "outputs": [],
   "source": [
    "call = CallBuilder().from_(wallet.get_address())\\\n",
    "                    .to(contracts['dex']['SCORE'])\\\n",
    "                    .method('getPoolStats')\\\n",
    "                    .params({'_id': 2}) \\\n",
    "                    .build()\n",
    "result = icon_service.call(call)\n",
    "print(result)"
   ]
  },
  {
   "cell_type": "code",
   "execution_count": null,
   "metadata": {},
   "outputs": [],
   "source": [
    "# Add assets to existing pool\n",
    "\n",
    "sICX_contribute_amount = int(2 * ICX)\n",
    "bnUSD_contribute_amount = int(2 * ICX)\n",
    "\n",
    "txns = [{'contract': 'sicx', 'value': 0, 'method': 'transfer', 'params': {'_to': contracts['dex']['SCORE'], '_value': sICX_contribute_amount, '_data': json.dumps({\"method\": \"_deposit\"}).encode()}},\n",
    "        {'contract': 'bnUSD', 'value': 0, 'method': 'transfer', 'params': {'_to': contracts['dex']['SCORE'], '_value': bnUSD_contribute_amount, '_data': json.dumps({\"method\": \"_deposit\"}).encode()}},\n",
    "        {'contract': 'dex', 'value': 0, 'method': 'add', 'params': {'_baseToken': contracts['sicx']['SCORE'], '_quoteToken': contracts['bnUSD']['SCORE'], '_baseValue': sICX_contribute_amount, '_quoteValue': bnUSD_contribute_amount}}]\n",
    "\n",
    "supply_liquidity_results = {}\n",
    "for tx in txns:\n",
    "    res = send_tx(tx[\"contract\"], tx[\"value\"], tx[\"method\"], tx[\"params\"], wallet)\n",
    "    supply_liquidity_results[f'{tx[\"contract\"]}|{tx[\"method\"]}|{tx[\"params\"]}'] = res"
   ]
  },
  {
   "cell_type": "code",
   "execution_count": null,
   "metadata": {
    "scrolled": true
   },
   "outputs": [],
   "source": [
    "# Cell 35\n",
    "\n",
    "data = \"{\\\"method\\\": \\\"_deposit\\\"}\".encode(\"utf-8\")\n",
    "params = {'_to': contracts['dex']['SCORE'], '_value': 10 * ICX, '_data': data}\n",
    "transaction = CallTransactionBuilder()\\\n",
    "    .from_(wallet.get_address())\\\n",
    "    .to(contracts['bnUSD']['SCORE'])\\\n",
    "    .value(0)\\\n",
    "    .step_limit(10000000)\\\n",
    "    .nid(NID)\\\n",
    "    .nonce(100)\\\n",
    "    .method(\"transfer\")\\\n",
    "    .params(params)\\\n",
    "    .build()\n",
    "signed_transaction = SignedTransaction(transaction, wallet)\n",
    "tx_hash = icon_service.send_transaction(signed_transaction)\n",
    "tx_hash\n",
    "\n",
    "res = get_tx_result(tx_hash)\n",
    "print(f'Status: {res[\"status\"]}')\n",
    "if len(res[\"eventLogs\"]) > 0:\n",
    "    for item in res[\"eventLogs\"]:\n",
    "        print(f'{item} \\n')\n",
    "if res['status'] == 0:\n",
    "    print(f'Failure: {res[\"failure\"]}')"
   ]
  },
  {
   "cell_type": "code",
   "execution_count": null,
   "metadata": {},
   "outputs": [],
   "source": [
    "# Cell 36\n",
    "\n",
    "data = \"{\\\"method\\\": \\\"_deposit\\\"}\".encode(\"utf-8\")\n",
    "params = {'_to': contracts['dex']['SCORE'], '_value': 100 * ICX, '_data': data}\n",
    "transaction = CallTransactionBuilder()\\\n",
    "    .from_(wallet.get_address())\\\n",
    "    .to(contracts['baln']['SCORE'])\\\n",
    "    .value(0)\\\n",
    "    .step_limit(10000000)\\\n",
    "    .nid(NID)\\\n",
    "    .nonce(100)\\\n",
    "    .method(\"transfer\")\\\n",
    "    .params(params)\\\n",
    "    .build()\n",
    "signed_transaction = SignedTransaction(transaction, wallet)\n",
    "tx_hash = icon_service.send_transaction(signed_transaction)\n",
    "tx_hash\n",
    "\n",
    "res = get_tx_result(tx_hash)\n",
    "print(f'Status: {res[\"status\"]}')\n",
    "if len(res[\"eventLogs\"]) > 0:\n",
    "    for item in res[\"eventLogs\"]:\n",
    "        print(f'{item} \\n')\n",
    "if res['status'] == 0:\n",
    "    print(f'Failure: {res[\"failure\"]}')"
   ]
  },
  {
   "cell_type": "code",
   "execution_count": null,
   "metadata": {
    "scrolled": true
   },
   "outputs": [],
   "source": [
    "# Cell 37\n",
    "\n",
    "call = CallBuilder().from_(wallet.get_address())\\\n",
    "                    .to(contracts['dex']['SCORE'])\\\n",
    "                    .method('getDeposit')\\\n",
    "                    .params({'_user': wallet.get_address(), '_tokenAddress': contracts['baln']['SCORE']}) \\\n",
    "                    .build()\n",
    "result = icon_service.call(call)\n",
    "int(result, 0) / 10**18"
   ]
  },
  {
   "cell_type": "code",
   "execution_count": null,
   "metadata": {},
   "outputs": [],
   "source": [
    "# Cell 38a\n",
    "\n",
    "transaction = CallTransactionBuilder()\\\n",
    "    .from_(wallet.get_address())\\\n",
    "    .to(contracts['dex']['SCORE'])\\\n",
    "    .value(0)\\\n",
    "    .step_limit(10000000)\\\n",
    "    .nid(NID)\\\n",
    "    .nonce(100)\\\n",
    "    .method(\"add\")\\\n",
    "    .params({'_baseToken': contracts['baln']['SCORE'], '_quoteToken': contracts['bnUSD']['SCORE'], '_baseValue': 100 * ICX, '_quoteValue': 10 * ICX}) \\\n",
    "    .build()\n",
    "signed_transaction = SignedTransaction(transaction, wallet)\n",
    "tx_hash = icon_service.send_transaction(signed_transaction)\n",
    "tx_hash\n",
    "\n",
    "res = get_tx_result(tx_hash)\n",
    "print(f'Status: {res[\"status\"]}')\n",
    "if len(res[\"eventLogs\"]) > 0:\n",
    "    for item in res[\"eventLogs\"]:\n",
    "        print(f'{item} \\n')\n",
    "if res['status'] == 0:\n",
    "    print(f'Failure: {res[\"failure\"]}')"
   ]
  },
  {
   "cell_type": "code",
   "execution_count": null,
   "metadata": {},
   "outputs": [],
   "source": [
    "for i in range(5, 10):\n",
    "    data = \"{\\\"method\\\": \\\"_deposit\\\"}\".encode(\"utf-8\")\n",
    "    params = {'_to': contracts['dex']['SCORE'], '_value': 100 * ICX, '_data': data}\n",
    "    send_tx('baln', 0, 'transfer', params, wallets[i])\n",
    "    data = \"{\\\"method\\\": \\\"_deposit\\\"}\".encode(\"utf-8\")\n",
    "    params = {'_to': contracts['dex']['SCORE'], '_value': 10 * ICX, '_data': data}\n",
    "    send_tx('bnUSD', 0, 'transfer', params, wallets[i])\n",
    "    params = {'_baseToken': contracts['baln']['SCORE'], '_quoteToken': contracts['bnUSD']['SCORE'], '_baseValue': 100 * ICX, '_quoteValue': 10 * ICX}\n",
    "    send_tx('dex', 0, 'add', params, wallets[i])"
   ]
  },
  {
   "cell_type": "code",
   "execution_count": null,
   "metadata": {},
   "outputs": [],
   "source": [
    "# Cell 38b\n",
    "\n",
    "transaction = CallTransactionBuilder()\\\n",
    "    .from_(wallet.get_address())\\\n",
    "    .to(contracts['dex']['SCORE'])\\\n",
    "    .value(0)\\\n",
    "    .step_limit(10000000)\\\n",
    "    .nid(NID)\\\n",
    "    .nonce(100)\\\n",
    "    .method(\"add\")\\\n",
    "    .params({'_baseToken': contracts['sicx']['SCORE'], '_quoteToken': contracts['bnUSD']['SCORE'], '_baseValue': 2 * ICX, '_quoteValue': 1 * ICX}) \\\n",
    "    .build()\n",
    "signed_transaction = SignedTransaction(transaction, wallet)\n",
    "tx_hash = icon_service.send_transaction(signed_transaction)\n",
    "tx_hash\n",
    "\n",
    "res = get_tx_result(tx_hash)\n",
    "print(f'Status: {res[\"status\"]}')\n",
    "if len(res[\"eventLogs\"]) > 0:\n",
    "    for item in res[\"eventLogs\"]:\n",
    "        print(f'{item} \\n')\n",
    "if res['status'] == 0:\n",
    "    print(f'Failure: {res[\"failure\"]}')"
   ]
  },
  {
   "cell_type": "code",
   "execution_count": null,
   "metadata": {},
   "outputs": [],
   "source": [
    "# Cell 39\n",
    "\n",
    "transaction = CallTransactionBuilder()\\\n",
    "    .from_(btest_wallet.get_address())\\\n",
    "    .to(contracts['governance']['SCORE'])\\\n",
    "    .value(0)\\\n",
    "    .step_limit(10000000)\\\n",
    "    .nid(NID)\\\n",
    "    .nonce(100)\\\n",
    "    .method(\"dexPermit\")\\\n",
    "    .params({'_id': 1, '_permission': 1}) \\\n",
    "    .build()\n",
    "signed_transaction = SignedTransaction(transaction, btest_wallet)\n",
    "tx_hash = icon_service.send_transaction(signed_transaction)\n",
    "tx_hash\n",
    "\n",
    "res = get_tx_result(tx_hash)\n",
    "print(f'Status: {res[\"status\"]}')\n",
    "if len(res[\"eventLogs\"]) > 0:\n",
    "    for item in res[\"eventLogs\"]:\n",
    "        print(f'{item} \\n')\n",
    "if res['status'] == 0:\n",
    "    print(f'Failure: {res[\"failure\"]}')"
   ]
  },
  {
   "cell_type": "code",
   "execution_count": null,
   "metadata": {},
   "outputs": [],
   "source": [
    "# Cell 40\n",
    "\n",
    "call = CallBuilder().from_(wallet.get_address())\\\n",
    "                    .to(contracts['dex']['SCORE'])\\\n",
    "                    .method('getInversePrice')\\\n",
    "                    .params({'_id': 2}) \\\n",
    "                    .build()\n",
    "result = icon_service.call(call)\n",
    "int(result, 0) / 10**10"
   ]
  },
  {
   "cell_type": "code",
   "execution_count": null,
   "metadata": {},
   "outputs": [],
   "source": [
    "# Cell 41\n",
    "\n",
    "call = CallBuilder().from_(wallet.get_address())\\\n",
    "                    .to(contracts['dex']['SCORE'])\\\n",
    "                    .method('getPoolTotal')\\\n",
    "                    .params({'_id': 2, '_token': contracts['bnUSD']['SCORE']}) \\\n",
    "                    .build()\n",
    "result = icon_service.call(call)\n",
    "int(result, 0) / 10**18"
   ]
  },
  {
   "cell_type": "code",
   "execution_count": null,
   "metadata": {},
   "outputs": [],
   "source": [
    "# Cell 42\n",
    "\n",
    "call = CallBuilder().from_(wallet.get_address())\\\n",
    "                    .to(contracts['dex']['SCORE'])\\\n",
    "                    .method('getPoolId')\\\n",
    "                    .params({'_token1Address': contracts['sicx']['SCORE'], '_token2Address': contracts['bnUSD']['SCORE'] }) \\\n",
    "                    .build()\n",
    "result = icon_service.call(call)\n",
    "print(\"pool w/ tokens: \" + str(contracts['sicx']['SCORE']) + ' & ' + str(contracts['bnUSD']['SCORE']))\n",
    "print(result)"
   ]
  },
  {
   "cell_type": "code",
   "execution_count": null,
   "metadata": {},
   "outputs": [],
   "source": [
    "# Cell 43\n",
    "\n",
    "call = CallBuilder().from_(wallet.get_address())\\\n",
    "                    .to(contracts['dex']['SCORE'])\\\n",
    "                    .method('getPoolBase')\\\n",
    "                    .params({'_id': 2}) \\\n",
    "                    .build()\n",
    "result = icon_service.call(call)\n",
    "print(result)\n",
    "\n",
    "call = CallBuilder().from_(wallet.get_address())\\\n",
    "                    .to(contracts['dex']['SCORE'])\\\n",
    "                    .method('getPoolQuote')\\\n",
    "                    .params({'_id': 2}) \\\n",
    "                    .build()\n",
    "result = icon_service.call(call)\n",
    "print(result)"
   ]
  },
  {
   "cell_type": "code",
   "execution_count": null,
   "metadata": {},
   "outputs": [],
   "source": [
    "# Cell 44\n",
    "\n",
    "transaction = CallTransactionBuilder()\\\n",
    "    .from_(btest_wallet.get_address())\\\n",
    "    .to(contracts['governance']['SCORE'])\\\n",
    "    .value(0)\\\n",
    "    .step_limit(10000000)\\\n",
    "    .nid(NID)\\\n",
    "    .nonce(100)\\\n",
    "    .method(\"setMarketName\")\\\n",
    "    .params({'_id':2, '_name': 'sICX/bnUSD'}) \\\n",
    "    .build()\n",
    "signed_transaction = SignedTransaction(transaction, btest_wallet)\n",
    "tx_hash = icon_service.send_transaction(signed_transaction)\n",
    "tx_hash\n",
    "\n",
    "res = get_tx_result(tx_hash)\n",
    "print(f'Status: {res[\"status\"]}')\n",
    "if len(res[\"eventLogs\"]) > 0:\n",
    "    for item in res[\"eventLogs\"]:\n",
    "        print(f'{item} \\n')\n",
    "if res['status'] == 0:\n",
    "    print(f'Failure: {res[\"failure\"]}')\n",
    "print('\\n')\n",
    "\n",
    "call = CallBuilder().from_(wallet.get_address())\\\n",
    "                    .to(contracts['dex']['SCORE'])\\\n",
    "                    .method('getNamedPools')\\\n",
    "                    .build()\n",
    "result = icon_service.call(call)\n",
    "print(result)"
   ]
  },
  {
   "cell_type": "code",
   "execution_count": null,
   "metadata": {},
   "outputs": [],
   "source": [
    "# Cell 44\n",
    "\n",
    "transaction = CallTransactionBuilder()\\\n",
    "    .from_(btest_wallet.get_address())\\\n",
    "    .to(contracts['governance']['SCORE'])\\\n",
    "    .value(0)\\\n",
    "    .step_limit(10000000)\\\n",
    "    .nid(NID)\\\n",
    "    .nonce(100)\\\n",
    "    .method(\"setMarketName\")\\\n",
    "    .params({'_id':3, '_name': 'BALN/bnUSD'}) \\\n",
    "    .build()\n",
    "signed_transaction = SignedTransaction(transaction, btest_wallet)\n",
    "tx_hash = icon_service.send_transaction(signed_transaction)\n",
    "tx_hash\n",
    "\n",
    "res = get_tx_result(tx_hash)\n",
    "print(f'Status: {res[\"status\"]}')\n",
    "if len(res[\"eventLogs\"]) > 0:\n",
    "    for item in res[\"eventLogs\"]:\n",
    "        print(f'{item} \\n')\n",
    "if res['status'] == 0:\n",
    "    print(f'Failure: {res[\"failure\"]}')\n",
    "print('\\n')\n",
    "\n",
    "call = CallBuilder().from_(wallet.get_address())\\\n",
    "                    .to(contracts['dex']['SCORE'])\\\n",
    "                    .method('getNamedPools')\\\n",
    "                    .build()\n",
    "result = icon_service.call(call)\n",
    "print(result)"
   ]
  },
  {
   "cell_type": "code",
   "execution_count": null,
   "metadata": {},
   "outputs": [],
   "source": [
    "# Set the percentages to use with the BALN/bnUSD pool included.\n",
    "\n",
    "RECIPIENTS = [{'recipient_name': 'Loans', 'dist_percent': 25 * 10**16},\n",
    "              {'recipient_name': 'sICX/ICX', 'dist_percent': 10 * 10**16},\n",
    "              {'recipient_name': 'sICX/bnUSD', 'dist_percent': 175 * 10**15},\n",
    "              {'recipient_name': 'BALN/bnUSD', 'dist_percent': 175 * 10**15},\n",
    "              {'recipient_name': 'Worker Tokens', 'dist_percent': 20 * 10**16},\n",
    "              {'recipient_name': 'Reserve Fund', 'dist_percent': 5 * 10**16},\n",
    "              {'recipient_name': 'DAOfund', 'dist_percent': 5 * 10**16}]\n",
    "\n",
    "send_tx('governance', 0, 'updateBalTokenDistPercentage', {'_recipient_list': RECIPIENTS}, btest_wallet)"
   ]
  },
  {
   "cell_type": "code",
   "execution_count": null,
   "metadata": {
    "scrolled": false
   },
   "outputs": [],
   "source": [
    "# Cell 45\n",
    "\n",
    "to_token = contracts['sicx']['SCORE']\n",
    "params_data = \"{\\\"method\\\": \\\"_swap\\\", \\\"params\\\": {\\\"toToken\\\":\\\"\" + str(to_token) + \"\\\", \\\"maxSlippage\\\":190}}\"\n",
    "data = params_data.encode(\"utf-8\")\n",
    "params = {'_to': contracts['dex']['SCORE'], '_value': ICX // 100, '_data': data}\n",
    "transaction = CallTransactionBuilder()\\\n",
    "    .from_(wallet.get_address())\\\n",
    "    .to(contracts['bnUSD']['SCORE'])\\\n",
    "    .value(0)\\\n",
    "    .step_limit(10000000)\\\n",
    "    .nid(NID)\\\n",
    "    .nonce(100)\\\n",
    "    .method(\"transfer\")\\\n",
    "    .params(params)\\\n",
    "    .build()\n",
    "signed_transaction = SignedTransaction(transaction, wallet)\n",
    "tx_hash = icon_service.send_transaction(signed_transaction)\n",
    "tx_hash\n",
    "\n",
    "res = get_tx_result(tx_hash)\n",
    "print(f'Status: {res[\"status\"]}')\n",
    "if len(res[\"eventLogs\"]) > 0:\n",
    "    for item in res[\"eventLogs\"]:\n",
    "        print(f'{item} \\n')\n",
    "if res['status'] == 0:\n",
    "    print(f'Failure: {res[\"failure\"]}')"
   ]
  },
  {
   "cell_type": "code",
   "execution_count": null,
   "metadata": {},
   "outputs": [],
   "source": [
    "# Cell 45\n",
    "\n",
    "to_token = contracts['bnUSD']['SCORE']\n",
    "params_data = \"{\\\"method\\\": \\\"_swap\\\", \\\"params\\\": {\\\"toToken\\\":\\\"\" + str(to_token) + \"\\\", \\\"maxSlippage\\\":250}}\"\n",
    "data = params_data.encode(\"utf-8\")\n",
    "params = {'_to': contracts['dex']['SCORE'], '_value': ICX // 100, '_data': data}\n",
    "transaction = CallTransactionBuilder()\\\n",
    "    .from_(wallet.get_address())\\\n",
    "    .to(contracts['sicx']['SCORE'])\\\n",
    "    .value(0)\\\n",
    "    .step_limit(10000000)\\\n",
    "    .nid(NID)\\\n",
    "    .nonce(100)\\\n",
    "    .method(\"transfer\")\\\n",
    "    .params(params)\\\n",
    "    .build()\n",
    "signed_transaction = SignedTransaction(transaction, wallet)\n",
    "tx_hash = icon_service.send_transaction(signed_transaction)\n",
    "tx_hash\n",
    "\n",
    "res = get_tx_result(tx_hash)\n",
    "print(f'Status: {res[\"status\"]}')\n",
    "if len(res[\"eventLogs\"]) > 0:\n",
    "    for item in res[\"eventLogs\"]:\n",
    "        print(f'{item} \\n')\n",
    "if res['status'] == 0:\n",
    "    print(f'Failure: {res[\"failure\"]}')"
   ]
  },
  {
   "cell_type": "code",
   "execution_count": null,
   "metadata": {},
   "outputs": [],
   "source": [
    "# Cell 46\n",
    "\n",
    "call = CallBuilder().from_(wallet.get_address())\\\n",
    "                    .to(contracts['dex']['SCORE'])\\\n",
    "                    .method('getPoolTotal')\\\n",
    "                    .params({'_id': 2, '_token': contracts['sicx']['SCORE']}) \\\n",
    "                    .build()\n",
    "result = icon_service.call(call)\n",
    "int(result, 0) / 10**18"
   ]
  },
  {
   "cell_type": "code",
   "execution_count": null,
   "metadata": {},
   "outputs": [],
   "source": [
    "# Cell 47\n",
    "\n",
    "call = CallBuilder().from_(wallet.get_address())\\\n",
    "                    .to(contracts['dex']['SCORE'])\\\n",
    "                    .method('getPoolTotal')\\\n",
    "                    .params({'_id': 2, '_token': contracts['bnUSD']['SCORE']}) \\\n",
    "                    .build()\n",
    "result = icon_service.call(call)\n",
    "int(result, 0) / 10**18"
   ]
  },
  {
   "cell_type": "code",
   "execution_count": null,
   "metadata": {},
   "outputs": [],
   "source": [
    "# Cell 48\n",
    "\n",
    "call = CallBuilder().from_(wallet.get_address())\\\n",
    "                    .to(contracts['dex']['SCORE'])\\\n",
    "                    .method('totalSupply')\\\n",
    "                    .params({'_id': 2}) \\\n",
    "                    .build()\n",
    "result = icon_service.call(call)\n",
    "int(result, 0) / 10**18"
   ]
  },
  {
   "cell_type": "code",
   "execution_count": null,
   "metadata": {
    "scrolled": false
   },
   "outputs": [],
   "source": [
    "# Cell 49\n",
    "\n",
    "transaction = CallTransactionBuilder()\\\n",
    "    .from_(wallet.get_address())\\\n",
    "    .to(contracts['dex']['SCORE'])\\\n",
    "    .value(0)\\\n",
    "    .step_limit(10000000)\\\n",
    "    .nid(NID)\\\n",
    "    .nonce(100)\\\n",
    "    .method(\"remove\")\\\n",
    "    .params({'_id':2, '_value': 1 * ICX, '_withdraw': 1}) \\\n",
    "    .build()\n",
    "signed_transaction = SignedTransaction(transaction, wallet)\n",
    "tx_hash = icon_service.send_transaction(signed_transaction)\n",
    "tx_hash\n",
    "\n",
    "res = get_tx_result(tx_hash)\n",
    "print(f'Status: {res[\"status\"]}')\n",
    "if len(res[\"eventLogs\"]) > 0:\n",
    "    for item in res[\"eventLogs\"]:\n",
    "        print(f'{item} \\n')\n",
    "if res['status'] == 0:\n",
    "    print(f'Failure: {res[\"failure\"]}')\n",
    "print('\\n')\n",
    "\n",
    "call = CallBuilder().from_(wallet.get_address())\\\n",
    "                    .to(contracts['dex']['SCORE'])\\\n",
    "                    .method('getPoolTotal')\\\n",
    "                    .params({'_id': 2, '_token': contracts['bnUSD']['SCORE']}) \\\n",
    "                    .build()\n",
    "result = icon_service.call(call)\n",
    "int(result, 0) / 10**18"
   ]
  },
  {
   "cell_type": "code",
   "execution_count": null,
   "metadata": {},
   "outputs": [],
   "source": [
    "# Cell 50\n",
    "\n",
    "data = \"{\\\"method\\\": \\\"_deposit\\\"}\".encode(\"utf-8\")\n",
    "params = {'_to': contracts['dex']['SCORE'], '_value': 30 * ICX, '_data': data}\n",
    "transaction = CallTransactionBuilder()\\\n",
    "    .from_(wallet.get_address())\\\n",
    "    .to(contracts['bnUSD']['SCORE'])\\\n",
    "    .value(0)\\\n",
    "    .step_limit(10000000)\\\n",
    "    .nid(NID)\\\n",
    "    .nonce(100)\\\n",
    "    .method(\"transfer\")\\\n",
    "    .params(params)\\\n",
    "    .build()\n",
    "signed_transaction = SignedTransaction(transaction, wallet)\n",
    "tx_hash = icon_service.send_transaction(signed_transaction)\n",
    "tx_hash\n",
    "\n",
    "res = get_tx_result(tx_hash)\n",
    "print(f'Status: {res[\"status\"]}')\n",
    "if len(res[\"eventLogs\"]) > 0:\n",
    "    for item in res[\"eventLogs\"]:\n",
    "        print(f'{item} \\n')\n",
    "if res['status'] == 0:\n",
    "    print(f'Failure: {res[\"failure\"]}')"
   ]
  },
  {
   "cell_type": "code",
   "execution_count": null,
   "metadata": {},
   "outputs": [],
   "source": [
    "# Cell 51\n",
    "\n",
    "transaction = TransactionBuilder()\\\n",
    "    .from_(wallet.get_address())\\\n",
    "    .to(contracts['dex']['SCORE'])\\\n",
    "    .value(1 * ICX)\\\n",
    "    .step_limit(10000000)\\\n",
    "    .nid(NID)\\\n",
    "    .nonce(101)\\\n",
    "    .build()\n",
    "signed_transaction = SignedTransaction(transaction, wallet)\n",
    "tx_hash = icon_service.send_transaction(signed_transaction)\n",
    "tx_hash\n",
    "\n",
    "res = get_tx_result(tx_hash)\n",
    "print(f'Status: {res[\"status\"]}')\n",
    "if len(res[\"eventLogs\"]) > 0:\n",
    "    for item in res[\"eventLogs\"]:\n",
    "        print(f'{item} \\n')\n",
    "if res['status'] == 0:\n",
    "    print(f'Failure: {res[\"failure\"]}')"
   ]
  },
  {
   "cell_type": "code",
   "execution_count": null,
   "metadata": {},
   "outputs": [],
   "source": [
    "# Cell 52\n",
    "\n",
    "transaction = CallTransactionBuilder()\\\n",
    "    .from_(wallet.get_address())\\\n",
    "    .to(contracts['dex']['SCORE'])\\\n",
    "    .value(0)\\\n",
    "    .step_limit(10000000)\\\n",
    "    .nid(NID)\\\n",
    "    .nonce(100)\\\n",
    "    .method(\"cancelSicxicxOrder\")\\\n",
    "    .params({}) \\\n",
    "    .build()\n",
    "signed_transaction = SignedTransaction(transaction, wallet)\n",
    "tx_hash = icon_service.send_transaction(signed_transaction)\n",
    "tx_hash\n",
    "\n",
    "res = get_tx_result(tx_hash)\n",
    "print(f'Status: {res[\"status\"]}')\n",
    "if len(res[\"eventLogs\"]) > 0:\n",
    "    for item in res[\"eventLogs\"]:\n",
    "        print(f'{item} \\n')\n",
    "if res['status'] == 0:\n",
    "    print(f'Failure: {res[\"failure\"]}')"
   ]
  },
  {
   "cell_type": "code",
   "execution_count": null,
   "metadata": {},
   "outputs": [],
   "source": [
    "to_token = contracts['baln']['SCORE']\n",
    "params_data = \"{\\\"method\\\": \\\"_swap\\\", \\\"params\\\": {\\\"toToken\\\":\\\"\" + str(to_token) + \"\\\", \\\"maxSlippage\\\":250}}\"\n",
    "data = params_data.encode(\"utf-8\")\n",
    "params = {'_to': contracts['dex']['SCORE'], '_value': (int) (1 * ICX), '_data': data}\n",
    "transaction = CallTransactionBuilder()\\\n",
    "    .from_(wallet.get_address())\\\n",
    "    .to(contracts['bnUSD']['SCORE'])\\\n",
    "    .value(0)\\\n",
    "    .step_limit(10000000)\\\n",
    "    .nid(NID)\\\n",
    "    .nonce(100)\\\n",
    "    .method(\"transfer\")\\\n",
    "    .params(params)\\\n",
    "    .build()\n",
    "signed_transaction = SignedTransaction(transaction, wallet)\n",
    "tx_hash = icon_service.send_transaction(signed_transaction)\n",
    "tx_hash\n",
    "\n",
    "res = get_tx_result(tx_hash)\n",
    "print(f'Status: {res[\"status\"]}')\n",
    "if len(res[\"eventLogs\"]) > 0:\n",
    "    for item in res[\"eventLogs\"]:\n",
    "        print(f'{item} \\n')\n",
    "if res['status'] == 0:\n",
    "    print(f'Failure: {res[\"failure\"]}')"
   ]
  },
  {
   "cell_type": "code",
   "execution_count": null,
   "metadata": {},
   "outputs": [],
   "source": []
  }
 ],
 "metadata": {
  "kernelspec": {
   "display_name": "Python 3",
   "language": "python",
   "name": "python3"
  },
  "language_info": {
   "codemirror_mode": {
    "name": "ipython",
    "version": 3
   },
   "file_extension": ".py",
   "mimetype": "text/x-python",
   "name": "python",
   "nbconvert_exporter": "python",
   "pygments_lexer": "ipython3",
   "version": "3.8.5"
  }
 },
 "nbformat": 4,
 "nbformat_minor": 4
}
