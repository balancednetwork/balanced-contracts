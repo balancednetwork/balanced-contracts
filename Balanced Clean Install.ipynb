{
 "cells": [
  {
   "cell_type": "markdown",
   "metadata": {},
   "source": [
    "## Set Up Environment"
   ]
  },
  {
   "cell_type": "code",
   "execution_count": null,
   "metadata": {},
   "outputs": [],
   "source": [
    "# Cell 0\n",
    "\n",
    "network = \"custom\"  # set this to one of mainnet, yeouido, euljiro, pagoda, or custom\n",
    "contracts_file_custom = 'contracts_20210124194550.pkl'\n",
    "\n",
    "connections = {\n",
    "\"mainnet\": {\"iconservice\": \"https://ctz.solidwallet.io\",       \"nid\": 1},\n",
    "\"yeouido\": {\"iconservice\": \"https://bicon.net.solidwallet.io\", \"nid\": 3},\n",
    "\"euljiro\": {\"iconservice\": \"https://test-ctz.solidwallet.io\",  \"nid\": 2},\n",
    "\"pagoda\":  {\"iconservice\": \"https://zicon.net.solidwallet.io\", \"nid\":80},\n",
    "\"custom\":  {\"iconservice\": \"http://52.53.175.151:9000\",       \"nid\": 3}}\n",
    "\n",
    "env = connections[network]"
   ]
  },
  {
   "cell_type": "code",
   "execution_count": null,
   "metadata": {},
   "outputs": [],
   "source": [
    "# Cell 1\n",
    "\n",
    "from iconsdk.exception import JSONRPCException\n",
    "from iconsdk.libs.in_memory_zip import gen_deploy_data_content\n",
    "from iconsdk.icon_service import IconService\n",
    "from iconsdk.providers.http_provider import HTTPProvider\n",
    "from iconsdk.builder.transaction_builder import CallTransactionBuilder, TransactionBuilder, DeployTransactionBuilder\n",
    "from iconsdk.builder.call_builder import CallBuilder\n",
    "from iconsdk.signed_transaction import SignedTransaction\n",
    "from iconsdk.wallet.wallet import KeyWallet\n",
    "from iconsdk.utils.convert_type import convert_hex_str_to_int\n",
    "from repeater import retry\n",
    "from shutil import make_archive\n",
    "import pickle as pkl\n",
    "from datetime import datetime\n",
    "import json\n",
    "import os\n",
    "\n",
    "ICX = 1000000000000000000 # 10**18\n",
    "GOVERNANCE_ADDRESS = \"cx0000000000000000000000000000000000000000\"\n",
    "ORACLE = \"cx61a36e5d10412e03c907a507d1e8c6c3856d9964\"\n",
    "\n",
    "@retry(JSONRPCException, tries=10, delay=1, back_off=2)\n",
    "def get_tx_result(_tx_hash):\n",
    "    tx_result = icon_service.get_transaction_result(_tx_hash)\n",
    "    return tx_result"
   ]
  },
  {
   "cell_type": "code",
   "execution_count": null,
   "metadata": {},
   "outputs": [],
   "source": [
    "str(HTTPProvider(env[\"iconservice\"], 3))"
   ]
  },
  {
   "cell_type": "code",
   "execution_count": null,
   "metadata": {},
   "outputs": [],
   "source": [
    "# Cell 2\n",
    "\n",
    "icon_service = IconService(HTTPProvider(env[\"iconservice\"], 3))\n",
    "NID = env[\"nid\"]"
   ]
  },
  {
   "cell_type": "code",
   "execution_count": null,
   "metadata": {},
   "outputs": [],
   "source": [
    "# Cell 3\n",
    "\n",
    "wallet = KeyWallet.load(\"keystores/keystore_test1.json\", \"test1_Account\")\n",
    "# Balanced test wallet\n",
    "with open(\"keystores/balanced_test.pwd\", \"r\") as f:\n",
    "    key_data = f.read()\n",
    "btest_wallet = KeyWallet.load(\"keystores/balanced_test.json\", key_data)"
   ]
  },
  {
   "cell_type": "markdown",
   "metadata": {},
   "source": [
    "### Send ICX to Balanced test wallet"
   ]
  },
  {
   "cell_type": "code",
   "execution_count": null,
   "metadata": {},
   "outputs": [],
   "source": [
    "# Cell 4\n",
    "# Only necessary if running locally or on the private tbears server.\n",
    "\n",
    "test_wallet = KeyWallet.load(\"./keystores/keystore_test1.json\", \"test1_Account\")\n",
    "transaction = TransactionBuilder()\\\n",
    "    .from_(wallet.get_address())\\\n",
    "    .to(btest_wallet.get_address())\\\n",
    "    .value(1000000 * ICX)\\\n",
    "    .step_limit(1000000) \\\n",
    "    .nid(NID) \\\n",
    "    .nonce(2) \\\n",
    "    .version(3) \\\n",
    "    .build()\n",
    "signed_transaction = SignedTransaction(transaction, test_wallet)\n",
    "tx_hash = icon_service.send_transaction(signed_transaction)\n",
    "tx_hash"
   ]
  },
  {
   "cell_type": "code",
   "execution_count": null,
   "metadata": {},
   "outputs": [],
   "source": [
    "wallet = btest_wallet"
   ]
  },
  {
   "cell_type": "markdown",
   "metadata": {},
   "source": [
    "### Deployed to testnet"
   ]
  },
  {
   "cell_type": "code",
   "execution_count": null,
   "metadata": {},
   "outputs": [],
   "source": [
    "# Cell 5\n",
    "# The following addresses are those deployed to the testnet\n",
    "\n",
    "# Uncomment these lines and comment out the definition below to load contracts from a saved file.\n",
    "# with open(contracts_file_custom, 'rb') as f:\n",
    "#     contracts = pkl.load(f)\n",
    "\n",
    "contracts = {'loans': {'zip': 'core_contracts/loans.zip',\n",
    "  'SCORE': 'cxcd9ae763fabcf6c3c9a475f727264e9cfffdfaf2'},\n",
    " 'staking': {'zip': 'core_contracts/staking.zip',\n",
    "  'SCORE': 'cx52aab6b1dd316396e684573464af36c634059721'},\n",
    " 'dividends': {'zip': 'core_contracts/dividends.zip',\n",
    "  'SCORE': 'cx02bba98bf78c91329c6958c61ceed1e7bad3b68a'},\n",
    " 'reserve_fund': {'zip': 'core_contracts/reserve_fund.zip',\n",
    "  'SCORE': 'cx418f4a6392b88568cb9587c6ca638b358f8ca728'},\n",
    " 'rewards': {'zip': 'core_contracts/rewards.zip',\n",
    "  'SCORE': 'cx65fb9d6c9bafdc9cdbe6bf258fd31b90f2f4ab8d'},\n",
    " 'dex': {'zip': 'core_contracts/dex.zip',\n",
    "  'SCORE': 'cx291dacbb875a94b364194a5febaac4e6318681f7'},\n",
    " 'governance': {'zip': 'core_contracts/governance.zip',\n",
    "  'SCORE': 'cx4179247372b8ce4c9edd8013dd3918852bd0c7fa'},\n",
    " 'dummy_oracle': {'zip': 'core_contracts/dummy_oracle.zip',\n",
    "  'SCORE': 'cx61a36e5d10412e03c907a507d1e8c6c3856d9964'},\n",
    " 'sicx': {'zip': 'token_contracts/sicx.zip',\n",
    "  'SCORE': 'cx5b0d6a5b244e9254ca05592389672c5185d9f5f8'},\n",
    " 'icd': {'zip': 'token_contracts/icd.zip',\n",
    "  'SCORE': 'cx699694fa8dbb76d904d33b63f90dee7cf0440e71'},\n",
    " 'bal': {'zip': 'token_contracts/bal.zip',\n",
    "  'SCORE': 'cxd89295b894b72b3b5966848f6fe2bbb997f99e71'},\n",
    " 'bwt': {'zip': 'token_contracts/bwt.zip',\n",
    "  'SCORE': 'cx6fda38cfc5c828763306ad7fb4225a8062bd0aee'}}"
   ]
  },
  {
   "cell_type": "code",
   "execution_count": null,
   "metadata": {},
   "outputs": [],
   "source": [
    "# Cell 6\n",
    "\n",
    "deploy = list(contracts.keys())[:]\n",
    "deploy.remove('dummy_oracle')\n",
    "for directory in {\"core_contracts\", \"token_contracts\"}:\n",
    "    with os.scandir(directory) as it:\n",
    "        for file in it:\n",
    "            archive_name = directory + \"/\" + file.name\n",
    "            if file.is_dir() and file.name in deploy:\n",
    "                make_archive(archive_name, \"zip\", directory, file.name)\n",
    "                contracts[file.name]['zip'] = archive_name + '.zip'\n",
    "\n",
    "contracts"
   ]
  },
  {
   "cell_type": "code",
   "execution_count": null,
   "metadata": {},
   "outputs": [],
   "source": [
    "contracts = {'loans': {'zip': 'core_contracts/loans.zip',\n",
    "  'SCORE': 'cxfd3be7c40fb17b7826eb7957d384b5209386b53c'},\n",
    " 'staking': {'zip': 'core_contracts/staking.zip',\n",
    "  'SCORE': 'cx761967c56e56241217ea962e2ea4f8a9b74dfe79'},\n",
    " 'dividends': {'zip': 'core_contracts/dividends.zip',\n",
    "  'SCORE': 'cx95e584fdd393574ed4a20799bc0561905d248243'},\n",
    " 'reserve_fund': {'zip': 'core_contracts/reserve_fund.zip',\n",
    "  'SCORE': 'cx70a2aa98b133290563cfd6ff27f53346839d7134'},\n",
    " 'rewards': {'zip': 'core_contracts/rewards.zip',\n",
    "  'SCORE': 'cx7989a3944459546ea30b2fbc5ea999bbf4870d77'},\n",
    " 'dex': {'zip': 'core_contracts/dex.zip',\n",
    "  'SCORE': 'cxd320ad4677c470702fffd266704cdf961a943034'},\n",
    " 'governance': {'zip': 'core_contracts/governance.zip',\n",
    "  'SCORE': 'cx49a8bf686fdabadbd74e68b1138ef775c452db19'},\n",
    " 'dummy_oracle': {'zip': 'core_contracts/dummy_oracle.zip',\n",
    "  'SCORE': 'cx56b6ab9ac9898b3008816a0ec9c36b4a5bde515d'},\n",
    " 'sicx': {'zip': 'token_contracts/sicx.zip',\n",
    "  'SCORE': 'cxa460d01b4512b0e2943f0e9455824d4672ac8c8e'},\n",
    " 'icd': {'zip': 'token_contracts/icd.zip',\n",
    "  'SCORE': 'cx8944d20a80b82c431cdba2f8475625c8978f0900'},\n",
    " 'bal': {'zip': 'token_contracts/bal.zip',\n",
    "  'SCORE': 'cx2335bb203527f0b69606fe5fca4779f0ed2f88d0'},\n",
    " 'bwt': {'zip': 'token_contracts/bwt.zip',\n",
    "  'SCORE': 'cxc635b0cb40489790ea301ac94517589423fd67e0'}}"
   ]
  },
  {
   "cell_type": "markdown",
   "metadata": {},
   "source": [
    "## Deploy All SCOREs"
   ]
  },
  {
   "cell_type": "code",
   "execution_count": null,
   "metadata": {
    "scrolled": true
   },
   "outputs": [],
   "source": [
    "# Cell 7\n",
    "# prints out contracts dictionary with all new contract addresses\n",
    "\n",
    "step_limit = 4000100000\n",
    "\n",
    "for score in deploy:\n",
    "    loc = contracts[score]\n",
    "    deploy_transaction = DeployTransactionBuilder()\\\n",
    "        .from_(wallet.get_address())\\\n",
    "        .to(GOVERNANCE_ADDRESS)\\\n",
    "        .nid(NID)\\\n",
    "        .nonce(100)\\\n",
    "        .content_type(\"application/zip\")\\\n",
    "        .content(gen_deploy_data_content(loc[\"zip\"]))\\\n",
    "        .build()\n",
    "\n",
    "#     step_limit = icon_service.estimate_step(deploy_transaction) + 100000\n",
    "    \n",
    "    signed_transaction = SignedTransaction(deploy_transaction, wallet, step_limit)\n",
    "    tx_hash = icon_service.send_transaction(signed_transaction)\n",
    "\n",
    "    res = get_tx_result(tx_hash)\n",
    "    contracts[score][\"SCORE\"] = res.get('scoreAddress', '')\n",
    "    print(score)\n",
    "    print(res)\n",
    "\n",
    "contracts"
   ]
  },
  {
   "cell_type": "code",
   "execution_count": null,
   "metadata": {},
   "outputs": [],
   "source": [
    "# Cell 8\n",
    "# saves contracts dictionary to file\n",
    "\n",
    "# now = datetime.utcnow()\n",
    "# filename = f'contracts_{now.year}{str(now.month).zfill(2)}{str(now.day).zfill(2)}{str(now.hour).zfill(2)}{str(now.minute).zfill(2)}{str(now.second).zfill(2)}.pkl'\n",
    "# print(f'saving contracts list as {filename}')\n",
    "# with open(filename, 'wb') as f:\n",
    "#     pkl.dump(contracts, f)"
   ]
  },
  {
   "cell_type": "code",
   "execution_count": null,
   "metadata": {},
   "outputs": [],
   "source": [
    "# Cell 9\n",
    "# Prints out dictionary of SCORE addresses for use in testing UI\n",
    "\n",
    "def get_scores_json(contracts):\n",
    "    scores = {}\n",
    "    for score in contracts:\n",
    "        scores[score] = contracts[score]['SCORE']\n",
    "    return json.dumps(scores)\n",
    "\n",
    "print(get_scores_json(contracts))"
   ]
  },
  {
   "cell_type": "markdown",
   "metadata": {},
   "source": [
    "### Deploy a single SCORE"
   ]
  },
  {
   "cell_type": "code",
   "execution_count": null,
   "metadata": {},
   "outputs": [],
   "source": [
    "# Cell 10\n",
    "\n",
    "# Deploy a single SCORE\n",
    "contract = 'staking'\n",
    "update = contracts[contract]['SCORE']\n",
    "zip_file = contracts[contract]['zip']\n",
    "deploy_transaction = DeployTransactionBuilder()\\\n",
    "    .from_(wallet.get_address())\\\n",
    "    .to(GOVERNANCE_ADDRESS)\\\n",
    "    .nid(NID)\\\n",
    "    .nonce(100)\\\n",
    "    .content_type(\"application/zip\")\\\n",
    "    .content(gen_deploy_data_content(zip_file))\\\n",
    "    .build()\n",
    "\n",
    "step_limit = 10000000000\n",
    "\n",
    "\n",
    "signed_transaction = SignedTransaction(deploy_transaction, wallet, step_limit)\n",
    "tx_hash = icon_service.send_transaction(signed_transaction)\n",
    "\n",
    "get_tx_result(tx_hash)\n"
   ]
  },
  {
   "cell_type": "markdown",
   "metadata": {},
   "source": [
    "## Update a SCORE"
   ]
  },
  {
   "cell_type": "code",
   "execution_count": null,
   "metadata": {},
   "outputs": [],
   "source": [
    "# Cell 11\n",
    "\n",
    "contract = 'dex'\n",
    "update = contracts[contract]['SCORE']\n",
    "zip_file = contracts[contract]['zip']\n",
    "deploy_transaction = DeployTransactionBuilder()\\\n",
    "    .from_(wallet.get_address())\\\n",
    "    .to(update)\\\n",
    "    .nid(NID)\\\n",
    "    .nonce(100)\\\n",
    "    .content_type(\"application/zip\")\\\n",
    "    .content(gen_deploy_data_content(zip_file))\\\n",
    "    .build()\n",
    "\n",
    "# step_limit = icon_service.estimate_step(deploy_transaction) + 100000\n",
    "step_limit = 3000000000\n",
    "\n",
    "signed_transaction = SignedTransaction(deploy_transaction, wallet, step_limit)\n",
    "tx_hash = icon_service.send_transaction(signed_transaction)\n",
    "\n",
    "get_tx_result(tx_hash)\n"
   ]
  },
  {
   "cell_type": "markdown",
   "metadata": {},
   "source": [
    "## Set parameters"
   ]
  },
  {
   "cell_type": "code",
   "execution_count": null,
   "metadata": {},
   "outputs": [],
   "source": [
    "# Cell 12\n",
    "\n",
    "from typing import List, TypedDict\n",
    "\n",
    "addresses = {'loans': contracts['loans']['SCORE'],\n",
    "             'dex': contracts['dex']['SCORE'],\n",
    "             'staking': contracts['staking']['SCORE'],\n",
    "             'rewards': contracts['rewards']['SCORE'],\n",
    "             'reserve_fund': contracts['reserve_fund']['SCORE'],\n",
    "             'dividends': contracts['dividends']['SCORE'],\n",
    "             'oracle': contracts['dummy_oracle']['SCORE'],\n",
    "             'sicx': contracts['sicx']['SCORE'],\n",
    "             'icd': contracts['icd']['SCORE'],\n",
    "             'baln': contracts['bal']['SCORE'],\n",
    "             'bwt': contracts['bwt']['SCORE']\n",
    "            }\n",
    "\n",
    "class DistPercentDict(TypedDict):\n",
    "    recipient_name : str\n",
    "    bal_token_dist_percent: int\n",
    "\n",
    "_recipient_list: List[DistPercentDict] = [{'recipient_name': 'Loans', 'bal_token_dist_percent': 25 * 10**16},\n",
    "                   {'recipient_name': 'SICXICX', 'bal_token_dist_percent': 10 * 10**16},\n",
    "                   {'recipient_name': 'SICXICD', 'bal_token_dist_percent': 20 * 10**16},\n",
    "                   {'recipient_name': 'BALNICD', 'bal_token_dist_percent': 20 * 10**16},\n",
    "                   {'recipient_name': 'Worker Tokens', 'bal_token_dist_percent': 20 * 10**16},\n",
    "                   {'recipient_name': 'Reserve Fund', 'bal_token_dist_percent': 5 * 10**16}\n",
    "                  ]\n",
    "\n",
    "settings = [{'contract': 'sicx', 'method': 'setAdmin', 'params':{'_admin': contracts['staking']['SCORE']}},\n",
    "            {'contract': 'sicx', 'method': 'setStakingAddress', 'params':{'_address': contracts['staking']['SCORE']}},\n",
    "            {'contract': 'icd', 'method': 'setAdmin', 'params':{'_admin': contracts['loans']['SCORE']}},\n",
    "            {'contract': 'icd', 'method': 'setOracle', 'params':{'_address': contracts['dummy_oracle']['SCORE'], '_name': 'BandChain'}},\n",
    "            {'contract': 'bal', 'method': 'setAdmin', 'params':{'_admin': wallet.get_address()}},\n",
    "            {'contract': 'bal', 'method': 'mint', 'params':{'_amount': 10 * ICX}},\n",
    "            {'contract': 'bwt', 'method': 'setAdmin', 'params':{'_admin': contracts['governance']['SCORE']}},\n",
    "            {'contract': 'bwt', 'method': 'setBalnToken', 'params':{'_address': contracts['bal']['SCORE']}},\n",
    "            {'contract': 'staking', 'method': 'setSicxAddress', 'params':{'_address': contracts['sicx']['SCORE']}},\n",
    "            {'contract': 'reserve_fund', 'method': 'setLoansScore', 'params':{'_address': contracts['loans']['SCORE']}},\n",
    "            {'contract': 'reserve_fund', 'method': 'setBalnToken', 'params':{'_address': contracts['bal']['SCORE']}},\n",
    "            {'contract': 'reserve_fund', 'method': 'setSicxToken', 'params':{'_address': contracts['sicx']['SCORE']}},\n",
    "            {'contract': 'bal', 'method': 'mintTo', 'params':{'_account': contracts['reserve_fund']['SCORE'], '_amount': 1000 * ICX}},\n",
    "            {'contract': 'bal', 'method': 'mintTo', 'params':{'_account': wallet.get_address(), '_amount': 1000 * ICX}},\n",
    "            {'contract': 'bal', 'method': 'setAdmin', 'params':{'_admin': contracts['rewards']['SCORE']}},\n",
    "            {'contract': 'dividends', 'method': 'setLoansScore', 'params':{'_address': contracts['loans']['SCORE']}},\n",
    "            {'contract': 'rewards', 'method': 'setBalnAddress', 'params':{'_address': contracts['bal']['SCORE']}},\n",
    "            {'contract': 'rewards', 'method': 'setBwtAddress', 'params':{'_address': contracts['bwt']['SCORE']}},\n",
    "            {'contract': 'rewards', 'method': 'setReserveAddress', 'params':{'_address': contracts['reserve_fund']['SCORE']}},\n",
    "            {'contract': 'rewards', 'method': 'setBatchSize', 'params':{'_batch_size': 30}},\n",
    "            {'contract': 'rewards', 'method': 'setGovernance', 'params':{'_address': contracts['governance']['SCORE']}},\n",
    "            {'contract': 'rewards', 'method': 'addNewDataSource', 'params':{'_data_source_name': 'Loans', '_contract_address': contracts['loans']['SCORE']}},\n",
    "            {'contract': 'rewards', 'method': 'addNewDataSource', 'params':{'_data_source_name': 'SICXICX', '_contract_address': contracts['dex']['SCORE']}},\n",
    "            {'contract': 'rewards', 'method': 'addNewDataSource', 'params':{'_data_source_name': 'SICXICD', '_contract_address': contracts['dex']['SCORE']}},\n",
    "            {'contract': 'rewards', 'method': 'addNewDataSource', 'params':{'_data_source_name': 'BALNICD', '_contract_address': contracts['dex']['SCORE']}},\n",
    "            {'contract': 'rewards', 'method': 'updateBalTokenDistPercentage', 'params':{'_recipient_list': _recipient_list}},\n",
    "            {'contract': 'dex', 'method': 'setGovernance', 'params':{'_address': contracts['governance']['SCORE']}},\n",
    "            {'contract': 'dex', 'method': 'setAdmin', 'params':{'_admin': wallet.get_address()}},\n",
    "            {'contract': 'dex', 'method': 'setRewards', 'params':{'_address': contracts['rewards']['SCORE']}},\n",
    "            {'contract': 'dex', 'method': 'setStaking', 'params':{'_address': contracts['staking']['SCORE']}},\n",
    "            {'contract': 'dex', 'method': 'setSicx', 'params':{'_address': contracts['sicx']['SCORE']}},\n",
    "            {'contract': 'dex', 'method': 'setDividends', 'params':{'_address': contracts['dividends']['SCORE']}},\n",
    "            {'contract': 'dex', 'method': 'setIcd', 'params':{'_address': contracts['icd']['SCORE']}},\n",
    "            {'contract': 'loans', 'method': 'setAdmin', 'params':{'_admin': wallet.get_address()}},\n",
    "            {'contract': 'loans', 'method': 'setGovernance', 'params':{'_address': contracts['governance']['SCORE']}},\n",
    "            {'contract': 'loans', 'method': 'setDividends', 'params':{'_address': contracts['dividends']['SCORE']}},\n",
    "            {'contract': 'loans', 'method': 'setReserve', 'params':{'_address': contracts['reserve_fund']['SCORE']}},\n",
    "            {'contract': 'loans', 'method': 'setRewards', 'params':{'_address': contracts['rewards']['SCORE']}},\n",
    "            {'contract': 'loans', 'method': 'setStaking', 'params':{'_address': contracts['staking']['SCORE']}},\n",
    "            {'contract': 'loans', 'method': 'addAsset', 'params':{'_token_address': contracts['sicx']['SCORE'], 'is_active': 1, 'is_collateral': 1}},\n",
    "            {'contract': 'loans', 'method': 'addAsset', 'params':{'_token_address': contracts['icd']['SCORE'], 'is_active': 1, 'is_collateral': 0}},\n",
    "            {'contract': 'loans', 'method': 'addAsset', 'params':{'_token_address': contracts['bal']['SCORE'], 'is_active': 0, 'is_collateral': 1}},\n",
    "            {'contract': 'governance', 'method': 'setAddresses', 'params':{'_addresses': addresses}},\n",
    "            {'contract': 'governance', 'method': 'launchBalanced', 'params':{}}]"
   ]
  },
  {
   "cell_type": "code",
   "execution_count": null,
   "metadata": {
    "scrolled": true
   },
   "outputs": [],
   "source": [
    "# Cell 13\n",
    "\n",
    "results = {}\n",
    "for sett in settings:\n",
    "    print(f'\\n')\n",
    "    print(f'Calling {sett[\"method\"]}, with parameters {sett[\"params\"]} on the {sett[\"contract\"]} contract.')\n",
    "    transaction = CallTransactionBuilder()\\\n",
    "        .from_(wallet.get_address())\\\n",
    "        .to(contracts[sett['contract']]['SCORE'])\\\n",
    "        .value(0)\\\n",
    "        .step_limit(10000000)\\\n",
    "        .nid(NID)\\\n",
    "        .nonce(100)\\\n",
    "        .method(sett['method'])\\\n",
    "        .params(sett['params'])\\\n",
    "        .build()\n",
    "    signed_transaction = SignedTransaction(transaction, wallet)\n",
    "    tx_hash = icon_service.send_transaction(signed_transaction)\n",
    "\n",
    "    res = get_tx_result(tx_hash)\n",
    "    results[f'{sett[\"contract\"]}|{sett[\"method\"]}|{sett[\"params\"]}'] = res\n",
    "    print(f'Status: {res[\"status\"]}')\n",
    "    if 'eventLogs' in res.keys():\n",
    "        print(f'EventLogs: {res[\"eventLogs\"]}')\n",
    "    if res['status'] == 0:\n",
    "        print(f'Failure: {res[\"failure\"]}')"
   ]
  },
  {
   "cell_type": "markdown",
   "metadata": {},
   "source": [
    "## Run through read-only methods on all SCOREs"
   ]
  },
  {
   "cell_type": "code",
   "execution_count": null,
   "metadata": {},
   "outputs": [],
   "source": [
    "# Cell 14\n",
    "\n",
    "ro_methods = {\"loans\": [\"name\", \"getAssetTokens\", \"getCollateralTokens\", \"getTotalCollateral\", \"getAvailableAssets\", \"assetCount\"],\n",
    "              \"staking\": [\"name\", \"getSicxAddress\", \"getTodayRate\"],\n",
    "              \"dividends\": [\"name\", \"getBalances\"],\n",
    "              \"reserve_fund\": [\"name\", \"getBalances\"],\n",
    "              \"rewards\": [\"name\", \"getDataSourceNames\"],\n",
    "              \"governance\": [\"name\", \"getAddresses\"],\n",
    "              \"sicx\": [\"name\", \"symbol\", \"decimals\", \"totalSupply\", \"getAdmin\", \"lastPriceInLoop\"],\n",
    "              \"icd\": [\"name\", \"symbol\", \"decimals\", \"totalSupply\", \"getAdmin\"],\n",
    "              \"bal\": [\"name\", \"symbol\", \"decimals\", \"totalSupply\", \"getAdmin\"]\n",
    "              }"
   ]
  },
  {
   "cell_type": "code",
   "execution_count": null,
   "metadata": {},
   "outputs": [],
   "source": [
    "# Cell 15\n",
    "# Runs through the readonly methods defined above. These can also be viewed using the testing UI\n",
    "\n",
    "results = {}\n",
    "for score in ro_methods.keys():\n",
    "    print()\n",
    "    print(f'SCORE: {score}')\n",
    "    print(f'Address: {contracts[score][\"SCORE\"]}')\n",
    "    results[score] = {}\n",
    "    for method in ro_methods[score]:\n",
    "        call = CallBuilder().from_(wallet.get_address())\\\n",
    "                            .to(contracts[score]['SCORE'])\\\n",
    "                            .method(method)\\\n",
    "                            .build()\n",
    "        result = icon_service.call(call)\n",
    "        if method in ['totalSupply', 'decimals', 'get_total_collateral', 'get_rate']:\n",
    "            result = int(result, 0)\n",
    "            if method in ['totalSupply', 'get_total_collateral', 'get_rate']:\n",
    "                result = result / ICX\n",
    "        print(f'{method}: {result}')\n",
    "        results[score][method] = result"
   ]
  },
  {
   "cell_type": "markdown",
   "metadata": {},
   "source": [
    "### Get sICX from Staking"
   ]
  },
  {
   "cell_type": "code",
   "execution_count": null,
   "metadata": {},
   "outputs": [],
   "source": [
    "transaction = CallTransactionBuilder()\\\n",
    "    .from_(wallet.get_address())\\\n",
    "    .to(contracts['staking']['SCORE'])\\\n",
    "    .value(800 * ICX)\\\n",
    "    .step_limit(10000000)\\\n",
    "    .nid(NID)\\\n",
    "    .nonce(100)\\\n",
    "    .method(\"addCollateral\")\\\n",
    "    .params({})\\\n",
    "    .build()\n",
    "signed_transaction = SignedTransaction(transaction, wallet)\n",
    "tx_hash = icon_service.send_transaction(signed_transaction)\n",
    "\n",
    "res = get_tx_result(tx_hash)\n",
    "print(f'Status: {res[\"status\"]}')\n",
    "if 'eventLogs' in res.keys():\n",
    "    print(f'EventLogs: {res[\"eventLogs\"]}')\n",
    "if res['status'] == 0:\n",
    "    print(f'Failure: {res[\"failure\"]}')"
   ]
  },
  {
   "cell_type": "markdown",
   "metadata": {},
   "source": [
    "## Deposit ICX and Mint ICD Loan"
   ]
  },
  {
   "cell_type": "code",
   "execution_count": null,
   "metadata": {},
   "outputs": [],
   "source": [
    "# Cell 16\n",
    "\n",
    "data1 = \"{\\\"method\\\": \\\"_deposit_and_borrow\\\", \\\"params\\\": {\\\"_sender\\\": \\\"\".encode(\"utf-8\")\n",
    "data2 = \"\\\", \\\"_asset\\\": \\\"ICD\\\", \\\"_amount\\\": 40000000000000000000}}\".encode(\"utf-8\")\n",
    "params = {'_data1': data1, '_data2': data2}\n",
    "transaction = CallTransactionBuilder()\\\n",
    "    .from_(wallet.get_address())\\\n",
    "    .to(contracts['loans']['SCORE'])\\\n",
    "    .value(800 * ICX)\\\n",
    "    .step_limit(10000000)\\\n",
    "    .nid(NID)\\\n",
    "    .nonce(100)\\\n",
    "    .method(\"addCollateral\")\\\n",
    "    .params(params)\\\n",
    "    .build()\n",
    "signed_transaction = SignedTransaction(transaction, wallet)\n",
    "tx_hash = icon_service.send_transaction(signed_transaction)\n",
    "\n",
    "res = get_tx_result(tx_hash)\n",
    "print(f'Status: {res[\"status\"]}')\n",
    "if 'eventLogs' in res.keys():\n",
    "    print(f'EventLogs: {res[\"eventLogs\"]}')\n",
    "if res['status'] == 0:\n",
    "    print(f'Failure: {res[\"failure\"]}')"
   ]
  },
  {
   "cell_type": "markdown",
   "metadata": {},
   "source": [
    "### Just deposit collateral"
   ]
  },
  {
   "cell_type": "code",
   "execution_count": null,
   "metadata": {},
   "outputs": [],
   "source": [
    "# Cell 17\n",
    "\n",
    "data1 = \"{\\\"method\\\": \\\"_deposit_and_borrow\\\", \\\"params\\\": {\\\"_sender\\\": \\\"\".encode(\"utf-8\")\n",
    "data2 = \"\\\", \\\"_asset\\\": \\\"\\\", \\\"_amount\\\": 0}}\".encode(\"utf-8\")\n",
    "params = {'_data1': data1, '_data2': data2}\n",
    "transaction = CallTransactionBuilder()\\\n",
    "    .from_(wallet.get_address())\\\n",
    "    .to(contracts['loans']['SCORE'])\\\n",
    "    .value(30 * ICX)\\\n",
    "    .step_limit(10000000)\\\n",
    "    .nid(NID)\\\n",
    "    .nonce(100)\\\n",
    "    .method(\"addCollateral\")\\\n",
    "    .params(params)\\\n",
    "    .build()\n",
    "signed_transaction = SignedTransaction(transaction, wallet)\n",
    "tx_hash = icon_service.send_transaction(signed_transaction)\n",
    "\n",
    "res = get_tx_result(tx_hash)\n",
    "print(f'Status: {res[\"status\"]}')\n",
    "if 'eventLogs' in res.keys():\n",
    "    print(f'EventLogs: {res[\"eventLogs\"]}')\n",
    "if res['status'] == 0:\n",
    "    print(f'Failure: {res[\"failure\"]}')"
   ]
  },
  {
   "cell_type": "markdown",
   "metadata": {},
   "source": [
    "### Repay Some ICD"
   ]
  },
  {
   "cell_type": "code",
   "execution_count": null,
   "metadata": {},
   "outputs": [],
   "source": [
    "# Cell 18\n",
    "\n",
    "data = \"{\\\"method\\\": \\\"_repay_loan\\\", \\\"params\\\": {}}\".encode(\"utf-8\")\n",
    "params = {'_to': contracts['loans']['SCORE'], '_value': 5 * ICX, '_data': data}\n",
    "transaction = CallTransactionBuilder()\\\n",
    "    .from_(wallet.get_address())\\\n",
    "    .to(contracts['icd']['SCORE'])\\\n",
    "    .value(0)\\\n",
    "    .step_limit(10000000)\\\n",
    "    .nid(NID)\\\n",
    "    .nonce(100)\\\n",
    "    .method(\"transfer\")\\\n",
    "    .params(params)\\\n",
    "    .build()\n",
    "signed_transaction = SignedTransaction(transaction, wallet)\n",
    "tx_hash = icon_service.send_transaction(signed_transaction)\n",
    "\n",
    "res = get_tx_result(tx_hash)\n",
    "print(f'Status: {res[\"status\"]}')\n",
    "if 'eventLogs' in res.keys():\n",
    "    print(f'EventLogs: {res[\"eventLogs\"]}')\n",
    "if res['status'] == 0:\n",
    "    print(f'Failure: {res[\"failure\"]}')"
   ]
  },
  {
   "cell_type": "markdown",
   "metadata": {},
   "source": [
    "### Withdraw Some Collateral"
   ]
  },
  {
   "cell_type": "code",
   "execution_count": null,
   "metadata": {},
   "outputs": [],
   "source": [
    "# Cell 19\n",
    "\n",
    "params = {'_value': 5 * ICX}\n",
    "transaction = CallTransactionBuilder()\\\n",
    "    .from_(wallet.get_address())\\\n",
    "    .to(contracts['loans']['SCORE'])\\\n",
    "    .value(0)\\\n",
    "    .step_limit(10000000)\\\n",
    "    .nid(NID)\\\n",
    "    .nonce(100)\\\n",
    "    .method(\"withdrawCollateral\")\\\n",
    "    .params(params)\\\n",
    "    .build()\n",
    "signed_transaction = SignedTransaction(transaction, wallet)\n",
    "tx_hash = icon_service.send_transaction(signed_transaction)\n",
    "\n",
    "res = get_tx_result(tx_hash)\n",
    "print(f'Status: {res[\"status\"]}')\n",
    "if 'eventLogs' in res.keys():\n",
    "    print(f'EventLogs: {res[\"eventLogs\"]}')\n",
    "if res['status'] == 0:\n",
    "    print(f'Failure: {res[\"failure\"]}')"
   ]
  },
  {
   "cell_type": "markdown",
   "metadata": {},
   "source": [
    "### Test Liquidation"
   ]
  },
  {
   "cell_type": "code",
   "execution_count": null,
   "metadata": {},
   "outputs": [],
   "source": [
    "# Cell 20\n",
    "# 1. Deposit collateral to fresh wallet\n",
    "\n",
    "data1 = \"{\\\"method\\\": \\\"_deposit_and_borrow\\\", \\\"params\\\": {\\\"_sender\\\": \\\"\".encode(\"utf-8\")\n",
    "data2 = \"\\\", \\\"_asset\\\": \\\"\\\", \\\"_amount\\\": 0}}\".encode(\"utf-8\")\n",
    "params = {'_data1': data1, '_data2': data2}\n",
    "transaction = CallTransactionBuilder()\\\n",
    "    .from_(btest_wallet.get_address())\\\n",
    "    .to(contracts['loans']['SCORE'])\\\n",
    "    .value(782769 * ICX // 1000)\\\n",
    "    .step_limit(10000000)\\\n",
    "    .nid(NID)\\\n",
    "    .nonce(100)\\\n",
    "    .method(\"addCollateral\")\\\n",
    "    .params(params)\\\n",
    "    .build()\n",
    "signed_transaction = SignedTransaction(transaction, btest_wallet)\n",
    "tx_hash = icon_service.send_transaction(signed_transaction)\n",
    "\n",
    "res = get_tx_result(tx_hash)\n",
    "print(f'Status: {res[\"status\"]}')\n",
    "if 'eventLogs' in res.keys():\n",
    "    print(f'EventLogs: {res[\"eventLogs\"]}')\n",
    "if res['status'] == 0:\n",
    "    print(f'Failure: {res[\"failure\"]}')"
   ]
  },
  {
   "cell_type": "code",
   "execution_count": null,
   "metadata": {},
   "outputs": [],
   "source": [
    "# Cell 21\n",
    "# 2. Check the account standing after depositing collateral - Should be Undetermined, and\n",
    "#    holding '0x2a6f1a22364bbe8000' worth of sICX.\n",
    "\n",
    "params = {'_owner': btest_wallet.get_address()}\n",
    "call = CallBuilder().from_(wallet.get_address())\\\n",
    "                    .to(contracts['loans']['SCORE'])\\\n",
    "                    .method('getAccountPositions')\\\n",
    "                    .params(params)\\\n",
    "                    .build()\n",
    "result = icon_service.call(call)\n",
    "result"
   ]
  },
  {
   "cell_type": "markdown",
   "metadata": {},
   "source": [
    "#### 3. Update the loans SCORE to add a loan of ICD to the Balanced test wallet\n",
    "Code in the on_update() method will mint and add the ICD. Adds an undercollateralized amount of ICD, 200 ICD."
   ]
  },
  {
   "cell_type": "code",
   "execution_count": null,
   "metadata": {},
   "outputs": [],
   "source": [
    "# Cell 22\n",
    "# 3a. May need to run this a few times to get the position below liquidate threshold.\n",
    "\n",
    "contract = 'loans'\n",
    "update = contracts[contract]['SCORE']\n",
    "zip_file = contracts[contract]['zip']\n",
    "deploy_transaction = DeployTransactionBuilder()\\\n",
    "    .from_(wallet.get_address())\\\n",
    "    .to(update)\\\n",
    "    .nid(NID)\\\n",
    "    .nonce(100)\\\n",
    "    .content_type(\"application/zip\")\\\n",
    "    .content(gen_deploy_data_content(zip_file))\\\n",
    "    .build()\n",
    "\n",
    "# step_limit = icon_service.estimate_step(deploy_transaction) + 100000\n",
    "step_limit = 3000000000\n",
    "\n",
    "signed_transaction = SignedTransaction(deploy_transaction, wallet, step_limit)\n",
    "tx_hash = icon_service.send_transaction(signed_transaction)\n",
    "\n",
    "res = get_tx_result(tx_hash)\n",
    "print(f'Status: {res[\"status\"]}')\n",
    "if 'eventLogs' in res.keys():\n",
    "    print(f'EventLogs: {res[\"eventLogs\"]}')\n",
    "if res['status'] == 0:\n",
    "    print(f'Failure: {res[\"failure\"]}')"
   ]
  },
  {
   "cell_type": "code",
   "execution_count": null,
   "metadata": {},
   "outputs": [],
   "source": [
    "# Cell 23\n",
    "# 4. Check the new standing of the account. Should have added '0xad78ebc5ac6200000' ICD and have standing of 'Liquidate'.\n",
    "\n",
    "params = {'_owner': btest_wallet.get_address()}\n",
    "call = CallBuilder().from_(wallet.get_address())\\\n",
    "                    .to(contracts['loans']['SCORE'])\\\n",
    "                    .method('getAccountPositions')\\\n",
    "                    .params(params)\\\n",
    "                    .build()\n",
    "result = icon_service.call(call)\n",
    "result"
   ]
  },
  {
   "cell_type": "code",
   "execution_count": null,
   "metadata": {},
   "outputs": [],
   "source": [
    "# Cell 24\n",
    "# 5. Liquidate the account position.\n",
    "\n",
    "params = {'_owner': btest_wallet.get_address()}\n",
    "transaction = CallTransactionBuilder()\\\n",
    "    .from_(wallet.get_address())\\\n",
    "    .to(contracts['loans']['SCORE'])\\\n",
    "    .value(0)\\\n",
    "    .step_limit(10000000)\\\n",
    "    .nid(NID)\\\n",
    "    .nonce(100)\\\n",
    "    .method(\"liquidate\")\\\n",
    "    .params(params)\\\n",
    "    .build()\n",
    "signed_transaction = SignedTransaction(transaction, wallet)\n",
    "tx_hash = icon_service.send_transaction(signed_transaction)\n",
    "\n",
    "res = get_tx_result(tx_hash)\n",
    "print(f'Status: {res[\"status\"]}')\n",
    "if 'eventLogs' in res.keys():\n",
    "    print(f'EventLogs: {res[\"eventLogs\"]}')\n",
    "if res['status'] == 0:\n",
    "    print(f'Failure: {res[\"failure\"]}')"
   ]
  },
  {
   "cell_type": "code",
   "execution_count": null,
   "metadata": {},
   "outputs": [],
   "source": [
    "# Cell 25\n",
    "# 6. Check the standing of the account after liquidation. Should now have zero balance for sICX and ICD.\n",
    "\n",
    "params = {'_owner': btest_wallet.get_address()}\n",
    "call = CallBuilder().from_(wallet.get_address())\\\n",
    "                    .to(contracts['loans']['SCORE'])\\\n",
    "                    .method('getAccountPositions')\\\n",
    "                    .params(params)\\\n",
    "                    .build()\n",
    "result = icon_service.call(call)\n",
    "result"
   ]
  },
  {
   "cell_type": "markdown",
   "metadata": {},
   "source": [
    "### DEX SICX Test\n",
    "\n",
    "Does the following:\n",
    "\n",
    "1. Sends ICX to the DEX\n",
    "2. Checks overall ICX balance\n",
    "3. Checks withdrawal lock\n",
    "4. Mints some SICX\n",
    "5. Trades SICX against ICX"
   ]
  },
  {
   "cell_type": "code",
   "execution_count": null,
   "metadata": {},
   "outputs": [],
   "source": [
    "# Cell 26\n",
    "\n",
    "transaction = TransactionBuilder()\\\n",
    "    .from_(wallet.get_address())\\\n",
    "    .to(contracts['dex']['SCORE'])\\\n",
    "    .value(1 * ICX)\\\n",
    "    .step_limit(10000000)\\\n",
    "    .nid(NID)\\\n",
    "    .nonce(101)\\\n",
    "    .build()\n",
    "signed_transaction = SignedTransaction(transaction, wallet)\n",
    "tx_hash = icon_service.send_transaction(signed_transaction)\n",
    "tx_hash\n",
    "print(get_tx_result(tx_hash))\n"
   ]
  },
  {
   "cell_type": "code",
   "execution_count": null,
   "metadata": {
    "scrolled": true
   },
   "outputs": [],
   "source": [
    "# Cell 27\n",
    "\n",
    "call = CallBuilder().from_(wallet.get_address())\\\n",
    "                    .to(contracts['dex']['SCORE'])\\\n",
    "                    .method('getICXBalance')\\\n",
    "                    .params({'_address': wallet.get_address()}) \\\n",
    "                    .build()\n",
    "result = icon_service.call(call)\n",
    "int(result, 0) / 10**18"
   ]
  },
  {
   "cell_type": "code",
   "execution_count": null,
   "metadata": {},
   "outputs": [],
   "source": [
    "# Cell 28\n",
    "\n",
    "call = CallBuilder().from_(wallet.get_address())\\\n",
    "                    .to(contracts['dex']['SCORE'])\\\n",
    "                    .method('getICXWithdrawLock')\\\n",
    "                    .build()\n",
    "result = icon_service.call(call)\n",
    "int(result, 0) / 10**18"
   ]
  },
  {
   "cell_type": "code",
   "execution_count": null,
   "metadata": {
    "scrolled": false
   },
   "outputs": [],
   "source": [
    "# Cell 29\n",
    "\n",
    "params = {'_to': wallet.get_address()}\n",
    "transaction = CallTransactionBuilder()\\\n",
    "    .from_(wallet.get_address())\\\n",
    "    .to(contracts['staking']['SCORE'])\\\n",
    "    .value(10 * ICX)\\\n",
    "    .step_limit(10000000)\\\n",
    "    .nid(NID)\\\n",
    "    .nonce(100)\\\n",
    "    .method(\"addCollateral\")\\\n",
    "    .params(params)\\\n",
    "    .build()\n",
    "signed_transaction = SignedTransaction(transaction, wallet)\n",
    "tx_hash = icon_service.send_transaction(signed_transaction)\n",
    "tx_hash\n",
    "print(get_tx_result(tx_hash))\n"
   ]
  },
  {
   "cell_type": "code",
   "execution_count": null,
   "metadata": {
    "scrolled": false
   },
   "outputs": [],
   "source": [
    "# Cell 30\n",
    "\n",
    "data = \"{\\\"method\\\": \\\"_swap_icx\\\"}\".encode(\"utf-8\")\n",
    "params = {'_to': contracts['dex']['SCORE'], '_value': 2 * ICX, '_data': data}\n",
    "transaction = CallTransactionBuilder()\\\n",
    "    .from_(wallet.get_address())\\\n",
    "    .to(contracts['sicx']['SCORE'])\\\n",
    "    .value(0)\\\n",
    "    .step_limit(10000000)\\\n",
    "    .nid(NID)\\\n",
    "    .nonce(100)\\\n",
    "    .method(\"transfer\")\\\n",
    "    .params(params)\\\n",
    "    .build()\n",
    "signed_transaction = SignedTransaction(transaction, wallet)\n",
    "tx_hash = icon_service.send_transaction(signed_transaction)\n",
    "tx_hash\n",
    "print(get_tx_result(tx_hash))\n"
   ]
  },
  {
   "cell_type": "code",
   "execution_count": null,
   "metadata": {},
   "outputs": [],
   "source": [
    "# Cell 31\n",
    "\n",
    "call = CallBuilder().from_(wallet.get_address())\\\n",
    "                    .to(contracts['dex']['SCORE'])\\\n",
    "                    .method('getICXBalance')\\\n",
    "                    .params({'_address': wallet.get_address()}) \\\n",
    "                    .build()\n",
    "result = icon_service.call(call)\n",
    "int(result, 0) / 10**18"
   ]
  },
  {
   "cell_type": "code",
   "execution_count": null,
   "metadata": {},
   "outputs": [],
   "source": [
    "# Cell 32\n",
    "\n",
    "call = CallBuilder().from_(wallet.get_address())\\\n",
    "                    .to(contracts['dex']['SCORE'])\\\n",
    "                    .method('getNamedPools')\\\n",
    "                    .build()\n",
    "result = icon_service.call(call)\n",
    "print(result)"
   ]
  },
  {
   "cell_type": "code",
   "execution_count": null,
   "metadata": {},
   "outputs": [],
   "source": [
    "# Cell 33\n",
    "\n",
    "call = CallBuilder().from_(wallet.get_address())\\\n",
    "                    .to(contracts['dex']['SCORE'])\\\n",
    "                    .method('getDataBatch')\\\n",
    "                    .params({'_name': 'SICXICX', '_limit': 10, '_snapshot_id': 1}) \\\n",
    "                    .build()\n",
    "result = icon_service.call(call)\n",
    "print(result)"
   ]
  },
  {
   "cell_type": "code",
   "execution_count": null,
   "metadata": {},
   "outputs": [],
   "source": [
    "# Cell 34\n",
    "\n",
    "data = \"{\\\"method\\\": \\\"_deposit\\\"}\".encode(\"utf-8\")\n",
    "params = {'_to': contracts['dex']['SCORE'], '_value': 2 * ICX, '_data': data}\n",
    "transaction = CallTransactionBuilder()\\\n",
    "    .from_(wallet.get_address())\\\n",
    "    .to(contracts['sicx']['SCORE'])\\\n",
    "    .value(0)\\\n",
    "    .step_limit(10000000)\\\n",
    "    .nid(NID)\\\n",
    "    .nonce(100)\\\n",
    "    .method(\"transfer\")\\\n",
    "    .params(params)\\\n",
    "    .build()\n",
    "signed_transaction = SignedTransaction(transaction, wallet)\n",
    "tx_hash = icon_service.send_transaction(signed_transaction)\n",
    "tx_hash\n",
    "print(get_tx_result(tx_hash))\n"
   ]
  },
  {
   "cell_type": "code",
   "execution_count": null,
   "metadata": {},
   "outputs": [],
   "source": [
    "# Cell 35\n",
    "\n",
    "data = \"{\\\"method\\\": \\\"_deposit\\\"}\".encode(\"utf-8\")\n",
    "params = {'_to': contracts['dex']['SCORE'], '_value': 2 * ICX, '_data': data}\n",
    "transaction = CallTransactionBuilder()\\\n",
    "    .from_(wallet.get_address())\\\n",
    "    .to(contracts['icd']['SCORE'])\\\n",
    "    .value(0)\\\n",
    "    .step_limit(10000000)\\\n",
    "    .nid(NID)\\\n",
    "    .nonce(100)\\\n",
    "    .method(\"transfer\")\\\n",
    "    .params(params)\\\n",
    "    .build()\n",
    "signed_transaction = SignedTransaction(transaction, wallet)\n",
    "tx_hash = icon_service.send_transaction(signed_transaction)\n",
    "tx_hash\n",
    "print(get_tx_result(tx_hash))\n"
   ]
  },
  {
   "cell_type": "code",
   "execution_count": null,
   "metadata": {},
   "outputs": [],
   "source": [
    "# Cell 36\n",
    "\n",
    "data = \"{\\\"method\\\": \\\"_deposit\\\"}\".encode(\"utf-8\")\n",
    "params = {'_to': contracts['dex']['SCORE'], '_value': 100 * ICX, '_data': data}\n",
    "transaction = CallTransactionBuilder()\\\n",
    "    .from_(wallet.get_address())\\\n",
    "    .to(contracts['bal']['SCORE'])\\\n",
    "    .value(0)\\\n",
    "    .step_limit(10000000)\\\n",
    "    .nid(NID)\\\n",
    "    .nonce(100)\\\n",
    "    .method(\"transfer\")\\\n",
    "    .params(params)\\\n",
    "    .build()\n",
    "signed_transaction = SignedTransaction(transaction, wallet)\n",
    "tx_hash = icon_service.send_transaction(signed_transaction)\n",
    "tx_hash\n",
    "print(get_tx_result(tx_hash))\n"
   ]
  },
  {
   "cell_type": "code",
   "execution_count": null,
   "metadata": {},
   "outputs": [],
   "source": [
    "# Cell 37\n",
    "\n",
    "call = CallBuilder().from_(wallet.get_address())\\\n",
    "                    .to(contracts['dex']['SCORE'])\\\n",
    "                    .method('getDeposit')\\\n",
    "                    .params({'_user': wallet.get_address(), '_tokenAddress': contracts['icd']['SCORE']}) \\\n",
    "                    .build()\n",
    "result = icon_service.call(call)\n",
    "int(result, 0) / 10**18"
   ]
  },
  {
   "cell_type": "code",
   "execution_count": null,
   "metadata": {},
   "outputs": [],
   "source": [
    "# Cell 38\n",
    "\n",
    "transaction = CallTransactionBuilder()\\\n",
    "    .from_(wallet.get_address())\\\n",
    "    .to(contracts['dex']['SCORE'])\\\n",
    "    .value(0)\\\n",
    "    .step_limit(10000000)\\\n",
    "    .nid(NID)\\\n",
    "    .nonce(100)\\\n",
    "    .method(\"add\")\\\n",
    "    .params({'_baseToken': contracts['sicx']['SCORE'], '_quoteToken': contracts['icd']['SCORE'], '_baseValue': 1 * ICX, '_quoteValue': 1 * ICX}) \\\n",
    "    .build()\n",
    "signed_transaction = SignedTransaction(transaction, wallet)\n",
    "tx_hash = icon_service.send_transaction(signed_transaction)\n",
    "tx_hash\n",
    "print(get_tx_result(tx_hash))\n"
   ]
  },
  {
   "cell_type": "code",
   "execution_count": null,
   "metadata": {},
   "outputs": [],
   "source": [
    "# Cell 39\n",
    "\n",
    "transaction = CallTransactionBuilder()\\\n",
    "    .from_(wallet.get_address())\\\n",
    "    .to(contracts['dex']['SCORE'])\\\n",
    "    .value(0)\\\n",
    "    .step_limit(10000000)\\\n",
    "    .nid(NID)\\\n",
    "    .nonce(100)\\\n",
    "    .method(\"permit\")\\\n",
    "    .params({'_pid': 1, '_permission': 1}) \\\n",
    "    .build()\n",
    "signed_transaction = SignedTransaction(transaction, wallet)\n",
    "tx_hash = icon_service.send_transaction(signed_transaction)\n",
    "tx_hash\n",
    "print(get_tx_result(tx_hash))\n"
   ]
  },
  {
   "cell_type": "code",
   "execution_count": null,
   "metadata": {},
   "outputs": [],
   "source": [
    "# Cell 40\n",
    "\n",
    "call = CallBuilder().from_(wallet.get_address())\\\n",
    "                    .to(contracts['dex']['SCORE'])\\\n",
    "                    .method('getInversePrice')\\\n",
    "                    .params({'_pid': 2}) \\\n",
    "                    .build()\n",
    "result = icon_service.call(call)\n",
    "int(result, 0) / 10**18"
   ]
  },
  {
   "cell_type": "code",
   "execution_count": null,
   "metadata": {},
   "outputs": [],
   "source": [
    "# Cell 41\n",
    "\n",
    "call = CallBuilder().from_(wallet.get_address())\\\n",
    "                    .to(contracts['dex']['SCORE'])\\\n",
    "                    .method('getPoolTotal')\\\n",
    "                    .params({'_pid': 2, '_token': contracts['icd']['SCORE']}) \\\n",
    "                    .build()\n",
    "result = icon_service.call(call)\n",
    "int(result, 0) / 10**18"
   ]
  },
  {
   "cell_type": "code",
   "execution_count": null,
   "metadata": {},
   "outputs": [],
   "source": [
    "# Cell 42\n",
    "\n",
    "call = CallBuilder().from_(wallet.get_address())\\\n",
    "                    .to(contracts['dex']['SCORE'])\\\n",
    "                    .method('getPoolId')\\\n",
    "                    .params({'_token1Address': contracts['sicx']['SCORE'], '_token2Address': contracts['icd']['SCORE'] }) \\\n",
    "                    .build()\n",
    "result = icon_service.call(call)\n",
    "print(\"pool w/ tokens: \" + str(contracts['sicx']['SCORE']) + ' & ' + str(contracts['icd']['SCORE']))\n",
    "print(result)"
   ]
  },
  {
   "cell_type": "code",
   "execution_count": null,
   "metadata": {},
   "outputs": [],
   "source": [
    "# Cell 43\n",
    "\n",
    "call = CallBuilder().from_(wallet.get_address())\\\n",
    "                    .to(contracts['dex']['SCORE'])\\\n",
    "                    .method('getPoolBase')\\\n",
    "                    .params({'_pid': 2}) \\\n",
    "                    .build()\n",
    "result = icon_service.call(call)\n",
    "print(result)\n",
    "\n",
    "call = CallBuilder().from_(wallet.get_address())\\\n",
    "                    .to(contracts['dex']['SCORE'])\\\n",
    "                    .method('getPoolQuote')\\\n",
    "                    .params({'_pid': 2}) \\\n",
    "                    .build()\n",
    "result = icon_service.call(call)\n",
    "print(result)"
   ]
  },
  {
   "cell_type": "code",
   "execution_count": null,
   "metadata": {},
   "outputs": [],
   "source": [
    "# Cell 44\n",
    "\n",
    "transaction = CallTransactionBuilder()\\\n",
    "    .from_(wallet.get_address())\\\n",
    "    .to(contracts['dex']['SCORE'])\\\n",
    "    .value(0)\\\n",
    "    .step_limit(10000000)\\\n",
    "    .nid(NID)\\\n",
    "    .nonce(100)\\\n",
    "    .method(\"setMarketName\")\\\n",
    "    .params({'_pid':2, '_name': 'SICXICD'}) \\\n",
    "    .build()\n",
    "signed_transaction = SignedTransaction(transaction, wallet)\n",
    "tx_hash = icon_service.send_transaction(signed_transaction)\n",
    "tx_hash\n",
    "print(get_tx_result(tx_hash))\n",
    "\n",
    "call = CallBuilder().from_(wallet.get_address())\\\n",
    "                    .to(contracts['dex']['SCORE'])\\\n",
    "                    .method('getNamedPools')\\\n",
    "                    .build()\n",
    "result = icon_service.call(call)\n",
    "print(result)"
   ]
  },
  {
   "cell_type": "code",
   "execution_count": null,
   "metadata": {
    "scrolled": false
   },
   "outputs": [],
   "source": [
    "# Cell 45\n",
    "\n",
    "to_token = contracts['sicx']['SCORE']\n",
    "params_data = \"{\\\"method\\\": \\\"_swap\\\", \\\"params\\\": {\\\"toToken\\\":\\\"\" + str(to_token) + \"\\\", \\\"maxSlippage\\\":10}}\"\n",
    "data = params_data.encode(\"utf-8\")\n",
    "params = {'_to': contracts['dex']['SCORE'], '_value': (int) (1 * ICX / 100), '_data': data}\n",
    "transaction = CallTransactionBuilder()\\\n",
    "    .from_(wallet.get_address())\\\n",
    "    .to(contracts['icd']['SCORE'])\\\n",
    "    .value(0)\\\n",
    "    .step_limit(10000000)\\\n",
    "    .nid(NID)\\\n",
    "    .nonce(100)\\\n",
    "    .method(\"transfer\")\\\n",
    "    .params(params)\\\n",
    "    .build()\n",
    "signed_transaction = SignedTransaction(transaction, wallet)\n",
    "tx_hash = icon_service.send_transaction(signed_transaction)\n",
    "tx_hash\n",
    "print(get_tx_result(tx_hash))\n"
   ]
  },
  {
   "cell_type": "code",
   "execution_count": null,
   "metadata": {},
   "outputs": [],
   "source": [
    "# Cell 45\n",
    "\n",
    "to_token = contracts['icd']['SCORE']\n",
    "params_data = \"{\\\"method\\\": \\\"_swap\\\", \\\"params\\\": {\\\"toToken\\\":\\\"\" + str(to_token) + \"\\\", \\\"maxSlippage\\\":250}}\"\n",
    "data = params_data.encode(\"utf-8\")\n",
    "params = {'_to': contracts['dex']['SCORE'], '_value': (int) (1 * ICX / 100), '_data': data}\n",
    "transaction = CallTransactionBuilder()\\\n",
    "    .from_(wallet.get_address())\\\n",
    "    .to(contracts['sicx']['SCORE'])\\\n",
    "    .value(0)\\\n",
    "    .step_limit(10000000)\\\n",
    "    .nid(NID)\\\n",
    "    .nonce(100)\\\n",
    "    .method(\"transfer\")\\\n",
    "    .params(params)\\\n",
    "    .build()\n",
    "signed_transaction = SignedTransaction(transaction, wallet)\n",
    "tx_hash = icon_service.send_transaction(signed_transaction)\n",
    "tx_hash\n",
    "print(get_tx_result(tx_hash))\n"
   ]
  },
  {
   "cell_type": "code",
   "execution_count": null,
   "metadata": {},
   "outputs": [],
   "source": [
    "# Cell 46\n",
    "\n",
    "call = CallBuilder().from_(wallet.get_address())\\\n",
    "                    .to(contracts['dex']['SCORE'])\\\n",
    "                    .method('getPoolTotal')\\\n",
    "                    .params({'_pid': 2, '_token': contracts['sicx']['SCORE']}) \\\n",
    "                    .build()\n",
    "result = icon_service.call(call)\n",
    "int(result, 0) / 10**18"
   ]
  },
  {
   "cell_type": "code",
   "execution_count": null,
   "metadata": {},
   "outputs": [],
   "source": [
    "# Cell 47\n",
    "\n",
    "call = CallBuilder().from_(wallet.get_address())\\\n",
    "                    .to(contracts['dex']['SCORE'])\\\n",
    "                    .method('getPoolTotal')\\\n",
    "                    .params({'_pid': 2, '_token': contracts['icd']['SCORE']}) \\\n",
    "                    .build()\n",
    "result = icon_service.call(call)\n",
    "int(result, 0) / 10**18"
   ]
  },
  {
   "cell_type": "code",
   "execution_count": null,
   "metadata": {},
   "outputs": [],
   "source": [
    "# Cell 48\n",
    "\n",
    "call = CallBuilder().from_(wallet.get_address())\\\n",
    "                    .to(contracts['dex']['SCORE'])\\\n",
    "                    .method('totalSupply')\\\n",
    "                    .params({'_pid': 2}) \\\n",
    "                    .build()\n",
    "result = icon_service.call(call)\n",
    "int(result, 0) / 10**18"
   ]
  },
  {
   "cell_type": "code",
   "execution_count": null,
   "metadata": {
    "scrolled": false
   },
   "outputs": [],
   "source": [
    "# Cell 49\n",
    "\n",
    "transaction = CallTransactionBuilder()\\\n",
    "    .from_(wallet.get_address())\\\n",
    "    .to(contracts['dex']['SCORE'])\\\n",
    "    .value(0)\\\n",
    "    .step_limit(10000000)\\\n",
    "    .nid(NID)\\\n",
    "    .nonce(100)\\\n",
    "    .method(\"remove\")\\\n",
    "    .params({'_pid':2, '_value': 1 * ICX, '_withdraw': 1}) \\\n",
    "    .build()\n",
    "signed_transaction = SignedTransaction(transaction, wallet)\n",
    "tx_hash = icon_service.send_transaction(signed_transaction)\n",
    "tx_hash\n",
    "print(get_tx_result(tx_hash))\n",
    "\n",
    "call = CallBuilder().from_(wallet.get_address())\\\n",
    "                    .to(contracts['dex']['SCORE'])\\\n",
    "                    .method('getPoolTotal')\\\n",
    "                    .params({'_pid': 2, '_token': contracts['icd']['SCORE']}) \\\n",
    "                    .build()\n",
    "result = icon_service.call(call)\n",
    "int(result, 0) / 10**18"
   ]
  },
  {
   "cell_type": "code",
   "execution_count": null,
   "metadata": {},
   "outputs": [],
   "source": [
    "# Cell 50\n",
    "\n",
    "data = \"{\\\"method\\\": \\\"_deposit\\\"}\".encode(\"utf-8\")\n",
    "params = {'_to': contracts['dex']['SCORE'], '_value': 30 * ICX, '_data': data}\n",
    "transaction = CallTransactionBuilder()\\\n",
    "    .from_(wallet.get_address())\\\n",
    "    .to(contracts['icd']['SCORE'])\\\n",
    "    .value(0)\\\n",
    "    .step_limit(10000000)\\\n",
    "    .nid(NID)\\\n",
    "    .nonce(100)\\\n",
    "    .method(\"transfer\")\\\n",
    "    .params(params)\\\n",
    "    .build()\n",
    "signed_transaction = SignedTransaction(transaction, wallet)\n",
    "tx_hash = icon_service.send_transaction(signed_transaction)\n",
    "tx_hash\n",
    "print(get_tx_result(tx_hash))\n"
   ]
  },
  {
   "cell_type": "code",
   "execution_count": null,
   "metadata": {},
   "outputs": [],
   "source": [
    "# Cell 51\n",
    "\n",
    "transaction = TransactionBuilder()\\\n",
    "    .from_(wallet.get_address())\\\n",
    "    .to(contracts['dex']['SCORE'])\\\n",
    "    .value(1 * ICX)\\\n",
    "    .step_limit(10000000)\\\n",
    "    .nid(NID)\\\n",
    "    .nonce(101)\\\n",
    "    .build()\n",
    "signed_transaction = SignedTransaction(transaction, wallet)\n",
    "tx_hash = icon_service.send_transaction(signed_transaction)\n",
    "tx_hash\n",
    "print(get_tx_result(tx_hash))\n"
   ]
  },
  {
   "cell_type": "code",
   "execution_count": null,
   "metadata": {},
   "outputs": [],
   "source": [
    "# Cell 52\n",
    "\n",
    "transaction = CallTransactionBuilder()\\\n",
    "    .from_(wallet.get_address())\\\n",
    "    .to(contracts['dex']['SCORE'])\\\n",
    "    .value(0)\\\n",
    "    .step_limit(10000000)\\\n",
    "    .nid(NID)\\\n",
    "    .nonce(100)\\\n",
    "    .method(\"cancelSicxicxOrder\")\\\n",
    "    .params({}) \\\n",
    "    .build()\n",
    "signed_transaction = SignedTransaction(transaction, wallet)\n",
    "tx_hash = icon_service.send_transaction(signed_transaction)\n",
    "tx_hash\n",
    "print(get_tx_result(tx_hash))\n"
   ]
  },
  {
   "cell_type": "code",
   "execution_count": null,
   "metadata": {},
   "outputs": [],
   "source": [
    "# Cell 38\n",
    "\n",
    "transaction = CallTransactionBuilder()\\\n",
    "    .from_(wallet.get_address())\\\n",
    "    .to(contracts['dex']['SCORE'])\\\n",
    "    .value(0)\\\n",
    "    .step_limit(10000000)\\\n",
    "    .nid(NID)\\\n",
    "    .nonce(100)\\\n",
    "    .method(\"add\")\\\n",
    "    .params({'_baseToken': contracts['bal']['SCORE'], '_quoteToken': contracts['icd']['SCORE'], '_baseValue': 100 * ICX, '_quoteValue': 10 * ICX}) \\\n",
    "    .build()\n",
    "signed_transaction = SignedTransaction(transaction, wallet)\n",
    "tx_hash = icon_service.send_transaction(signed_transaction)\n",
    "tx_hash\n",
    "print(get_tx_result(tx_hash))\n"
   ]
  },
  {
   "cell_type": "code",
   "execution_count": null,
   "metadata": {},
   "outputs": [],
   "source": [
    "transaction = CallTransactionBuilder()\\\n",
    "    .from_(wallet.get_address())\\\n",
    "    .to(contracts['dex']['SCORE'])\\\n",
    "    .value(0)\\\n",
    "    .step_limit(10000000)\\\n",
    "    .nid(NID)\\\n",
    "    .nonce(100)\\\n",
    "    .method(\"setMarketName\")\\\n",
    "    .params({'_pid':3, '_name': 'BALNICD'}) \\\n",
    "    .build()\n",
    "signed_transaction = SignedTransaction(transaction, wallet)\n",
    "tx_hash = icon_service.send_transaction(signed_transaction)\n",
    "tx_hash\n",
    "print(get_tx_result(tx_hash))\n",
    "\n",
    "call = CallBuilder().from_(wallet.get_address())\\\n",
    "                    .to(contracts['dex']['SCORE'])\\\n",
    "                    .method('getNamedPools')\\\n",
    "                    .build()\n",
    "result = icon_service.call(call)\n",
    "print(result)"
   ]
  },
  {
   "cell_type": "code",
   "execution_count": null,
   "metadata": {},
   "outputs": [],
   "source": [
    "to_token = contracts['bal']['SCORE']\n",
    "params_data = \"{\\\"method\\\": \\\"_swap\\\", \\\"params\\\": {\\\"toToken\\\":\\\"\" + str(to_token) + \"\\\", \\\"maxSlippage\\\":250}}\"\n",
    "data = params_data.encode(\"utf-8\")\n",
    "params = {'_to': contracts['dex']['SCORE'], '_value': (int) (1 * ICX), '_data': data}\n",
    "transaction = CallTransactionBuilder()\\\n",
    "    .from_(wallet.get_address())\\\n",
    "    .to(contracts['icd']['SCORE'])\\\n",
    "    .value(0)\\\n",
    "    .step_limit(10000000)\\\n",
    "    .nid(NID)\\\n",
    "    .nonce(100)\\\n",
    "    .method(\"transfer\")\\\n",
    "    .params(params)\\\n",
    "    .build()\n",
    "signed_transaction = SignedTransaction(transaction, wallet)\n",
    "tx_hash = icon_service.send_transaction(signed_transaction)\n",
    "tx_hash\n",
    "print(get_tx_result(tx_hash))\n"
   ]
  },
  {
   "cell_type": "code",
   "execution_count": null,
   "metadata": {},
   "outputs": [],
   "source": []
  }
 ],
 "metadata": {
  "kernelspec": {
   "display_name": "Python 3",
   "language": "python",
   "name": "python3"
  },
  "language_info": {
   "codemirror_mode": {
    "name": "ipython",
    "version": 3
   },
   "file_extension": ".py",
   "mimetype": "text/x-python",
   "name": "python",
   "nbconvert_exporter": "python",
   "pygments_lexer": "ipython3",
   "version": "3.8.3"
  }
 },
 "nbformat": 4,
 "nbformat_minor": 4
}
