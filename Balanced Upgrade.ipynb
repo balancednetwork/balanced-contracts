{
 "cells": [
  {
   "cell_type": "code",
   "execution_count": 49,
   "metadata": {},
   "outputs": [],
   "source": [
    "from iconsdk.exception import JSONRPCException\n",
    "from iconsdk.libs.in_memory_zip import gen_deploy_data_content\n",
    "from iconsdk.icon_service import IconService\n",
    "from iconsdk.providers.http_provider import HTTPProvider\n",
    "from iconsdk.builder.transaction_builder import CallTransactionBuilder, TransactionBuilder, DeployTransactionBuilder\n",
    "from iconsdk.builder.call_builder import CallBuilder\n",
    "from iconsdk.signed_transaction import SignedTransaction\n",
    "from iconsdk.wallet.wallet import KeyWallet\n",
    "from repeater import retry\n",
    "import json\n"
   ]
  },
  {
   "cell_type": "code",
   "execution_count": 50,
   "metadata": {},
   "outputs": [],
   "source": [
    "icon_service = IconService(HTTPProvider(\"https://sejong.net.solidwallet.io\", 3))\n",
    "NID = 83\n",
    "NONCE = 100\n",
    "GOVERNANCE_ADDRESS = \"cx0000000000000000000000000000000000000000\"\n",
    "\n",
    "@retry(JSONRPCException, tries=10, delay=1, back_off=2)\n",
    "def get_tx_result(_tx_hash):\n",
    "    tx_result = icon_service.get_transaction_result(_tx_hash)\n",
    "    return tx_result\n",
    "\n",
    "# checking transaction result\n",
    "def check_tx_result(res):\n",
    "    if res['status'] == 0:\n",
    "        print(\"Tx Failed, Message: \" + res['failure']['message'])\n",
    "    else:\n",
    "        print(\"Success\")\n",
    "        \n",
    "        \n",
    "GOVERNANCE_SCORE = \"cx06eaddea58321a98bd0e1c9bd70f4680d4f3a73a\"\n",
    "DEX_SCORE = \"cx113466143604608cbf58d84674d9360b29f08530\"\n",
    "LOANS_SCORE = \"cx2148bdb92054b2306076f3579c0ab7fced91a9ca\"\n",
    "\n",
    "\n",
    "#MAINNET ADDRESS\n",
    "# GOVERNANCE_SCORE = \"cx44250a12074799e26fdeee75648ae47e2cc84219\"\n",
    "# DEX_SCORE = \"cx481f7e10c7c4fc59d6ac68472018f10977a91b39\"\n",
    "#LOANS_SCORE = \"cx66d4d90f5f113eba575bf793570135f9b10cece1\"\n",
    "\n"
   ]
  },
  {
   "cell_type": "code",
   "execution_count": 51,
   "metadata": {},
   "outputs": [],
   "source": [
    "with open(\"./keystore/staking_test.pwd\", \"r\") as f:\n",
    "    key_data = f.read()\n",
    "deployer_wallet = KeyWallet.load(\"./keystore/staking_test.json\", key_data)\n",
    "\n",
    "#using private key to load test wallet to perform transactions in case of need\n",
    "# tester_wallet = KeyWallet.load(bytes.fromhex(\"\"))\n",
    "# tester_wallet.get_address()"
   ]
  },
  {
   "cell_type": "code",
   "execution_count": 52,
   "metadata": {},
   "outputs": [],
   "source": [
    "def deploy_contract(wallet, _to_address, _name, params):\n",
    "    deploy_transaction = DeployTransactionBuilder() \\\n",
    "        .from_(wallet) \\\n",
    "        .to(_to_address) \\\n",
    "        .nid(NID) \\\n",
    "        .params(params) \\\n",
    "        .version(3) \\\n",
    "        .nonce(100) \\\n",
    "        .content_type(\"application/zip\") \\\n",
    "        .content(gen_deploy_data_content(_name)) \\\n",
    "        .build()\n",
    "\n",
    "    estimate_step = icon_service.estimate_step(deploy_transaction)\n",
    "    step_limit = estimate_step + 40000000\n",
    "    signed_transaction = SignedTransaction(deploy_transaction, deployer_wallet, step_limit)\n",
    "\n",
    "    return icon_service.send_transaction(signed_transaction)\n",
    "\n",
    "\n",
    "def send_tx(wallet, _to_address, method, params, value):\n",
    "    transaction = CallTransactionBuilder() \\\n",
    "        .from_(wallet.get_address()) \\\n",
    "        .to(_to_address) \\\n",
    "        .value(value) \\\n",
    "        .step_limit(10000000) \\\n",
    "        .nid(NID) \\\n",
    "        .nonce(100) \\\n",
    "        .method(method) \\\n",
    "        .params(params) \\\n",
    "        .build()\n",
    "    signed_transaction = SignedTransaction(transaction, wallet)\n",
    "    tx_hash = icon_service.send_transaction(signed_transaction)\n",
    "\n",
    "    return get_tx_result(tx_hash)\n",
    "\n",
    "\n",
    "def call_tx(_to_address, method, params):\n",
    "    call = CallBuilder() \\\n",
    "        .to(_to_address) \\\n",
    "        .method(method) \\\n",
    "        .params(params) \\\n",
    "        .build()\n",
    "\n",
    "    return icon_service.call(call)\n",
    "\n",
    "#swap function for DEX\n",
    "def swap(from_token, to_token, amount,wallet):\n",
    "    data2 = json.dumps({\"method\": \"_swap\", \"params\": {\"toToken\":str(to_token)}})\n",
    "    params = {'_to': contract_addresses['dex'], '_value': amount, '_data': data2.encode()}\n",
    "    transaction = CallTransactionBuilder()\\\n",
    "        .from_(wallet.get_address())\\\n",
    "        .to(from_token)\\\n",
    "        .step_limit(10000000)\\\n",
    "        .value(0)\\\n",
    "        .nid(NID)\\\n",
    "        .nonce(100)\\\n",
    "        .method(\"transfer\")\\\n",
    "        .params(params)\\\n",
    "        .build()\n",
    "    signed_transaction = SignedTransaction(transaction, wallet)\n",
    "    tx_hash = icon_service.send_transaction(signed_transaction)\n",
    "    return get_tx_result(tx_hash)"
   ]
  },
  {
   "cell_type": "code",
   "execution_count": 53,
   "metadata": {},
   "outputs": [
    {
     "name": "stdout",
     "output_type": "stream",
     "text": [
      "{'baln': 'cx44b142082a0612f60a5cff9e4204773b4799b102', 'bnUSD': 'cx50b5bc7d1088848ff106601d6a194aa16e6f9d83', 'bwt': 'cx655079c90d80b378819eddf3b05501392ecb0074', 'daofund': 'cx38e81d7b705784b2ddb586f0fdd3616e565b18b3', 'dex': 'cx113466143604608cbf58d84674d9360b29f08530', 'dividends': 'cxaab78dec61aded71309e9529feaf25e740526c63', 'feehandler': 'cx941a4bcca5c25d249e4ea7bef05edce854eabe40', 'loans': 'cx2148bdb92054b2306076f3579c0ab7fced91a9ca', 'oracle': 'cx0999df3af49a227fc8799f0d78d19cd8fe4bb76d', 'rebalancing': 'cxc2d1b9bbdfa51cf404c47e229c71773954acc453', 'reserve': 'cx513777210d38e8c3ba4a5f6ecd313f7bda86c4f2', 'rewards': 'cx4fb4db59d14adc6b9f6ed3d31f1154415bbe4e7e', 'router': 'cx7e58ab69fd019eaf56fd072d00f1634b64f80d13', 'sicx': 'cx0508faa2f6b1f333fa84190db7c80c9dbf822cb4', 'staking': 'cx6b88083a463739c94f1aa76341df1a21bddca2be'}\n"
     ]
    }
   ],
   "source": [
    "# Getting all the SCORE address from GOVERNANCE SCORE\n",
    "# The result shouldn't have router and feehandler in keys\n",
    "contract_addresses = call_tx(GOVERNANCE_SCORE, 'getAddresses', {})\n",
    "print(contract_addresses)"
   ]
  },
  {
   "cell_type": "code",
   "execution_count": 69,
   "metadata": {},
   "outputs": [
    {
     "name": "stdout",
     "output_type": "stream",
     "text": [
      "Taking loans\n",
      "cx2148bdb92054b2306076f3579c0ab7fced91a9ca\n",
      "cx50b5bc7d1088848ff106601d6a194aa16e6f9d83\n",
      "cx0508faa2f6b1f333fa84190db7c80c9dbf822cb4\n",
      "Retrying in 1 seconds...\n",
      "Retrying in 2 seconds...\n",
      "Success\n",
      "Retrying in 1 seconds...\n",
      "Retrying in 2 seconds...\n",
      "Success\n"
     ]
    }
   ],
   "source": [
    "# Taking loans and swapping tokens on dex \n",
    "\n",
    "print(\"Taking loans\")\n",
    "res = send_tx(deployer_wallet, contract_addresses['loans'], \"depositAndBorrow\", {'_asset': 'bnUSD', '_amount': 11 * 10 **18}, 50 * 10 **18)\n",
    "check_tx_result(res)\n",
    "\n",
    "\n",
    "res = swap(contract_addresses['bnUSD'], contract_addresses['sicx'],5*10**18, deployer_wallet)\n",
    "check_tx_result(res)\n",
    "#print txHash incase of need\n",
    "# print(res['txHash'])\n",
    "\n",
    "# res = swap(contract_addresses['sicx'], contract_addresses['bnUSD'],15*10**18, deployer_wallet)\n",
    "# check_tx_result(res)\n",
    "\n",
    "# res = swap(data['bnUSD'], usds_score,50*10**18, deployer_wallet)\n",
    "# check_tx_result(res)\n",
    "\n",
    "# res = swap(data['bnUSD'], data['sicx'],50*10**18, deployer_wallet)\n",
    "# check_tx_result(res)\n",
    "\n",
    "# res = swap(data['sicx'], omm_score,10*10**18, deployer_wallet)\n",
    "# check_tx_result(res)\n",
    "\n",
    "# res = swap(omm_score, data['sicx'],5*10**18, deployer_wallet)\n",
    "# check_tx_result(res)\n"
   ]
  },
  {
   "cell_type": "markdown",
   "metadata": {},
   "source": [
    "# PHASE 1"
   ]
  },
  {
   "cell_type": "markdown",
   "metadata": {},
   "source": [
    "In Phase 1 , \n",
    "We deploy:\n",
    "    Router contract,\n",
    "    Fee handler contract and\n",
    "    Governance Contract (update)"
   ]
  },
  {
   "cell_type": "markdown",
   "metadata": {},
   "source": [
    "## DEPLOY ROUTER CONTRACT"
   ]
  },
  {
   "cell_type": "code",
   "execution_count": 57,
   "metadata": {},
   "outputs": [
    {
     "name": "stdout",
     "output_type": "stream",
     "text": [
      "Retrying in 1 seconds...\n",
      "Retrying in 2 seconds...\n",
      "scoreAddress: cx2774afbaaf39fa395024fdb8d2a10dd9823c8490\n",
      "Success\n"
     ]
    }
   ],
   "source": [
    "# We need to set all the staking sicx and dex address on router on_install \n",
    "res = get_tx_result(deploy_contract(deployer_wallet.get_address(), GOVERNANCE_ADDRESS, './core_contracts/router',\n",
    "                                   {\"_governance\": GOVERNANCE_SCORE}))\n",
    "print('scoreAddress:', res.get('scoreAddress', ''))\n",
    "router_score = res.get('scoreAddress', '')\n",
    "check_tx_result(res)"
   ]
  },
  {
   "cell_type": "markdown",
   "metadata": {},
   "source": [
    "## UPDATE GOVERNANCE CONTRACT"
   ]
  },
  {
   "cell_type": "code",
   "execution_count": 58,
   "metadata": {},
   "outputs": [
    {
     "name": "stdout",
     "output_type": "stream",
     "text": [
      "Retrying in 1 seconds...\n",
      "scoreAddress: cx06eaddea58321a98bd0e1c9bd70f4680d4f3a73a\n",
      "Success\n",
      "{'baln': 'cx44b142082a0612f60a5cff9e4204773b4799b102', 'bnUSD': 'cx50b5bc7d1088848ff106601d6a194aa16e6f9d83', 'bwt': 'cx655079c90d80b378819eddf3b05501392ecb0074', 'daofund': 'cx38e81d7b705784b2ddb586f0fdd3616e565b18b3', 'dex': 'cx113466143604608cbf58d84674d9360b29f08530', 'dividends': 'cxaab78dec61aded71309e9529feaf25e740526c63', 'feehandler': 'cx941a4bcca5c25d249e4ea7bef05edce854eabe40', 'loans': 'cx2148bdb92054b2306076f3579c0ab7fced91a9ca', 'oracle': 'cx0999df3af49a227fc8799f0d78d19cd8fe4bb76d', 'rebalancing': 'cxc2d1b9bbdfa51cf404c47e229c71773954acc453', 'reserve': 'cx513777210d38e8c3ba4a5f6ecd313f7bda86c4f2', 'rewards': 'cx4fb4db59d14adc6b9f6ed3d31f1154415bbe4e7e', 'router': 'cx7e58ab69fd019eaf56fd072d00f1634b64f80d13', 'sicx': 'cx0508faa2f6b1f333fa84190db7c80c9dbf822cb4', 'staking': 'cx6b88083a463739c94f1aa76341df1a21bddca2be'}\n"
     ]
    }
   ],
   "source": [
    "tx = get_tx_result(\n",
    "    deploy_contract(deployer_wallet.get_address(), GOVERNANCE_SCORE, './core_contracts/governance', {}))\n",
    "print('scoreAddress:', tx.get('scoreAddress', ''))\n",
    "check_tx_result(tx)\n",
    "\n",
    "# In this readonly-call , the feehandler and router score should show None.\n",
    "print(call_tx(GOVERNANCE_SCORE, 'getAddresses', {}))\n"
   ]
  },
  {
   "cell_type": "markdown",
   "metadata": {},
   "source": [
    "## DEPLOY FEE HANDLER"
   ]
  },
  {
   "cell_type": "code",
   "execution_count": 59,
   "metadata": {},
   "outputs": [
    {
     "name": "stdout",
     "output_type": "stream",
     "text": [
      "Retrying in 1 seconds...\n",
      "Retrying in 2 seconds...\n",
      "scoreAddress: cx4131b1b29bd66f162a4d7537fdc20f6aa3ae9782\n",
      "Success\n"
     ]
    }
   ],
   "source": [
    "res = get_tx_result(deploy_contract(deployer_wallet.get_address(), GOVERNANCE_ADDRESS, './core_contracts/fees',\n",
    "                                   {\"_governance\": GOVERNANCE_SCORE}))\n",
    "print('scoreAddress:', res.get('scoreAddress', ''))\n",
    "FEEHANDLER_SCORE = res.get('scoreAddress', '')\n",
    "check_tx_result(res)"
   ]
  },
  {
   "cell_type": "markdown",
   "metadata": {},
   "source": [
    "# PHASE 2 (Once the contract is accepted)"
   ]
  },
  {
   "cell_type": "markdown",
   "metadata": {},
   "source": [
    "We set the fee handler and router addresses in governance contract and also sets all the function of fee handler."
   ]
  },
  {
   "cell_type": "markdown",
   "metadata": {},
   "source": [
    "#### SET ROUTER ADDRESS AND FEEHANDLER ADDRESS IN GOVERNANCE"
   ]
  },
  {
   "cell_type": "code",
   "execution_count": 60,
   "metadata": {},
   "outputs": [
    {
     "name": "stdout",
     "output_type": "stream",
     "text": [
      "Retrying in 1 seconds...\n",
      "Success\n",
      "{'baln': 'cx44b142082a0612f60a5cff9e4204773b4799b102', 'bnUSD': 'cx50b5bc7d1088848ff106601d6a194aa16e6f9d83', 'bwt': 'cx655079c90d80b378819eddf3b05501392ecb0074', 'daofund': 'cx38e81d7b705784b2ddb586f0fdd3616e565b18b3', 'dex': 'cx113466143604608cbf58d84674d9360b29f08530', 'dividends': 'cxaab78dec61aded71309e9529feaf25e740526c63', 'feehandler': 'cx4131b1b29bd66f162a4d7537fdc20f6aa3ae9782', 'loans': 'cx2148bdb92054b2306076f3579c0ab7fced91a9ca', 'oracle': 'cx0999df3af49a227fc8799f0d78d19cd8fe4bb76d', 'rebalancing': 'cxc2d1b9bbdfa51cf404c47e229c71773954acc453', 'reserve': 'cx513777210d38e8c3ba4a5f6ecd313f7bda86c4f2', 'rewards': 'cx4fb4db59d14adc6b9f6ed3d31f1154415bbe4e7e', 'router': 'cx2774afbaaf39fa395024fdb8d2a10dd9823c8490', 'sicx': 'cx0508faa2f6b1f333fa84190db7c80c9dbf822cb4', 'staking': 'cx6b88083a463739c94f1aa76341df1a21bddca2be'}\n"
     ]
    }
   ],
   "source": [
    "contract_addresses['router'] = router_score\n",
    "contract_addresses['feehandler'] = FEEHANDLER_SCORE\n",
    "res = send_tx(deployer_wallet, GOVERNANCE_SCORE, \"setAddresses\", {\"_addresses\": contract_addresses}, 0)\n",
    "check_tx_result(res)\n",
    "\n",
    "# the read-only fn should return the fee handler and router address instead of None.\n",
    "print(call_tx(GOVERNANCE_SCORE, 'getAddresses', {}))"
   ]
  },
  {
   "cell_type": "markdown",
   "metadata": {},
   "source": [
    "#### SET ACCEPTED DIVIDENDS TOKEN"
   ]
  },
  {
   "cell_type": "code",
   "execution_count": 61,
   "metadata": {},
   "outputs": [
    {
     "name": "stdout",
     "output_type": "stream",
     "text": [
      "Retrying in 1 seconds...\n",
      "Retrying in 2 seconds...\n",
      "Success\n"
     ]
    },
    {
     "data": {
      "text/plain": [
       "['cx0508faa2f6b1f333fa84190db7c80c9dbf822cb4',\n",
       " 'cx50b5bc7d1088848ff106601d6a194aa16e6f9d83',\n",
       " 'cx44b142082a0612f60a5cff9e4204773b4799b102']"
      ]
     },
     "execution_count": 61,
     "metadata": {},
     "output_type": "execute_result"
    }
   ],
   "source": [
    "# call the tx through Governance SCORE.\n",
    "\n",
    "res2 = send_tx(deployer_wallet, GOVERNANCE_SCORE, \"setAcceptedDividendTokens\", {'_tokens': [contract_addresses['sicx'],\n",
    "            contract_addresses['bnUSD'],\n",
    "            contract_addresses[\"baln\"]]}, 0)\n",
    "check_tx_result(res2)\n",
    "call_tx(FEEHANDLER_SCORE, 'getAcceptedDividendTokens', {})"
   ]
  },
  {
   "cell_type": "markdown",
   "metadata": {},
   "source": [
    "#### SET FEE PROCESSING INTERVAL"
   ]
  },
  {
   "cell_type": "code",
   "execution_count": 62,
   "metadata": {},
   "outputs": [
    {
     "name": "stdout",
     "output_type": "stream",
     "text": [
      "Retrying in 1 seconds...\n",
      "Retrying in 2 seconds...\n",
      "Success\n"
     ]
    },
    {
     "data": {
      "text/plain": [
       "'0x64'"
      ]
     },
     "execution_count": 62,
     "metadata": {},
     "output_type": "execute_result"
    }
   ],
   "source": [
    "res = send_tx(deployer_wallet, GOVERNANCE_SCORE, \"setFeeProcessingInterval\", {\"_interval\": 100}, 0)\n",
    "check_tx_result(res)\n",
    "call_tx(FEEHANDLER_SCORE, 'getFeeProcessingInterval', {})"
   ]
  },
  {
   "cell_type": "markdown",
   "metadata": {},
   "source": [
    "#### SET ROUTE"
   ]
  },
  {
   "cell_type": "code",
   "execution_count": 63,
   "metadata": {},
   "outputs": [
    {
     "name": "stdout",
     "output_type": "stream",
     "text": [
      "Retrying in 1 seconds...\n",
      "Retrying in 2 seconds...\n",
      "Success\n",
      "{'fromToken': 'cx683c78174c740c3c6215de0c3ead1fad024324d6', 'path': ['cx0508faa2f6b1f333fa84190db7c80c9dbf822cb4', 'cx44b142082a0612f60a5cff9e4204773b4799b102'], 'toToken': 'cx44b142082a0612f60a5cff9e4204773b4799b102'}\n"
     ]
    }
   ],
   "source": [
    "toToken = contract_addresses['baln']     \n",
    "#sejong_address\n",
    "omm_score = \"cx683c78174c740c3c6215de0c3ead1fad024324d6\"\n",
    "usds_score =\"cx2e008873de78f5bf82008a46b529d94924d9b6ae\" \n",
    "iusdc_score = \"cxb2c075e9130440dd64e6bfd3fe09e5c629f6e183\"\n",
    "\n",
    "#mainnet address\n",
    "# usdc_score = \"cxbb2871f468a3008f80b08fdde5b8b951583acf06\"\n",
    "# iusdc_score = \"cxae3034235540b924dfcc1b45836c293dcc82bfb7\"\n",
    "# omm_score = \"cx1a29259a59f463a67bb2ef84398b30ca56b5830a\"\n",
    "# craft_score = \"cx2e6d0fc0eca04965d06038c8406093337f085fcf\"\n",
    "# metanyx_score = \"cx369a5f4ce4f4648dfc96ba0c8229be0693b4eca2\"\n",
    "# iusdt_score = \"cx3a36ea1f6b9aa3d2dd9cb68e8987bcc3aabaaa88\"\n",
    "\n",
    "# FOR OMM\n",
    "fromToken = omm_score\n",
    "path = [ contract_addresses['sicx'],\n",
    "        contract_addresses['baln']\n",
    "        ]\n",
    "res = send_tx(deployer_wallet, GOVERNANCE_SCORE, \"setRoute\",  {'_fromToken':fromToken, '_toToken':toToken, '_path': path}, 0)\n",
    "check_tx_result(res)\n",
    "print(call_tx(FEEHANDLER_SCORE, 'getRoute', {\"_fromToken\":fromToken,\"_toToken\":contract_addresses['baln']}))\n",
    "\n",
    "# FOR usds\n",
    "# fromToken = usds_score\n",
    "# path = [ contract_addresses['bnUSD'],\n",
    "#         contract_addresses['baln']\n",
    "#         ]\n",
    "# res = send_tx(deployer_wallet, GOVERNANCE_SCORE, \"setRoute\",  {'_fromToken':fromToken, '_toToken':toToken, '_path': path}, 0)\n",
    "# check_tx_result(res)\n",
    "# print(call_tx(FEEHANDLER_SCORE, 'getRoute', {\"_fromToken\":fromToken,\"_toToken\":contract_addresses['baln']}))\n",
    "\n",
    "# FOR iusdc\n",
    "# fromToken = iusdc_score\n",
    "# path = [ contract_addresses['bnUSD'],\n",
    "#         contract_addresses['baln']\n",
    "#         ]\n",
    "# res = send_tx(deployer_wallet, GOVERNANCE_SCORE, \"setRoute\",  {'_fromToken':fromToken, '_toToken':toToken, '_path': path}, 0)\n",
    "# check_tx_result(res)\n",
    "# print(call_tx(FEEHANDLER_SCORE, 'getRoute', {\"_fromToken\":fromToken,\"_toToken\":contract_addresses['baln']}))\n",
    "\n",
    "# FOR craft\n",
    "# fromToken = craft_score\n",
    "# path = [ data['sicx'],\n",
    "#         data['baln']\n",
    "#         ]\n",
    "# send_tx(deployer_wallet, FEEHANDLER_SCORE, \"setRoute\",  {'_fromToken':fromToken, '_toToken':toToken, '_path': path}, 0)\n",
    "\n",
    "# FOR metanyx\n",
    "# fromToken = metanyx_score\n",
    "# path = [ data['bnUSD'],\n",
    "#         data['baln']\n",
    "#         ]\n",
    "# send_tx(deployer_wallet, FEEHANDLER_SCORE, \"setRoute\",  {'_fromToken':fromToken, '_toToken':toToken, '_path': path}, 0)\n",
    "\n",
    "# FOR iusdt\n",
    "# fromToken = iusdt_score\n",
    "# path = [ data['bnUSD'],\n",
    "#         data['baln']\n",
    "#         ]\n",
    "# send_tx(deployer_wallet, FEEHANDLER_SCORE, \"setRoute\",  {'_fromToken':fromToken, '_toToken':toToken, '_path': path}, 0)\n"
   ]
  },
  {
   "cell_type": "markdown",
   "metadata": {},
   "source": [
    "## UPDATE DEX CONTRACT"
   ]
  },
  {
   "cell_type": "code",
   "execution_count": 64,
   "metadata": {},
   "outputs": [
    {
     "name": "stdout",
     "output_type": "stream",
     "text": [
      "Retrying in 1 seconds...\n",
      "Retrying in 2 seconds...\n",
      "scoreAddress: cx113466143604608cbf58d84674d9360b29f08530\n",
      "Success\n"
     ]
    }
   ],
   "source": [
    "# We need to set fee handler address on on_update.\n",
    "tx = get_tx_result(\n",
    "    deploy_contract(deployer_wallet.get_address(), DEX_SCORE, './core_contracts/dex', {}))\n",
    "print('scoreAddress:', tx.get('scoreAddress', ''))\n",
    "check_tx_result(tx)"
   ]
  },
  {
   "cell_type": "markdown",
   "metadata": {},
   "source": [
    "## UPDATE LOANS CONTRACT"
   ]
  },
  {
   "cell_type": "code",
   "execution_count": 65,
   "metadata": {},
   "outputs": [
    {
     "name": "stdout",
     "output_type": "stream",
     "text": [
      "Retrying in 1 seconds...\n",
      "Retrying in 2 seconds...\n",
      "scoreAddress: cx2148bdb92054b2306076f3579c0ab7fced91a9ca\n",
      "Success\n"
     ]
    }
   ],
   "source": [
    "tx = get_tx_result(\n",
    "    deploy_contract(deployer_wallet.get_address(), LOANS_SCORE, './core_contracts/loans', {}))\n",
    "print('scoreAddress:', tx.get('scoreAddress', ''))\n",
    "check_tx_result(tx)\n"
   ]
  },
  {
   "cell_type": "code",
   "execution_count": 70,
   "metadata": {},
   "outputs": [
    {
     "name": "stdout",
     "output_type": "stream",
     "text": [
      "Taking loans\n",
      "cx2148bdb92054b2306076f3579c0ab7fced91a9ca\n",
      "cx50b5bc7d1088848ff106601d6a194aa16e6f9d83\n",
      "cx0508faa2f6b1f333fa84190db7c80c9dbf822cb4\n",
      "Retrying in 1 seconds...\n",
      "Retrying in 2 seconds...\n",
      "Retrying in 4 seconds...\n",
      "Retrying in 8 seconds...\n",
      "Retrying in 16 seconds...\n",
      "Retrying in 32 seconds...\n"
     ]
    },
    {
     "ename": "KeyboardInterrupt",
     "evalue": "",
     "output_type": "error",
     "traceback": [
      "\u001b[0;31m---------------------------------------------------------------------------\u001b[0m",
      "\u001b[0;31mJSONRPCException\u001b[0m                          Traceback (most recent call last)",
      "\u001b[0;32m~/Documents/ibriz/score/balanced/balanced-contracts/repeater.py\u001b[0m in \u001b[0;36mf_retry\u001b[0;34m(*args, **kwargs)\u001b[0m\n\u001b[1;32m     53\u001b[0m                 \u001b[0;32mtry\u001b[0m\u001b[0;34m:\u001b[0m\u001b[0;34m\u001b[0m\u001b[0;34m\u001b[0m\u001b[0m\n\u001b[0;32m---> 54\u001b[0;31m                     \u001b[0;32mreturn\u001b[0m \u001b[0mf\u001b[0m\u001b[0;34m(\u001b[0m\u001b[0;34m*\u001b[0m\u001b[0margs\u001b[0m\u001b[0;34m,\u001b[0m \u001b[0;34m**\u001b[0m\u001b[0mkwargs\u001b[0m\u001b[0;34m)\u001b[0m\u001b[0;34m\u001b[0m\u001b[0;34m\u001b[0m\u001b[0m\n\u001b[0m\u001b[1;32m     55\u001b[0m                 \u001b[0;32mexcept\u001b[0m \u001b[0mexception_to_check\u001b[0m \u001b[0;32mas\u001b[0m \u001b[0me\u001b[0m\u001b[0;34m:\u001b[0m\u001b[0;34m\u001b[0m\u001b[0;34m\u001b[0m\u001b[0m\n",
      "\u001b[0;32m<ipython-input-50-1e4b81f8e5ca>\u001b[0m in \u001b[0;36mget_tx_result\u001b[0;34m(_tx_hash)\u001b[0m\n\u001b[1;32m      7\u001b[0m \u001b[0;32mdef\u001b[0m \u001b[0mget_tx_result\u001b[0m\u001b[0;34m(\u001b[0m\u001b[0m_tx_hash\u001b[0m\u001b[0;34m)\u001b[0m\u001b[0;34m:\u001b[0m\u001b[0;34m\u001b[0m\u001b[0;34m\u001b[0m\u001b[0m\n\u001b[0;32m----> 8\u001b[0;31m     \u001b[0mtx_result\u001b[0m \u001b[0;34m=\u001b[0m \u001b[0micon_service\u001b[0m\u001b[0;34m.\u001b[0m\u001b[0mget_transaction_result\u001b[0m\u001b[0;34m(\u001b[0m\u001b[0m_tx_hash\u001b[0m\u001b[0;34m)\u001b[0m\u001b[0;34m\u001b[0m\u001b[0;34m\u001b[0m\u001b[0m\n\u001b[0m\u001b[1;32m      9\u001b[0m     \u001b[0;32mreturn\u001b[0m \u001b[0mtx_result\u001b[0m\u001b[0;34m\u001b[0m\u001b[0;34m\u001b[0m\u001b[0m\n",
      "\u001b[0;32m~/.local/lib/python3.7/site-packages/iconsdk/icon_service.py\u001b[0m in \u001b[0;36mget_transaction_result\u001b[0;34m(self, tx_hash, full_response)\u001b[0m\n\u001b[1;32m    183\u001b[0m         \u001b[0mparams\u001b[0m \u001b[0;34m=\u001b[0m \u001b[0;34m{\u001b[0m\u001b[0;34m'txHash'\u001b[0m\u001b[0;34m:\u001b[0m \u001b[0mtx_hash\u001b[0m\u001b[0;34m}\u001b[0m\u001b[0;34m\u001b[0m\u001b[0;34m\u001b[0m\u001b[0m\n\u001b[0;32m--> 184\u001b[0;31m         \u001b[0mresult\u001b[0m \u001b[0;34m=\u001b[0m \u001b[0mself\u001b[0m\u001b[0;34m.\u001b[0m\u001b[0m__provider\u001b[0m\u001b[0;34m.\u001b[0m\u001b[0mmake_request\u001b[0m\u001b[0;34m(\u001b[0m\u001b[0;34m'icx_getTransactionResult'\u001b[0m\u001b[0;34m,\u001b[0m \u001b[0mparams\u001b[0m\u001b[0;34m,\u001b[0m \u001b[0mfull_response\u001b[0m\u001b[0;34m)\u001b[0m\u001b[0;34m\u001b[0m\u001b[0;34m\u001b[0m\u001b[0m\n\u001b[0m\u001b[1;32m    185\u001b[0m \u001b[0;34m\u001b[0m\u001b[0m\n",
      "\u001b[0;32m~/.local/lib/python3.7/site-packages/iconsdk/providers/http_provider.py\u001b[0m in \u001b[0;36mmake_request\u001b[0;34m(self, method, params, full_response)\u001b[0m\n\u001b[1;32m    117\u001b[0m             \u001b[0;32mtry\u001b[0m\u001b[0;34m:\u001b[0m\u001b[0;34m\u001b[0m\u001b[0;34m\u001b[0m\u001b[0m\n\u001b[0;32m--> 118\u001b[0;31m                 \u001b[0;32mreturn\u001b[0m \u001b[0mself\u001b[0m\u001b[0;34m.\u001b[0m\u001b[0m_return_custom_response\u001b[0m\u001b[0;34m(\u001b[0m\u001b[0mresponse\u001b[0m\u001b[0;34m,\u001b[0m \u001b[0mfull_response\u001b[0m\u001b[0;34m)\u001b[0m\u001b[0;34m\u001b[0m\u001b[0;34m\u001b[0m\u001b[0m\n\u001b[0m\u001b[1;32m    119\u001b[0m             \u001b[0;32mexcept\u001b[0m \u001b[0mJSONDecodeError\u001b[0m\u001b[0;34m:\u001b[0m\u001b[0;34m\u001b[0m\u001b[0;34m\u001b[0m\u001b[0m\n",
      "\u001b[0;32m~/.local/lib/python3.7/site-packages/iconsdk/providers/http_provider.py\u001b[0m in \u001b[0;36m_return_custom_response\u001b[0;34m(response, full_response)\u001b[0m\n\u001b[1;32m    135\u001b[0m             \u001b[0;32mreturn\u001b[0m \u001b[0mcontent\u001b[0m\u001b[0;34m[\u001b[0m\u001b[0;34m'result'\u001b[0m\u001b[0;34m]\u001b[0m\u001b[0;34m\u001b[0m\u001b[0;34m\u001b[0m\u001b[0m\n\u001b[0;32m--> 136\u001b[0;31m         \u001b[0;32mraise\u001b[0m \u001b[0mJSONRPCException\u001b[0m\u001b[0;34m(\u001b[0m\u001b[0mcontent\u001b[0m\u001b[0;34m[\u001b[0m\u001b[0;34m\"error\"\u001b[0m\u001b[0;34m]\u001b[0m\u001b[0;34m)\u001b[0m\u001b[0;34m\u001b[0m\u001b[0;34m\u001b[0m\u001b[0m\n\u001b[0m",
      "\u001b[0;31mJSONRPCException\u001b[0m: {'code': -31002, 'message': 'Pending : Pending'}",
      "\nDuring handling of the above exception, another exception occurred:\n",
      "\u001b[0;31mKeyboardInterrupt\u001b[0m                         Traceback (most recent call last)",
      "\u001b[0;32m<ipython-input-70-48fba377cbc5>\u001b[0m in \u001b[0;36m<module>\u001b[0;34m\u001b[0m\n\u001b[1;32m      3\u001b[0m \u001b[0mprint\u001b[0m\u001b[0;34m(\u001b[0m\u001b[0mcontract_addresses\u001b[0m\u001b[0;34m[\u001b[0m\u001b[0;34m'bnUSD'\u001b[0m\u001b[0;34m]\u001b[0m\u001b[0;34m)\u001b[0m\u001b[0;34m\u001b[0m\u001b[0;34m\u001b[0m\u001b[0m\n\u001b[1;32m      4\u001b[0m \u001b[0mprint\u001b[0m\u001b[0;34m(\u001b[0m\u001b[0mcontract_addresses\u001b[0m\u001b[0;34m[\u001b[0m\u001b[0;34m'sicx'\u001b[0m\u001b[0;34m]\u001b[0m\u001b[0;34m)\u001b[0m\u001b[0;34m\u001b[0m\u001b[0;34m\u001b[0m\u001b[0m\n\u001b[0;32m----> 5\u001b[0;31m \u001b[0mres\u001b[0m \u001b[0;34m=\u001b[0m \u001b[0msend_tx\u001b[0m\u001b[0;34m(\u001b[0m\u001b[0mdeployer_wallet\u001b[0m\u001b[0;34m,\u001b[0m \u001b[0mcontract_addresses\u001b[0m\u001b[0;34m[\u001b[0m\u001b[0;34m'loans'\u001b[0m\u001b[0;34m]\u001b[0m\u001b[0;34m,\u001b[0m \u001b[0;34m\"depositAndBorrow\"\u001b[0m\u001b[0;34m,\u001b[0m \u001b[0;34m{\u001b[0m\u001b[0;34m'_asset'\u001b[0m\u001b[0;34m:\u001b[0m \u001b[0;34m'bnUSD'\u001b[0m\u001b[0;34m,\u001b[0m \u001b[0;34m'_amount'\u001b[0m\u001b[0;34m:\u001b[0m \u001b[0;36m11\u001b[0m \u001b[0;34m*\u001b[0m \u001b[0;36m10\u001b[0m \u001b[0;34m**\u001b[0m\u001b[0;36m18\u001b[0m\u001b[0;34m}\u001b[0m\u001b[0;34m,\u001b[0m \u001b[0;36m50\u001b[0m \u001b[0;34m*\u001b[0m \u001b[0;36m10\u001b[0m \u001b[0;34m**\u001b[0m\u001b[0;36m18\u001b[0m\u001b[0;34m)\u001b[0m\u001b[0;34m\u001b[0m\u001b[0;34m\u001b[0m\u001b[0m\n\u001b[0m\u001b[1;32m      6\u001b[0m \u001b[0mcheck_tx_result\u001b[0m\u001b[0;34m(\u001b[0m\u001b[0mres\u001b[0m\u001b[0;34m)\u001b[0m\u001b[0;34m\u001b[0m\u001b[0;34m\u001b[0m\u001b[0m\n\u001b[1;32m      7\u001b[0m \u001b[0;34m\u001b[0m\u001b[0m\n",
      "\u001b[0;32m<ipython-input-52-8aa4bbd814ab>\u001b[0m in \u001b[0;36msend_tx\u001b[0;34m(wallet, _to_address, method, params, value)\u001b[0m\n\u001b[1;32m     32\u001b[0m     \u001b[0mtx_hash\u001b[0m \u001b[0;34m=\u001b[0m \u001b[0micon_service\u001b[0m\u001b[0;34m.\u001b[0m\u001b[0msend_transaction\u001b[0m\u001b[0;34m(\u001b[0m\u001b[0msigned_transaction\u001b[0m\u001b[0;34m)\u001b[0m\u001b[0;34m\u001b[0m\u001b[0;34m\u001b[0m\u001b[0m\n\u001b[1;32m     33\u001b[0m \u001b[0;34m\u001b[0m\u001b[0m\n\u001b[0;32m---> 34\u001b[0;31m     \u001b[0;32mreturn\u001b[0m \u001b[0mget_tx_result\u001b[0m\u001b[0;34m(\u001b[0m\u001b[0mtx_hash\u001b[0m\u001b[0;34m)\u001b[0m\u001b[0;34m\u001b[0m\u001b[0;34m\u001b[0m\u001b[0m\n\u001b[0m\u001b[1;32m     35\u001b[0m \u001b[0;34m\u001b[0m\u001b[0m\n\u001b[1;32m     36\u001b[0m \u001b[0;34m\u001b[0m\u001b[0m\n",
      "\u001b[0;32m~/Documents/ibriz/score/balanced/balanced-contracts/repeater.py\u001b[0m in \u001b[0;36mf_retry\u001b[0;34m(*args, **kwargs)\u001b[0m\n\u001b[1;32m     59\u001b[0m                     \u001b[0;32melse\u001b[0m\u001b[0;34m:\u001b[0m\u001b[0;34m\u001b[0m\u001b[0;34m\u001b[0m\u001b[0m\n\u001b[1;32m     60\u001b[0m                         \u001b[0mprint\u001b[0m\u001b[0;34m(\u001b[0m\u001b[0mmsg\u001b[0m\u001b[0;34m)\u001b[0m\u001b[0;34m\u001b[0m\u001b[0;34m\u001b[0m\u001b[0m\n\u001b[0;32m---> 61\u001b[0;31m                     \u001b[0msleep\u001b[0m\u001b[0;34m(\u001b[0m\u001b[0mmdelay\u001b[0m\u001b[0;34m)\u001b[0m\u001b[0;34m\u001b[0m\u001b[0;34m\u001b[0m\u001b[0m\n\u001b[0m\u001b[1;32m     62\u001b[0m                     \u001b[0mmtries\u001b[0m \u001b[0;34m-=\u001b[0m \u001b[0;36m1\u001b[0m\u001b[0;34m\u001b[0m\u001b[0;34m\u001b[0m\u001b[0m\n\u001b[1;32m     63\u001b[0m                     \u001b[0mmdelay\u001b[0m \u001b[0;34m*=\u001b[0m \u001b[0mback_off\u001b[0m\u001b[0;34m\u001b[0m\u001b[0;34m\u001b[0m\u001b[0m\n",
      "\u001b[0;31mKeyboardInterrupt\u001b[0m: "
     ]
    }
   ],
   "source": [
    "print(\"Taking loans\")\n",
    "res = send_tx(deployer_wallet, contract_addresses['loans'], \"depositAndBorrow\", {'_asset': 'bnUSD', '_amount': 100 * 10 **18}, 500 * 10 **18)\n",
    "check_tx_result(res)\n",
    "\n",
    "#Swapping bnUSD to sICX\n",
    "res = swap(contract_addresses['bnUSD'], contract_addresses['sicx'],5*10**18,deployer_wallet)\n",
    "check_tx_result(res)"
   ]
  },
  {
   "cell_type": "code",
   "execution_count": null,
   "metadata": {},
   "outputs": [],
   "source": []
  }
 ],
 "metadata": {
  "kernelspec": {
   "display_name": "Python 3",
   "language": "python",
   "name": "python3"
  },
  "language_info": {
   "codemirror_mode": {
    "name": "ipython",
    "version": 3
   },
   "file_extension": ".py",
   "mimetype": "text/x-python",
   "name": "python",
   "nbconvert_exporter": "python",
   "pygments_lexer": "ipython3",
   "version": "3.8.5"
  }
 },
 "nbformat": 4,
 "nbformat_minor": 4
}
